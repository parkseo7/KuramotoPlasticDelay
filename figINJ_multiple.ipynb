{
 "cells": [
  {
   "cell_type": "markdown",
   "metadata": {},
   "source": [
    "# About\n",
    "\n",
    "Numerical plots pertaining to trials of an N-dim Kuramoto system with adaptive delays and introduced injury to the connection topology at midtime. Requires a folder of .mat files from the the following scripts:\n",
    " - script_inj.m\n",
    "\n",
    "Uses the following packages and functions:"
   ]
  },
  {
   "cell_type": "markdown",
   "metadata": {},
   "source": [
    "# Library"
   ]
  },
  {
   "cell_type": "code",
   "execution_count": 1,
   "metadata": {},
   "outputs": [],
   "source": [
    "from __future__ import division, print_function\n",
    "\n",
    "%matplotlib inline\n",
    "# Toggle on/off\n",
    "# %matplotlib notebook\n",
    "\n",
    "import os\n",
    "import numpy as np\n",
    "import scipy.io as sio\n",
    "from scipy import optimize\n",
    "from scipy import stats\n",
    "import matplotlib.cm as cm\n",
    "import matplotlib.pyplot as plt\n",
    "import matplotlib.transforms as tsfm\n",
    "import math\n",
    "from math import pi\n",
    "\n",
    "from lib import *\n",
    "\n",
    "from IPython.display import clear_output"
   ]
  },
  {
   "cell_type": "markdown",
   "metadata": {},
   "source": [
    "# Directories"
   ]
  },
  {
   "cell_type": "code",
   "execution_count": 2,
   "metadata": {},
   "outputs": [],
   "source": [
    "# Data files\n",
    "im_folder_p = 'matlab_fig7_np'\n",
    "im_folder_np = 'matlab_fig7_np'\n",
    "\n",
    "# Directory\n",
    "dir_main = os.getcwd()\n",
    "dir_p = os.path.join(dir_main, 'data', im_folder_p)\n",
    "dir_np = os.path.join(dir_main, 'data', im_folder_np)"
   ]
  },
  {
   "cell_type": "markdown",
   "metadata": {},
   "source": [
    "# Import and compile data"
   ]
  },
  {
   "cell_type": "markdown",
   "metadata": {},
   "source": [
    "## Constant parameters"
   ]
  },
  {
   "cell_type": "code",
   "execution_count": 3,
   "metadata": {},
   "outputs": [],
   "source": [
    "filenames = os.listdir(dir_p)\n",
    "dir_sam = os.path.join(dir_p, filenames[0])\n",
    "dict_mat = sio.loadmat(dir_sam)\n",
    "\n",
    "# Constant parameters\n",
    "param = {'N': dict_mat['N'][0,0],\n",
    "         'g': dict_mat['g'][0,0],\n",
    "         'omega0': dict_mat['omega0'][0,0],\n",
    "         # 'gain': dict_mat['gain'][0,0],\n",
    "         'tf': dict_mat['tf'][0,0],\n",
    "         'tau0': dict_mat['tau0'][0,0],\n",
    "         # 'inj': dict_mat['inj'][0,0],\n",
    "         # 'A': dict_mat['A'],\n",
    "         't_inj': dict_mat['t_inj'][0,0]\n",
    "         }\n",
    "\n",
    "gain = dict_mat['gain'][0,0]\n",
    "init_freq = dict_mat['init_freq'][0,0]\n",
    "init_std = dict_mat['std'][0,0]\n",
    "\n",
    "# Asymptotic percentage\n",
    "asy = 0.1"
   ]
  },
  {
   "cell_type": "markdown",
   "metadata": {},
   "source": [
    "## Import plastic arrays"
   ]
  },
  {
   "cell_type": "code",
   "execution_count": 4,
   "metadata": {},
   "outputs": [],
   "source": [
    "# Setup arrays and variables\n",
    "files_p = os.listdir(dir_p)\n",
    "\n",
    "inj_p = []\n",
    "delta_p = []\n",
    "Omega_p = []\n",
    "\n",
    "for i in range(len(files_p)):\n",
    "    \n",
    "    dir_file_p = os.path.join(dir_p, files_p[i])\n",
    "    dict_p = sio.loadmat(dir_file_p)\n",
    "\n",
    "    # Compile solution dictionary\n",
    "    sol_p = {'t': np.reshape(dict_p['t'], -1),\n",
    "             'y': dict_p['y'],\n",
    "             'yp': dict_p['yp'],\n",
    "             'tau': dict_p['tau'],\n",
    "             'taup': dict_p['taup']\n",
    "            }\n",
    "\n",
    "    # Injury data\n",
    "    new_inj = dict_p['inj'][0,0]\n",
    "    new_A = dict_p['A']\n",
    "    \n",
    "    # Get time index ind that is closest to t_inj:\n",
    "    ind_p = np.max(np.where(sol_p['t'] < param['t_inj']))\n",
    "    \n",
    "    # PROCESS DATA\n",
    "    sol_p2 = {'t': sol_p['t'][ind_p+1:],\n",
    "              'y': sol_p['y'][ind_p+1:],\n",
    "              'yp': sol_p['yp'][ind_p+1:],\n",
    "              'tau': sol_p['tau'][ind_p+1:]\n",
    "             }\n",
    "\n",
    "    # Estimate the global frequency:\n",
    "    arr_omega_p2 = asylib.weight_avg(sol_p2['t'], sol_p2['yp'], asy)\n",
    "    asy_Omega_p2 = np.sum(arr_omega_p2) / arr_omega_p2.size\n",
    "\n",
    "    # Frequency variance over time\n",
    "    Omega_vars_p2 = asylib.weight_avg(sol_p2['t'], (sol_p2['yp'] - asy_Omega_p2)**2, asy)\n",
    "    Omega_var_p2 = np.mean(Omega_vars_p2)\n",
    "\n",
    "    # Get array of asymptotic phases:\n",
    "    arr_lin_p2 = asy_Omega_p2 * sol_p2['t']\n",
    "    arr_lin_p2 = arr_lin_p2[:,None]\n",
    "\n",
    "    arr_phases_p2 = sol_p2['y'] - arr_lin_p2\n",
    "    asy_phases_p2 = asylib.weight_avg(sol_p2['t'], arr_phases_p2, asy)\n",
    "\n",
    "    # Mod asy_phases:\n",
    "    asy_phases_p2 = asylib.mod_pi(asy_phases_p2)\n",
    "\n",
    "    # Phase variance at end times (delta**2 estimate)\n",
    "    delta2_p2 = np.var(asy_phases_p2)\n",
    "\n",
    "    # Phase variance over time\n",
    "    phase_vars_p2 = asylib.weight_avg(sol_p2['t'], (arr_phases_p2 - asy_phases_p2)**2, asy)\n",
    "    phase_var_p2 = np.mean(phase_vars_p2)\n",
    "\n",
    "    tau_p2 = sol_p2['tau'][-1]\n",
    "    \n",
    "    # STORE DATA\n",
    "    inj_p.append(new_inj)\n",
    "    delta_p.append(np.sqrt(delta2_p2))\n",
    "    Omega_p.append(asy_Omega_p2)\n",
    "\n",
    "# Convert to arrays\n",
    "inj_p = np.array(inj_p)\n",
    "delta_p = np.array(delta_p)\n",
    "Omega_p = np.array(Omega_p)\n",
    "\n",
    "\n",
    "# Sort arrays\n",
    "sort_p = np.argsort(inj_p)\n",
    "\n",
    "inj_p = inj_p[sort_p]\n",
    "delta_p = delta_p[sort_p]\n",
    "Omega_p = Omega_p[sort_p]"
   ]
  },
  {
   "cell_type": "markdown",
   "metadata": {},
   "source": [
    "## Import non-plastic arrays"
   ]
  },
  {
   "cell_type": "code",
   "execution_count": 5,
   "metadata": {},
   "outputs": [],
   "source": [
    "# Setup arrays and variables\n",
    "files_np = os.listdir(dir_np)\n",
    "\n",
    "inj_np = []\n",
    "delta_np = []\n",
    "Omega_np = []\n",
    "\n",
    "for i in range(len(files_np)):\n",
    "    \n",
    "    dir_file_np = os.path.join(dir_np, files_np[i])\n",
    "    dict_np = sio.loadmat(dir_file_np)\n",
    "\n",
    "    # Compile solution dictionary\n",
    "    sol_np = {'t': np.reshape(dict_np['t'], -1),\n",
    "              'y': dict_np['y'],\n",
    "              'yp': dict_np['yp'],\n",
    "              'tau': dict_np['tau'],\n",
    "              'taup': dict_np['taup']\n",
    "             }\n",
    "\n",
    "    # Injury data\n",
    "    new_inj = dict_np['inj'][0,0]\n",
    "    new_A = dict_np['A']\n",
    "    \n",
    "    # Get time index ind that is closest to t_inj:\n",
    "    ind_np = np.max(np.where(sol_np['t'] < param['t_inj']))\n",
    "    \n",
    "    # PROCESS DATA\n",
    "    sol_np2 = {'t': sol_np['t'][ind_np+1:],\n",
    "              'y': sol_np['y'][ind_np+1:],\n",
    "              'yp': sol_np['yp'][ind_np+1:],\n",
    "              'tau': sol_np['tau'][ind_np+1:]\n",
    "             }\n",
    "\n",
    "    # Estimate the global frequency:\n",
    "    arr_omega_np2 = asylib.weight_avg(sol_np2['t'], sol_np2['yp'], asy)\n",
    "    asy_Omega_np2 = np.sum(arr_omega_np2) / arr_omega_np2.size\n",
    "\n",
    "    # Frequency variance over time\n",
    "    Omega_vars_np2 = asylib.weight_avg(sol_np2['t'], (sol_np2['yp'] - asy_Omega_np2)**2, asy)\n",
    "    Omega_var_np2 = np.mean(Omega_vars_np2)\n",
    "\n",
    "    # Get array of asymptotic phases:\n",
    "    arr_lin_np2 = asy_Omega_np2 * sol_np2['t']\n",
    "    arr_lin_np2 = arr_lin_np2[:,None]\n",
    "\n",
    "    arr_phases_np2 = sol_np2['y'] - arr_lin_np2\n",
    "    asy_phases_np2 = asylib.weight_avg(sol_np2['t'], arr_phases_np2, asy)\n",
    "\n",
    "    # Mod asy_phases:\n",
    "    asy_phases_np2 = asylib.mod_pi(asy_phases_np2)\n",
    "\n",
    "    # Phase variance at end times (delta**2 estimate)\n",
    "    delta2_np2 = np.var(asy_phases_np2)\n",
    "\n",
    "    # Phase variance over time\n",
    "    phase_vars_np2 = asylib.weight_avg(sol_np2['t'], (arr_phases_np2 - asy_phases_np2)**2, asy)\n",
    "    phase_var_np2 = np.mean(phase_vars_np2)\n",
    "\n",
    "    tau_np2 = sol_np2['tau'][-1]\n",
    "    \n",
    "    # STORE DATA\n",
    "    inj_np.append(new_inj)\n",
    "    delta_np.append(np.sqrt(delta2_np2))\n",
    "    Omega_np.append(asy_Omega_np2)\n",
    "\n",
    "# Convert to arrays\n",
    "inj_np = np.array(inj_np)\n",
    "delta_np = np.array(delta_np)\n",
    "Omega_np = np.array(Omega_np)\n",
    "\n",
    "# Sort arrays\n",
    "sort_np = np.argsort(inj_np)\n",
    "\n",
    "inj_np = inj_np[sort_np]\n",
    "delta_np = delta_np[sort_np]\n",
    "Omega_np = Omega_np[sort_np]"
   ]
  },
  {
   "cell_type": "markdown",
   "metadata": {},
   "source": [
    "# Plot"
   ]
  },
  {
   "cell_type": "markdown",
   "metadata": {},
   "source": [
    "## Options"
   ]
  },
  {
   "cell_type": "code",
   "execution_count": 6,
   "metadata": {},
   "outputs": [],
   "source": [
    "# Plot positions [left, bottom, width, height] \n",
    "bbox0 = [0.1, 0.1, 0.40, 0.8] # Fig 7a: Plot of injured asy. frequency over increasing injury\n",
    "bbox1 = [0.6, 0.1, 0.40, 0.8] # Fig 7a: Plot of injured asy. delta over increasing injury\n",
    "\n",
    "\n",
    "# Figure c,d,e,f:\n",
    "line_opts = {'linewidth': 1.0,\n",
    "             'alpha': 0.4\n",
    "            }\n",
    "\n",
    "omega_opts = {'linewidth': 1.2,\n",
    "              'linestyle': 'solid',\n",
    "              'alpha': 0.8,\n",
    "              'color': 'green'\n",
    "              }\n",
    "\n",
    "line_opts2 = {'linewidth': 2.0,\n",
    "              'alpha': 0.9,\n",
    "              'color': 'red'\n",
    "              }"
   ]
  },
  {
   "cell_type": "markdown",
   "metadata": {},
   "source": [
    "## Generate figure"
   ]
  },
  {
   "cell_type": "code",
   "execution_count": 7,
   "metadata": {
    "scrolled": false
   },
   "outputs": [
    {
     "name": "stdout",
     "output_type": "stream",
     "text": [
      "{'N': 30, 'g': 1.5, 'omega0': 1, 'tf': 300, 'tau0': 2, 't_inj': 150}\n"
     ]
    },
    {
     "data": {
      "image/png": "[encoded data removed]",
      "text/plain": [
       "<Figure size 960x320 with 2 Axes>"
      ]
     },
     "metadata": {},
     "output_type": "display_data"
    }
   ],
   "source": [
    "fig, ax = plt.subplots(2, figsize=(12,4), dpi=80)\n",
    "\n",
    "# Set positions\n",
    "ax[0].set_position(bbox0)\n",
    "ax[1].set_position(bbox1)\n",
    "\n",
    "# Figure A\n",
    "# ax[0].set_xlim(left=0, right=1)\n",
    "ax[0].scatter(inj_np, Omega_np, color='black', zorder=1)\n",
    "ax[0].plot(inj_np, Omega_np, color='black', zorder=0, **line_opts)\n",
    "\n",
    "ax[0].scatter(inj_np, 1 + Omega_p, color='red', zorder=1)\n",
    "ax[0].plot(inj_np, 1 + Omega_p, color='red', zorder=0, **line_opts)\n",
    "\n",
    "ax[0].axhline(y=param['omega0'], zorder=-1, **omega_opts)\n",
    "\n",
    "# Figure B\n",
    "# ax[1].set_xlim(left=0, right=1)\n",
    "ax[1].scatter(inj_np, delta_np, color='black', zorder=1)\n",
    "ax[1].plot(inj_np, delta_np, color='black', zorder=0, **line_opts)\n",
    "\n",
    "ax[1].scatter(inj_np, 1 + delta_p, color='red', zorder=1)\n",
    "ax[1].plot(inj_np, 1 + delta_p, color='red', zorder=0, **line_opts)\n",
    "\n",
    "ax[1].axhline(y=0, zorder=-1, color='black', linewidth=0.8)\n",
    "\n",
    "print(param)"
   ]
  },
  {
   "cell_type": "markdown",
   "metadata": {},
   "source": [
    "## Status"
   ]
  },
  {
   "cell_type": "code",
   "execution_count": 8,
   "metadata": {},
   "outputs": [
    {
     "name": "stdout",
     "output_type": "stream",
     "text": [
      "[0.25816514 0.2809678  0.313752   0.34853613 0.41562256 0.45588541\n",
      " 0.57812499 0.98684148 0.99001055 1.00438838]\n"
     ]
    }
   ],
   "source": [
    "print(Omega_np)"
   ]
  },
  {
   "cell_type": "code",
   "execution_count": null,
   "metadata": {},
   "outputs": [],
   "source": []
  }
 ],
 "metadata": {
  "kernelspec": {
   "display_name": "Python 3",
   "language": "python",
   "name": "python3"
  },
  "language_info": {
   "codemirror_mode": {
    "name": "ipython",
    "version": 3
   },
   "file_extension": ".py",
   "mimetype": "text/x-python",
   "name": "python",
   "nbconvert_exporter": "python",
   "pygments_lexer": "ipython3",
   "version": "3.6.5"
  }
 },
 "nbformat": 4,
 "nbformat_minor": 2
}
