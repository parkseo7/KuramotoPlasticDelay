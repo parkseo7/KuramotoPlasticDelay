{
 "cells": [
  {
   "cell_type": "markdown",
   "metadata": {},
   "source": [
    "# About\n",
    "\n",
    "Numerical plots pertaining to trials of an N-dim Kuramoto system with adaptive delays. Requires a folder of .mat files from the the following scripts:\n",
    " - scriptND_iter.m\n",
    " - script.m\n",
    "\n",
    "Uses the following packages and functions:"
   ]
  },
  {
   "cell_type": "markdown",
   "metadata": {},
   "source": [
    "# Library"
   ]
  },
  {
   "cell_type": "code",
   "execution_count": 1,
   "metadata": {},
   "outputs": [],
   "source": [
    "from __future__ import division, print_function\n",
    "\n",
    "%matplotlib inline\n",
    "# Toggle on/off\n",
    "# %matplotlib notebook\n",
    "\n",
    "import os\n",
    "import numpy as np\n",
    "import scipy.io as sio\n",
    "from scipy import optimize\n",
    "from scipy import stats\n",
    "import matplotlib.cm as cm\n",
    "import matplotlib.pyplot as plt\n",
    "import matplotlib.transforms as tsfm\n",
    "import math\n",
    "from math import pi\n",
    "\n",
    "from lib import *\n",
    "\n",
    "from IPython.display import clear_output"
   ]
  },
  {
   "cell_type": "markdown",
   "metadata": {},
   "source": [
    "# Directories"
   ]
  },
  {
   "cell_type": "code",
   "execution_count": 2,
   "metadata": {},
   "outputs": [],
   "source": [
    "# Data files (for fig.4d)\n",
    "import_folder = 'matlab_fig5' # 'matlabND_multi_N30_4','matlabND_multi_N30_2'\n",
    "export_folder = 'export'\n",
    "ex_name = 'fig5'\n",
    "\n",
    "# Directory\n",
    "dir_main = os.getcwd()\n",
    "dir_im = os.path.join(dir_main, 'data', import_folder)\n",
    "dir_ex = os.path.join(dir_main, 'data', export_folder)\n",
    "\n",
    "filenames = os.listdir(dir_im)"
   ]
  },
  {
   "cell_type": "markdown",
   "metadata": {},
   "source": [
    "# Import and compile data"
   ]
  },
  {
   "cell_type": "markdown",
   "metadata": {},
   "source": [
    "## Constant parameters"
   ]
  },
  {
   "cell_type": "code",
   "execution_count": 3,
   "metadata": {},
   "outputs": [],
   "source": [
    "dir_sam = os.path.join(dir_im, filenames[0])\n",
    "dict_mat = sio.loadmat(dir_sam)\n",
    "\n",
    "param = {'g': dict_mat['g'][0,0],\n",
    "         'omega0': dict_mat['omega0'][0,0],\n",
    "         'gain': dict_mat['gain'][0,0],\n",
    "         'tf': dict_mat['tf'][0,0],\n",
    "         'tau0': dict_mat['tau0'][0,0],\n",
    "         }\n",
    "\n",
    "# Asymptotic percentage\n",
    "asy = 0.1"
   ]
  },
  {
   "cell_type": "markdown",
   "metadata": {},
   "source": [
    "## Asymptotic values"
   ]
  },
  {
   "cell_type": "code",
   "execution_count": 4,
   "metadata": {},
   "outputs": [
    {
     "name": "stdout",
     "output_type": "stream",
     "text": [
      "Trial: sol_num1.mat, init.Delta = 0.2949379116922256\n",
      "Trial: sol_num10.mat, init.Delta = 0.37995150038852427\n",
      "Trial: sol_num2.mat, init.Delta = 0.037419873827384154\n",
      "Trial: sol_num3.mat, init.Delta = 0.07767681666684478\n",
      "Trial: sol_num4.mat, init.Delta = 0.08200937081388482\n",
      "Trial: sol_num5.mat, init.Delta = 0.07763938723148117\n",
      "Trial: sol_num6.mat, init.Delta = 0.4473438436940578\n",
      "Trial: sol_num7.mat, init.Delta = 0.07059425933456942\n",
      "Trial: sol_num8.mat, init.Delta = 0.1046520097079719\n",
      "Trial: sol_num9.mat, init.Delta = 0.26768853840846824\n"
     ]
    }
   ],
   "source": [
    "# Compiled arrays\n",
    "init_freqs = np.zeros(len(filenames))\n",
    "init_stds = np.zeros(len(filenames))\n",
    "asy_freqs = np.zeros(len(filenames))\n",
    "asy_stds = np.zeros(len(filenames))\n",
    "var_freqs = np.zeros(len(filenames))\n",
    "\n",
    "for i in range(len(filenames)):\n",
    "    \n",
    "    # Import .mat file\n",
    "    dir_mat = os.path.join(dir_im, filenames[i])\n",
    "    dict_mat = sio.loadmat(dir_mat)\n",
    "    \n",
    "    # Compile solution dictionary\n",
    "    sol = {'t': np.reshape(dict_mat['t'], -1),\n",
    "           'y': dict_mat['y'],\n",
    "           'yp': dict_mat['yp'],\n",
    "           'tau': dict_mat['tau'],\n",
    "           'taup': dict_mat['taup']\n",
    "          }\n",
    "    \n",
    "    init_freq = dict_mat['init_freq'][0,0]\n",
    "    init_std = dict_mat['std'][0,0]\n",
    "    \n",
    "    # Compute the global frequency:\n",
    "    arr_omega = asylib.weight_avg(sol['t'], sol['yp'], asy)\n",
    "    asy_Omega = np.sum(arr_omega) / arr_omega.size\n",
    "\n",
    "    Omega_vars = asylib.weight_avg(sol['t'], (sol['yp'] - asy_Omega)**2, asy)\n",
    "    Omega_var = np.sum(Omega_vars)\n",
    "\n",
    "    # Get array of asymptotic phases:\n",
    "    arr_lin = asy_Omega*sol['t']\n",
    "    arr_lin = arr_lin[:,None]\n",
    "\n",
    "    arr_phases = sol['y'] - arr_lin\n",
    "    asy_phases = asylib.weight_avg(sol['t'], arr_phases, asy)\n",
    "\n",
    "    # Variance\n",
    "    phase_vars = asylib.weight_avg(sol['t'], (arr_phases - asy_phases)**2, asy)\n",
    "    phase_var = np.mean(phase_vars)\n",
    "    \n",
    "    N = asy_phases.size\n",
    "    \n",
    "    # SAVE TO ARRAYS\n",
    "    init_freqs[i] = init_freq\n",
    "    init_stds[i] = init_std\n",
    "    asy_freqs[i] = asy_Omega\n",
    "    asy_stds[i] = np.sqrt((N/(N-1))*np.var(asy_phases))\n",
    "    var_freqs[i] = Omega_var\n",
    "    \n",
    "    # Print statements:\n",
    "    print(\"Trial: \" + filenames[i] + ', init.Delta = ' + str(init_std))"
   ]
  },
  {
   "cell_type": "markdown",
   "metadata": {},
   "source": [
    "## Export"
   ]
  },
  {
   "cell_type": "code",
   "execution_count": 5,
   "metadata": {},
   "outputs": [],
   "source": [
    "# Define export dictionary\n",
    "ex_mat = {'init_freqs': init_freqs,\n",
    "          'init_stds': init_stds,\n",
    "          'asy_freqs': asy_freqs,\n",
    "          'asy_stds': asy_stds,\n",
    "          'var_freqs': var_freqs,\n",
    "          'g': param['g'],\n",
    "          'w0': param['omega0'],\n",
    "          'tau0': param['tau0'],\n",
    "          'gain': param['gain']\n",
    "          }\n",
    "\n",
    "# Copy parameters\n",
    "for par in param.keys():\n",
    "    ex_mat[par] = param[par]\n",
    "\n",
    "# Export to .mat (export folder)\n",
    "dir_exfile = os.path.join(dir_ex, ex_name)\n",
    "sio.savemat(dir_exfile, ex_mat)"
   ]
  },
  {
   "cell_type": "markdown",
   "metadata": {},
   "source": [
    "# Arrays over time\n",
    "\n",
    "Skip to this cell if asymptotic arrays have already been processed."
   ]
  },
  {
   "cell_type": "code",
   "execution_count": 6,
   "metadata": {},
   "outputs": [],
   "source": [
    "# Import from folder2 with at least two trials| (converging to different frequencies\n",
    "trial1 = {'color': 'blue', 'name': 'sol_num1'}\n",
    "# trial1 = {'color': 'blue', 'name': 'sol_num1'}"
   ]
  },
  {
   "cell_type": "markdown",
   "metadata": {},
   "source": [
    "### Trial"
   ]
  },
  {
   "cell_type": "code",
   "execution_count": 22,
   "metadata": {},
   "outputs": [],
   "source": [
    "dir_mat1 = os.path.join(dir_im, trial1['name'])\n",
    "dict_mat1 = sio.loadmat(dir_mat1)\n",
    "\n",
    "trial1['t'] = np.reshape(dict_mat1['t'], -1)\n",
    "trial1['y'] = dict_mat1['y']\n",
    "trial1['yp'] = dict_mat1['yp']\n",
    "trial1['tau'] = dict_mat1['tau']\n",
    "trial1['init_freq'] = dict_mat1['init_freq'][0,0]\n",
    "trial1['std'] = dict_mat1['std'][0,0]\n",
    "\n",
    "# Compute the asymptotic arrays\n",
    "arr_omega1 = asylib.weight_avg(trial1['t'], trial1['yp'], asy)\n",
    "asy_Omega1 = np.sum(arr_omega1) / arr_omega1.size\n",
    "\n",
    "\n",
    "sol1 = {'t': np.reshape(dict_mat1['t'], -1),\n",
    "       'y': dict_mat1['y'],\n",
    "       'yp': dict_mat1['yp'],\n",
    "       'tau': dict_mat1['tau'],\n",
    "       'taup': dict_mat1['taup']\n",
    "      }\n",
    "\n",
    "# Get array of asymptotic phases:\n",
    "arr_lin1 = asy_Omega1*sol1['t']\n",
    "arr_lin1 = arr_lin1[:,None]\n",
    "\n",
    "arr_phases1 = trial1['y'] - arr_lin1\n",
    "asy_phases1 = asylib.weight_avg(trial1['t'], arr_phases1, asy)\n",
    "\n",
    "phase_vars = asylib.weight_avg(sol['t'], (arr_phases - asy_phases)**2, asy)\n",
    "phase_var = np.var(asy_phases1)\n",
    "    \n",
    "# Mean zero asy phases:\n",
    "cen_phases = asy_phases1 - np.mean(asy_phases1)\n",
    "\n",
    "# Store\n",
    "trial1['phases'] = arr_phases1\n",
    "trial1['asy_phases'] = asy_phases1\n",
    "trial1['asy_Omega'] = asy_Omega1\n",
    "trial1['asy_std'] = np.sqrt(phase_var)"
   ]
  },
  {
   "cell_type": "markdown",
   "metadata": {},
   "source": [
    "# Asymptotic arrays"
   ]
  },
  {
   "cell_type": "code",
   "execution_count": 8,
   "metadata": {},
   "outputs": [],
   "source": [
    "# Import arrays and values\n",
    "dir_exfile = os.path.join(dir_ex, ex_name)\n",
    "dict_ex = sio.loadmat(dir_exfile)\n",
    "\n",
    "init_freqs = np.reshape(dict_ex['init_freqs'], -1)\n",
    "init_stds = np.reshape(dict_ex['init_stds'], -1)\n",
    "asy_freqs = np.reshape(dict_ex['asy_freqs'], -1)\n",
    "asy_stds = np.reshape(dict_ex['asy_stds'], -1)"
   ]
  },
  {
   "cell_type": "markdown",
   "metadata": {},
   "source": [
    "# Theoretical arrays"
   ]
  },
  {
   "cell_type": "markdown",
   "metadata": {},
   "source": [
    "## Parameters"
   ]
  },
  {
   "cell_type": "code",
   "execution_count": 9,
   "metadata": {},
   "outputs": [],
   "source": [
    "# Parameters\n",
    "g = dict_ex['g'][0,0]\n",
    "w0 = dict_ex['w0'][0,0]\n",
    "tau0 = dict_ex['tau0'][0,0]\n",
    "gain = dict_ex['gain'][0,0]\n",
    "\n",
    "param = {'g': g,\n",
    "         'omega0': w0,\n",
    "         'tau0': tau0, \n",
    "         'gain': gain\n",
    "         }\n",
    "\n",
    "# Settings\n",
    "Omega_range = g\n",
    "delta_range = 1.1*init_stds.max()\n",
    "\n",
    "part_Omega = 200\n",
    "part_delta = 200\n",
    "\n",
    "steps = 200\n",
    "\n",
    "Omega_cap = 0.5\n",
    "eig_cap = 1\n",
    "\n",
    "# Generate error meshes\n",
    "Omega_arr = np.linspace(w0 - Omega_range, w0 + Omega_range, num=part_Omega)\n",
    "delta_arr = np.linspace(0, delta_range, num=part_delta)\n",
    "Omega_mesh, delta_mesh = np.meshgrid(Omega_arr, delta_arr)\n",
    "\n",
    "\n",
    "steps = 400\n",
    "\n",
    "# Fixed-point functions\n",
    "Omega_fun = lambda Omega, delta2: funlib.Omega_infty(Omega, delta2, param, L=2*pi, steps=steps) - Omega\n",
    "\n",
    "# Generate error meshes of Omega_fun\n",
    "cap = 0.5\n",
    "\n",
    "# Processing function\n",
    "z_fun = lambda x: x\n",
    "\n",
    "# Generate error meshes\n",
    "Omega_arr = np.linspace(w0 - g, w0 + g, num=part_Omega)\n",
    "delta_arr = np.linspace(0,1, num=part_delta)\n",
    "delta_mesh, Omega_mesh = np.meshgrid(delta_arr, Omega_arr)"
   ]
  },
  {
   "cell_type": "markdown",
   "metadata": {},
   "source": [
    "### Full error mesh"
   ]
  },
  {
   "cell_type": "code",
   "execution_count": 10,
   "metadata": {},
   "outputs": [],
   "source": [
    "# Fixed-point functions\n",
    "Omega_fun = lambda Omega, delta2: funlib.Omega_infty(Omega, delta2, param, L=2*pi, steps=steps) - Omega\n",
    "# Omega_fun_asy = lambda Omega, delta2: eigenlib.Omega_infty_asy(Omega, delta2, param, deg_sin=50) - Omega\n",
    "\n",
    "# Processing function\n",
    "z_fun = lambda x: x\n",
    "\n",
    "# Generate error mesh\n",
    "err_mesh = np.zeros(Omega_mesh.shape)\n",
    "\n",
    "for j in range(delta_arr.size):\n",
    "    for k in range(Omega_arr.size):\n",
    "        new_err = Omega_fun(Omega_mesh[j,k], delta_mesh[j,k]**2)\n",
    "        err_mesh[j,k] = np.max((np.min((new_err, Omega_cap)), -Omega_cap))\n",
    "    \n",
    "z_mesh = z_fun(err_mesh)\n",
    "# z_mesh = z_mesh / np.abs(z_mesh).max()\n",
    "\n",
    "# Set the limits of the plot to the limits of the data\n",
    "z_bound = np.abs(z_mesh).max()"
   ]
  },
  {
   "cell_type": "markdown",
   "metadata": {},
   "source": [
    "### Error arrays and solution curve"
   ]
  },
  {
   "cell_type": "code",
   "execution_count": 11,
   "metadata": {},
   "outputs": [],
   "source": [
    "# Obtain Omega = Omega(delta) function\n",
    "Omega_roots = np.zeros(delta_arr.size+1)\n",
    "Omega_roots[0] = w0\n",
    "\n",
    "for k in range(delta_arr.size):\n",
    "    deltak = delta_arr[k]\n",
    "    Omega_funk = lambda Omega: Omega_fun(Omega, deltak**2)\n",
    "    new_root = rootlib.find_root(Omega_funk, Omega_roots[k], w0-g, w0+g, steps=100)\n",
    "    if new_root[1]:\n",
    "        Omega_roots[k+1] = new_root[0]\n",
    "\n",
    "Omega_roots = Omega_roots[1:]"
   ]
  },
  {
   "cell_type": "markdown",
   "metadata": {},
   "source": [
    "### Polynomial Roots"
   ]
  },
  {
   "cell_type": "code",
   "execution_count": 12,
   "metadata": {},
   "outputs": [],
   "source": [
    "# Numerical options\n",
    "steps = 400\n",
    "L = 2*pi\n",
    "deg = 3\n",
    "R = 10\n",
    "\n",
    "# Terms of eigenvalue polynomial\n",
    "eig_terms_fun = lambda u,v2: eigenlib.eig_infty_poly(deg, u, v2, param, R=R, L=L, steps=steps)\n",
    "\n",
    "stab_arr = np.zeros(Omega_roots.size)\n",
    "stab_mesh = np.zeros(delta_mesh.shape)\n",
    "\n",
    "for j in range(delta_arr.size):          \n",
    "    for k in range(Omega_arr.size):\n",
    "        \n",
    "        # Get eigenvalue polynomial coefficients\n",
    "        eig_coeffs = eig_terms_fun(Omega_mesh[j,k], delta_mesh[j,k]**2)\n",
    "        \n",
    "        # Get roots of eigenvalue polynomial (remove all zeros)\n",
    "        eig_roots = np.roots(eig_coeffs)\n",
    "        eig_roots = eig_roots[np.abs(eig_roots) > 1e-14]\n",
    "        \n",
    "        if eig_roots.size == 0:\n",
    "            max_real = 0\n",
    "        else:\n",
    "            max_real = np.max(np.real(eig_roots))\n",
    "        \n",
    "        stab_entry = np.max((np.min((max_real, 1)), -1))\n",
    "        stab_mesh[j,k] = stab_entry\n",
    "\n",
    "Omega_min = Omega_arr.min()\n",
    "Omega_max = Omega_arr.max()\n",
    "delta_min = delta_arr[1:].min()\n",
    "delta_max = delta_arr[1:].max()"
   ]
  },
  {
   "cell_type": "markdown",
   "metadata": {},
   "source": [
    "# Plot"
   ]
  },
  {
   "cell_type": "markdown",
   "metadata": {},
   "source": [
    "## Options"
   ]
  },
  {
   "cell_type": "code",
   "execution_count": 13,
   "metadata": {},
   "outputs": [],
   "source": [
    "# Plot positions [left, bottom, width, height] \n",
    "bbox0 = [0.10, 0.7, 0.3, 0.20]  # Fig 2a: Derivative plots\n",
    "bbox1 = [0.10, 0.4, 0.3, 0.20]  # Fig 2b: sin(phase) plots\n",
    "bbox2 = [0.10, 0.1, 0.3, 0.20] # Fig 2c: Delay plots\n",
    "bbox3 = [0.50, 0.1, 0.40, 0.5] # Fig 2e: Iterated trial plot\n",
    "bbox4 = [0.50, 0.7, 0.40, 0.2] # Fig 2d: Histogram plot with Gaussian fit\n",
    "bbox5 = [0.95, 0.1, 0.05, 0.5] # Heat map for Fig 2e\n",
    "\n",
    "\n",
    "# Figure a,b,c lines\n",
    "line_opts = {'linewidth': 1.2,\n",
    "             'alpha': 0.4\n",
    "            }\n",
    "\n",
    "tf = np.max(trial1['t'])\n",
    "TF = 40\n",
    "\n",
    "alpha = 0.9\n",
    "levels = np.linspace(-1, 1, 4, endpoint=True)\n",
    "\n",
    "# Dotted lines (linking initial to asy points in fig.d)\n",
    "dotopts = {'linestyle': '-',\n",
    "           'linewidth': 0.5,\n",
    "           'marker': None,\n",
    "           'color': 'black',\n",
    "           'alpha': 0.7\n",
    "          }\n",
    "\n",
    "# Marker sizes\n",
    "asysize = 50\n",
    "initsize = 25\n",
    "initsize2 = 75\n",
    "\n",
    "# Sample which delay indices to plot:\n",
    "NN = trial1['tau'].shape[1]\n",
    "num_inds = 50\n",
    "inds = np.random.choice(np.arange(NN), size=num_inds, replace=False)\n",
    "\n",
    "# Histogram\n",
    "L_dist = 5*np.sqrt(np.var(cen_phases))\n",
    "num_bins = 30\n",
    "bins_dist = np.linspace(-L_dist, L_dist, num=num_bins)\n",
    "\n",
    "gauss_x = np.linspace(-L_dist, L_dist, num=200)\n",
    "g_var = np.var(cen_phases)\n",
    "gauss_y = 1/np.sqrt(2*pi*g_var)*np.exp(-gauss_x**2/(2*g_var))"
   ]
  },
  {
   "cell_type": "markdown",
   "metadata": {},
   "source": [
    "## Generate figure"
   ]
  },
  {
   "cell_type": "code",
   "execution_count": 14,
   "metadata": {
    "scrolled": false
   },
   "outputs": [
    {
     "name": "stdout",
     "output_type": "stream",
     "text": [
      "Shapiro-Wilk Test p-value: 0.005357154179364443\n",
      "{'g': 1.5, 'omega0': 1, 'tau0': 0.1, 'gain': 80}\n"
     ]
    },
    {
     "data": {
      "image/png": "[encoded data removed]",
      "text/plain": [
       "<Figure size 960x640 with 6 Axes>"
      ]
     },
     "metadata": {},
     "output_type": "display_data"
    }
   ],
   "source": [
    "fig, ax = plt.subplots(6, figsize=(12,8), dpi=80)\n",
    "\n",
    "# Set positions\n",
    "ax[0].set_position(bbox0)\n",
    "ax[1].set_position(bbox1)\n",
    "ax[2].set_position(bbox2)\n",
    "ax[3].set_position(bbox3)\n",
    "ax[4].set_position(bbox4)\n",
    "ax[5].set_position(bbox5)\n",
    "\n",
    "\n",
    "# Figure A,B,C\n",
    "ax[0].plot(trial1['t'], trial1['yp'], **line_opts)\n",
    "ax[1].plot(trial1['t'], np.sin(trial1['phases']), **line_opts)\n",
    "ax[2].plot(trial1['t'], trial1['tau'][:,inds], **line_opts)\n",
    "\n",
    "ax[0].axhline(y=dict_ex['w0'], color='green', alpha=0.8, linewidth=1.5)\n",
    "\n",
    "\n",
    "# Figure E\n",
    "for k in range(init_freqs.size):\n",
    "    p1 = np.array([init_freqs[k], asy_freqs[k]])\n",
    "    p2 = np.array([init_stds[k], asy_stds[k]])\n",
    "    ax[3].plot(p2, p1, **dotopts, zorder=2)\n",
    "\n",
    "c = ax[3].contourf(delta_mesh, Omega_mesh, np.sign(stab_mesh), levels, cmap='coolwarm', alpha=alpha, zorder=0)\n",
    "ax[3].axis([delta_min, delta_max, 0, 1.5 * param['omega0']])\n",
    "\n",
    "ax[3].plot(delta_arr, Omega_roots, color='blue', alpha=0.8, zorder=1)\n",
    "ax[3].scatter(init_stds, init_freqs, color='yellow', s=initsize, zorder=3)\n",
    "ax[3].scatter(asy_stds, asy_freqs, color='magenta', marker='*', s=asysize, zorder=4)\n",
    "\n",
    "# Selected trial A,B,C\n",
    "ax[3].scatter(trial1['std'], trial1['init_freq'], marker='D', color='yellow', s=initsize2, zorder=3)\n",
    "ax[3].axhline(y=dict_ex['w0'], color='green', alpha=0.9, zorder=1)\n",
    "ax[3].axvline(x=0, color='black', alpha=0.5, linewidth=0.9, zorder=1)\n",
    "\n",
    "\n",
    "# Figure D\n",
    "ax[4].hist(cen_phases, bins=bins_dist, color='orange', density=True, zorder=0)\n",
    "\n",
    "# Normal curve\n",
    "ax[4].plot(gauss_x, gauss_y, color='black', zorder=1)\n",
    "\n",
    "# Heat map\n",
    "fig.colorbar(c, cax=ax[5])\n",
    "\n",
    "# Adjustments to axes\n",
    "ax[0].set_xlim(left=np.min(trial1['t']), right=TF)\n",
    "ax[1].set_xlim(left=np.min(trial1['t']), right=TF)\n",
    "ax[2].set_xlim(left=np.min(trial1['t']), right=TF)\n",
    "ax[3].set_xlim(left=0, right=np.round(1.2*delta_range, decimals=1))\n",
    "\n",
    "print(\"Shapiro-Wilk Test p-value: \" + str(stats.shapiro(cen_phases)[1])) # High p-value implies normal distribution\n",
    "print(param)"
   ]
  },
  {
   "cell_type": "code",
   "execution_count": 24,
   "metadata": {},
   "outputs": [
    {
     "name": "stdout",
     "output_type": "stream",
     "text": [
      "Trial init. freq = 0.9138047505956918, Trial init std. = 0.2949379116922256\n",
      "Trial asy. freq = 0.839317250534191, Trial asy.std = 0.03872681904420305\n"
     ]
    }
   ],
   "source": [
    "print('Trial init. freq = ' + str(trial1['init_freq']) + ', Trial init std. = ' + str(trial1['std']))\n",
    "print('Trial asy. freq = ' + str(trial1['asy_Omega']) + ', Trial asy.std = ' + str(asy_stds[0]))"
   ]
  },
  {
   "cell_type": "code",
   "execution_count": 16,
   "metadata": {},
   "outputs": [
    {
     "data": {
      "text/plain": [
       "(-0.07890241071631432, 0.04331254041725612, 0.867052901508075)"
      ]
     },
     "execution_count": 16,
     "metadata": {},
     "output_type": "execute_result"
    }
   ],
   "source": [
    "Omega_fun(asy_freqs[0], asy_stds[0]**2), asy_stds[1], asy_freqs[1]"
   ]
  },
  {
   "cell_type": "code",
   "execution_count": null,
   "metadata": {},
   "outputs": [],
   "source": []
  },
  {
   "cell_type": "code",
   "execution_count": null,
   "metadata": {},
   "outputs": [],
   "source": []
  }
 ],
 "metadata": {
  "kernelspec": {
   "display_name": "Python 3",
   "language": "python",
   "name": "python3"
  },
  "language_info": {
   "codemirror_mode": {
    "name": "ipython",
    "version": 3
   },
   "file_extension": ".py",
   "mimetype": "text/x-python",
   "name": "python",
   "nbconvert_exporter": "python",
   "pygments_lexer": "ipython3",
   "version": "3.6.5"
  }
 },
 "nbformat": 4,
 "nbformat_minor": 2
}
