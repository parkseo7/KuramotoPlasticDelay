{
 "cells": [
  {
   "cell_type": "markdown",
   "metadata": {},
   "source": [
    "# About\n",
    "\n",
    "Theoretical plots of the analysis pertaining to the N-dimensional Kuramoto system with adaptive delays. Does not require any exported numerical simulations from MATLAB scripts.\n",
    "\n",
    "Uses the following packages and functions:\n",
    "\n",
    "funlib:\n",
    " - Omega_infty\n",
    "\n",
    "rootlib:\n",
    " - find_root\n",
    " \n",
    "eigenlib:\n",
    " - eig_infty_scale\n",
    " - eig_infty_poly"
   ]
  },
  {
   "cell_type": "markdown",
   "metadata": {},
   "source": [
    "# Library"
   ]
  },
  {
   "cell_type": "code",
   "execution_count": 1,
   "metadata": {},
   "outputs": [],
   "source": [
    "from __future__ import division, print_function\n",
    "\n",
    "%matplotlib inline\n",
    "# Toggle on/off\n",
    "# %matplotlib notebook\n",
    "\n",
    "import os\n",
    "import numpy as np\n",
    "import scipy.io as sio\n",
    "from scipy import optimize\n",
    "import matplotlib.pyplot as plt\n",
    "import matplotlib.transforms as tsfm\n",
    "import math\n",
    "from math import pi\n",
    "\n",
    "from lib import *\n",
    "\n",
    "from IPython.display import clear_output"
   ]
  },
  {
   "cell_type": "markdown",
   "metadata": {},
   "source": [
    "# Generate arrays to plot"
   ]
  },
  {
   "cell_type": "markdown",
   "metadata": {},
   "source": [
    "## Parameters"
   ]
  },
  {
   "cell_type": "code",
   "execution_count": 2,
   "metadata": {},
   "outputs": [],
   "source": [
    "g = 1.5\n",
    "omega0 = w0 = 1.0\n",
    "gain = 50\n",
    "tau0 = 0.1\n",
    "\n",
    "# Parameter dictionary\n",
    "param = {'g': g,\n",
    "         'omega0': omega0,\n",
    "         'gain': gain,\n",
    "         'tau0': tau0\n",
    "         }\n",
    "\n",
    "# Settings\n",
    "Omega_range = g\n",
    "delta_range = 0.5\n",
    "\n",
    "part_Omega = 200\n",
    "part_delta = 200\n",
    "\n",
    "steps = 200\n",
    "\n",
    "Omega_cap = 0.5\n",
    "eig_cap = 1\n",
    "\n",
    "# Generate error meshes\n",
    "Omega_arr = np.linspace(w0 - Omega_range, w0 + Omega_range, num=part_Omega)\n",
    "delta_arr = np.linspace(0, delta_range, num=part_delta)\n",
    "Omega_mesh, delta_mesh = np.meshgrid(Omega_arr, delta_arr)"
   ]
  },
  {
   "cell_type": "markdown",
   "metadata": {},
   "source": [
    "## Synchronization states"
   ]
  },
  {
   "cell_type": "markdown",
   "metadata": {},
   "source": [
    "### Full error mesh"
   ]
  },
  {
   "cell_type": "code",
   "execution_count": 3,
   "metadata": {},
   "outputs": [],
   "source": [
    "# Fixed-point functions\n",
    "Omega_fun = lambda Omega, delta2: funlib.Omega_infty(Omega, delta2, param, L=2*pi, steps=steps) - Omega\n",
    "# Omega_fun_asy = lambda Omega, delta2: eigenlib.Omega_infty_asy(Omega, delta2, param, deg_sin=50) - Omega\n",
    "\n",
    "# Processing function\n",
    "z_fun = lambda x: x\n",
    "\n",
    "# Generate error mesh\n",
    "err_mesh = np.zeros(Omega_mesh.shape)\n",
    "\n",
    "for j in range(delta_arr.size):\n",
    "    for k in range(Omega_arr.size):\n",
    "        new_err = Omega_fun(Omega_mesh[j,k], delta_mesh[j,k]**2)\n",
    "        err_mesh[j,k] = np.max((np.min((new_err, Omega_cap)), -Omega_cap))\n",
    "    \n",
    "z_mesh = z_fun(err_mesh)\n",
    "# z_mesh = z_mesh / np.abs(z_mesh).max()\n",
    "\n",
    "# Set the limits of the plot to the limits of the data\n",
    "z_bound = np.abs(z_mesh).max()"
   ]
  },
  {
   "cell_type": "markdown",
   "metadata": {},
   "source": [
    "### Error arrays and solution curve"
   ]
  },
  {
   "cell_type": "code",
   "execution_count": 4,
   "metadata": {},
   "outputs": [],
   "source": [
    "# Generate arrays for Omega w.r.t. fixed delta:\n",
    "delta_list = [0.05, 0.1, 0.2, 0.4]\n",
    "z_arrs = {}\n",
    "\n",
    "# For each delta_list, obtain corresponding Omega array:\n",
    "for delta0 in delta_list:\n",
    "    ind = np.argmin(np.abs(delta_arr - delta0))\n",
    "    z_arrs[ind] = z_mesh[ind,:]\n",
    "    \n",
    "# Obtain Omega = Omega(delta) function\n",
    "Omega_roots = np.zeros(delta_arr.size+1)\n",
    "Omega_roots[0] = w0\n",
    "\n",
    "for k in range(delta_arr.size):\n",
    "    deltak = delta_arr[k]\n",
    "    Omega_funk = lambda Omega: Omega_fun(Omega, deltak**2)\n",
    "    new_root = rootlib.find_root(Omega_funk, Omega_roots[k], w0-g, w0+g, steps=100)\n",
    "    if new_root[1]:\n",
    "        Omega_roots[k+1] = new_root[0]\n",
    "\n",
    "Omega_roots = Omega_roots[1:]"
   ]
  },
  {
   "cell_type": "markdown",
   "metadata": {},
   "source": [
    "## Eigenvalues"
   ]
  },
  {
   "cell_type": "markdown",
   "metadata": {},
   "source": [
    "### Polynomial roots"
   ]
  },
  {
   "cell_type": "code",
   "execution_count": 5,
   "metadata": {},
   "outputs": [],
   "source": [
    "# Numerical options\n",
    "steps = 400\n",
    "L = 2*pi\n",
    "deg = 3\n",
    "R = 10\n",
    "\n",
    "delta_list_eig = [0.07, 0.08, 0.09, 0.1]\n",
    "delta_list_inds = []\n",
    "for delta1 in delta_list_eig:\n",
    "    delta_list_inds.append(np.argmin(np.abs(delta_arr - delta1)))\n",
    "\n",
    "eig_roots_dict = {}\n",
    "\n",
    "# Terms of eigenvalue polynomial\n",
    "eig_terms_fun = lambda u,v2: eigenlib.eig_infty_poly(deg, u, v2, param, R=R, L=L, steps=steps)\n",
    "\n",
    "stab_arr = np.zeros(Omega_roots.size)\n",
    "stab_mesh = np.zeros(delta_mesh.shape)\n",
    "\n",
    "for j in range(delta_arr.size):\n",
    "    \n",
    "    # Obtain solution curve:\n",
    "    Omega0 = Omega_roots[j]\n",
    "    eig_coeffs0 = eig_terms_fun(Omega0, delta_arr[j]**2)\n",
    "    eig_roots0 = np.roots(eig_coeffs0)\n",
    "    eig_roots0 = eig_roots0[np.abs(eig_roots0) > 1e-8]\n",
    "    \n",
    "    if eig_roots0.size == 0:\n",
    "        max_real0 = 0\n",
    "    else:\n",
    "        max_real0 = np.max(np.real(eig_roots0))\n",
    "\n",
    "    stab_arr[j] = np.sign(max_real0)*np.log(1 + np.abs(max_real0))\n",
    "\n",
    "    # Save all eigenvalues if in delta_list_eig:\n",
    "    if j in delta_list_inds:\n",
    "        eig_roots_dict[delta_arr[j+1]] = eig_roots0\n",
    "            \n",
    "            \n",
    "    for k in range(Omega_arr.size):\n",
    "        \n",
    "        # Get eigenvalue polynomial coefficients\n",
    "        eig_coeffs = eig_terms_fun(Omega_mesh[j,k], delta_mesh[j,k]**2)\n",
    "        \n",
    "        # Get roots of eigenvalue polynomial (remove all zeros)\n",
    "        eig_roots = np.roots(eig_coeffs)\n",
    "        eig_roots = eig_roots[np.abs(eig_roots) > 1e-14]\n",
    "        \n",
    "        if eig_roots.size == 0:\n",
    "            max_real = 0\n",
    "        else:\n",
    "            max_real = np.max(np.real(eig_roots))\n",
    "        \n",
    "        stab_entry = np.max((np.min((max_real, 1)), -1))\n",
    "        stab_mesh[j,k] = stab_entry\n",
    "\n",
    "Omega_min = Omega_arr.min()\n",
    "Omega_max = Omega_arr.max()\n",
    "delta_min = delta_arr[1:].min()\n",
    "delta_max = delta_arr[1:].max()"
   ]
  },
  {
   "cell_type": "markdown",
   "metadata": {},
   "source": [
    "# Plot"
   ]
  },
  {
   "cell_type": "markdown",
   "metadata": {},
   "source": [
    "## Plot options"
   ]
  },
  {
   "cell_type": "code",
   "execution_count": 10,
   "metadata": {},
   "outputs": [],
   "source": [
    "# Plot positions [left, bottom, width, height] \n",
    "bbox0 = [0.1, 0.5, 0.30, 0.3]  # Fig 3a: Error plots with fixed delta2\n",
    "bbox1 = [0.5, 0.5, 0.35, 0.3] # Fig 3b: Solution curve of synchronization state + stability colour plot\n",
    "bbox2 = [0.9, 0.5, 0.05, 0.3] # Fig 3b: Colour bar for stability colour plot\n",
    "bbox3 = [0.1, 0.1, 0.30, 0.3] # Fig 3c: Stability along solution curve\n",
    "bbox4 = [0.5, 0.1, 0.35, 0.3] # Fig 3d: Stability along solution curve\n",
    "\n",
    "alpha = 0.9\n",
    "levels = np.linspace(-1, 1, 4, endpoint=True)\n",
    "\n",
    "# Plot options\n",
    "lw_ab1 = 1.8\n",
    "lw_ab2 = 0.8\n",
    "lw_cd = 0.5\n",
    "ms_c = 30\n",
    "\n",
    "al_ab = 1.0\n",
    "al_cd = 0.8\n",
    "\n",
    "# Axis lines\n",
    "eig_options_line = {'linestyle': 'dashed',\n",
    "                    'linewidth': 0.5,\n",
    "                    'color': 'white'\n",
    "                    }\n",
    "\n",
    "sol_colour = 'blue'\n",
    "colour_list = ['red', 'magenta', 'orange', 'olive']\n",
    "colour_list2 = ['blue', 'green', 'orange', 'red']"
   ]
  },
  {
   "cell_type": "markdown",
   "metadata": {},
   "source": [
    "## Generate figure"
   ]
  },
  {
   "cell_type": "code",
   "execution_count": 11,
   "metadata": {},
   "outputs": [
    {
     "name": "stdout",
     "output_type": "stream",
     "text": [
      "delta = 0.05025125628140704\n",
      "delta = 0.10050251256281408\n",
      "delta = 0.20100502512562815\n",
      "delta = 0.39949748743718594\n"
     ]
    },
    {
     "data": {
      "image/png": "[encoded data removed]",
      "text/plain": [
       "<Figure size 960x800 with 5 Axes>"
      ]
     },
     "metadata": {},
     "output_type": "display_data"
    }
   ],
   "source": [
    "fig, ax = plt.subplots(5, figsize=(12,10), dpi=80)\n",
    "\n",
    "# Set positions\n",
    "ax[0].set_position(bbox0)\n",
    "ax[1].set_position(bbox1)\n",
    "ax[2].set_position(bbox2)\n",
    "ax[3].set_position(bbox3)\n",
    "ax[4].set_position(bbox4)\n",
    "\n",
    "# Plot arrays\n",
    "\n",
    "# Figure 3a\n",
    "j = 0\n",
    "for key in z_arrs.keys():\n",
    "    ax[0].plot(Omega_arr, z_arrs[key], color=colour_list[j])\n",
    "    print('delta = ' + str(delta_arr[key]))\n",
    "    j += 1\n",
    "\n",
    "ax[0].axhline(y=0, color='black', linewidth=lw_ab2)\n",
    "ax[0].axvline(x=omega0, color='green', linewidth=lw_ab2)\n",
    "ax[0].set_xlim(left=Omega_arr.min(), right=Omega_arr.max())\n",
    "\n",
    "# Figure 3b\n",
    "c = ax[1].contourf(delta_mesh, Omega_mesh, np.sign(stab_mesh), levels, cmap='coolwarm', alpha=alpha)\n",
    "ax[1].axis([delta_min, delta_max, Omega_min, Omega_max])\n",
    "\n",
    "ax[1].plot(delta_arr, Omega_roots, color=sol_colour, linewidth=lw_ab1)\n",
    "ax[1].axhline(y=omega0, color='green', linewidth=lw_ab2)\n",
    "\n",
    "ax[1].set_ylim(bottom=omega0-g, top=omega0+g/2)\n",
    "fig.colorbar(c, cax=ax[2])\n",
    "\n",
    "\n",
    "# Figure 3c\n",
    "\n",
    "# Colour regions\n",
    "dummy_x = np.array([omega0-g, omega0+g/2])\n",
    "ax[3].fill_between(dummy_x, stab_arr.min()-1, 0, alpha=alpha/2, color='blue')\n",
    "ax[3].fill_between(dummy_x, 0, stab_arr.max()+1, alpha=alpha/2, color='red')\n",
    "\n",
    "ax[3].plot(delta_arr, stab_arr, color='black', zorder=1)\n",
    "\n",
    "\n",
    "ax[3].set_xlim(left=delta_arr.min(), right=delta_arr.max())\n",
    "ax[3].set_ylim(bottom=stab_arr.min()-1, top=stab_arr.max()+1)\n",
    "\n",
    "# Frequency line\n",
    "ax[3].axhline(y=0, color='black', linewidth=lw_ab2)\n",
    "\n",
    "\n",
    "# Figure 3d\n",
    "k = 0\n",
    "for key in eig_roots_dict.keys():\n",
    "    eig_re = np.real(eig_roots_dict[key])\n",
    "    eig_im = np.imag(eig_roots_dict[key])\n",
    "    \n",
    "    eig_log_re = np.sign(eig_re)*np.log(1 + np.abs(eig_re))\n",
    "    eig_log_im = np.sign(eig_im)*np.log(1 + np.abs(eig_im))\n",
    "    ax[4].scatter(eig_log_re, eig_log_im, color=colour_list2[k])\n",
    "    \n",
    "    ax[4].axvline(x=0, color='black', linewidth=lw_ab2)\n",
    "    \n",
    "    # Markers\n",
    "    ind_k = delta_list_inds[k]\n",
    "    ax[3].scatter(np.array([delta_arr[ind_k]]), np.array([stab_arr[ind_k]]), \n",
    "                  s=ms_c, marker='s', color=colour_list2[k], zorder=2)\n",
    "    k += 1"
   ]
  },
  {
   "cell_type": "code",
   "execution_count": null,
   "metadata": {},
   "outputs": [],
   "source": []
  },
  {
   "cell_type": "code",
   "execution_count": 8,
   "metadata": {},
   "outputs": [
    {
     "ename": "NameError",
     "evalue": "name 'stab_inds' is not defined",
     "output_type": "error",
     "traceback": [
      "\u001b[1;31m---------------------------------------------------------------------------\u001b[0m",
      "\u001b[1;31mNameError\u001b[0m                                 Traceback (most recent call last)",
      "\u001b[1;32m<ipython-input-8-1a748edbe88f>\u001b[0m in \u001b[0;36m<module>\u001b[1;34m()\u001b[0m\n\u001b[1;32m----> 1\u001b[1;33m \u001b[0mnp\u001b[0m\u001b[1;33m.\u001b[0m\u001b[0mconcatenate\u001b[0m\u001b[1;33m(\u001b[0m\u001b[1;33m(\u001b[0m\u001b[0mnp\u001b[0m\u001b[1;33m.\u001b[0m\u001b[0mzeros\u001b[0m\u001b[1;33m(\u001b[0m\u001b[1;36m1\u001b[0m\u001b[1;33m)\u001b[0m\u001b[1;33m,\u001b[0m \u001b[0mnp\u001b[0m\u001b[1;33m.\u001b[0m\u001b[0mreshape\u001b[0m\u001b[1;33m(\u001b[0m\u001b[0mstab_inds\u001b[0m\u001b[1;33m,\u001b[0m\u001b[1;33m-\u001b[0m\u001b[1;36m1\u001b[0m\u001b[1;33m)\u001b[0m\u001b[1;33m)\u001b[0m\u001b[1;33m)\u001b[0m\u001b[1;33m\u001b[0m\u001b[0m\n\u001b[0m",
      "\u001b[1;31mNameError\u001b[0m: name 'stab_inds' is not defined"
     ]
    }
   ],
   "source": [
    "np.concatenate((np.zeros(1), np.reshape(stab_inds,-1)))"
   ]
  },
  {
   "cell_type": "code",
   "execution_count": null,
   "metadata": {},
   "outputs": [],
   "source": []
  }
 ],
 "metadata": {
  "kernelspec": {
   "display_name": "Python 3",
   "language": "python",
   "name": "python3"
  },
  "language_info": {
   "codemirror_mode": {
    "name": "ipython",
    "version": 3
   },
   "file_extension": ".py",
   "mimetype": "text/x-python",
   "name": "python",
   "nbconvert_exporter": "python",
   "pygments_lexer": "ipython3",
   "version": "3.6.5"
  }
 },
 "nbformat": 4,
 "nbformat_minor": 2
}
