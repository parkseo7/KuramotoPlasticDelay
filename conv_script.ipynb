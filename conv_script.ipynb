{
 "cells": [
  {
   "cell_type": "markdown",
   "metadata": {},
   "source": [
    "# Libraries"
   ]
  },
  {
   "cell_type": "code",
   "execution_count": 1,
   "metadata": {},
   "outputs": [],
   "source": [
    "from __future__ import division, print_function\n",
    "\n",
    "import os\n",
    "import numpy as np\n",
    "from numpy.polynomial.polynomial import polyval\n",
    "import scipy.io as sio\n",
    "import matplotlib.pyplot as plt\n",
    "import math\n",
    "from math import pi\n",
    "\n",
    "from lib import *\n",
    "\n",
    "from IPython.display import clear_output\n",
    "%matplotlib inline"
   ]
  },
  {
   "cell_type": "markdown",
   "metadata": {},
   "source": [
    "# Test for Convergence"
   ]
  },
  {
   "cell_type": "code",
   "execution_count": 257,
   "metadata": {},
   "outputs": [
    {
     "name": "stdout",
     "output_type": "stream",
     "text": [
      "-0.31849358805469197 -0.3219246686199114 -0.42491255285843194 -0.41341090521590296\n"
     ]
    }
   ],
   "source": [
    "# Parameters\n",
    "T = 0.5\n",
    "gamma = 2\n",
    "Omega = 4.0\n",
    "\n",
    "phi_fun = lambda x: gamma*x\n",
    "\n",
    "# Compute sums\n",
    "N = 4000\n",
    "tau0 = 2*T*np.random.random(size=(N,))\n",
    "\n",
    "N0 = 4000\n",
    "tau_N0 = tau0[:N0]\n",
    "phi_N0 = phi_fun(np.arange(N0)/N0)\n",
    "N0_arr = np.sin(-Omega*tau_N0 + phi_N0)\n",
    "N0_sum = np.sum(N0_arr) / N0\n",
    "\n",
    "N1_arr = np.sin(-Omega*tau_N0)\n",
    "N1_sum = np.sum(N1_arr) / N0\n",
    "\n",
    "# Convergence answer\n",
    "ans = (2*T*Omega)**-1*((np.sin(gamma - 2*T*Omega) + np.sin(2*T*Omega))/gamma - np.sin(gamma)/gamma)\n",
    "ans1 = ((2*Omega*T)**-1)*(np.cos(2*T*Omega)-1)\n",
    "print(N0_sum, ans, N1_sum, ans1)"
   ]
  },
  {
   "cell_type": "code",
   "execution_count": 258,
   "metadata": {},
   "outputs": [
    {
     "data": {
      "text/plain": [
       "0.04343744155464169"
      ]
     },
     "execution_count": 258,
     "metadata": {},
     "output_type": "execute_result"
    }
   ],
   "source": [
    "tau0[0]"
   ]
  },
  {
   "cell_type": "code",
   "execution_count": null,
   "metadata": {},
   "outputs": [],
   "source": []
  },
  {
   "cell_type": "code",
   "execution_count": null,
   "metadata": {},
   "outputs": [],
   "source": []
  }
 ],
 "metadata": {
  "kernelspec": {
   "display_name": "Python 3",
   "language": "python",
   "name": "python3"
  },
  "language_info": {
   "codemirror_mode": {
    "name": "ipython",
    "version": 3
   },
   "file_extension": ".py",
   "mimetype": "text/x-python",
   "name": "python",
   "nbconvert_exporter": "python",
   "pygments_lexer": "ipython3",
   "version": "3.6.5"
  }
 },
 "nbformat": 4,
 "nbformat_minor": 2
}
