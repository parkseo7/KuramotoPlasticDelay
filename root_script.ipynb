{
 "cells": [
  {
   "cell_type": "markdown",
   "metadata": {},
   "source": [
    "# About\n",
    "\n",
    "Takes a .mat file exported from asy_script and finds the roots using the same initial conditions."
   ]
  },
  {
   "cell_type": "markdown",
   "metadata": {},
   "source": [
    "# Library"
   ]
  },
  {
   "cell_type": "code",
   "execution_count": 1,
   "metadata": {},
   "outputs": [],
   "source": [
    "from __future__ import division, print_function\n",
    "\n",
    "import os\n",
    "import numpy as np\n",
    "from numpy.polynomial.polynomial import polyval\n",
    "from scipy import optimize\n",
    "import scipy.io as sio\n",
    "import matplotlib.pyplot as plt\n",
    "import math\n",
    "from math import pi\n",
    "\n",
    "from lib import *\n",
    "\n",
    "from IPython.display import clear_output\n",
    "%matplotlib inline"
   ]
  },
  {
   "cell_type": "markdown",
   "metadata": {},
   "source": [
    "# Directories"
   ]
  },
  {
   "cell_type": "code",
   "execution_count": 2,
   "metadata": {},
   "outputs": [],
   "source": [
    "# Data files\n",
    "name_folder = 'process4'\n",
    "name_file = 'sol30_gain35_3'\n",
    "\n",
    "# Directory\n",
    "dir_main = os.getcwd()\n",
    "dir_mat = os.path.join(dir_main, 'data', name_folder, name_file)\n",
    "\n",
    "# Import using Scipy\n",
    "dict_mat = sio.loadmat(dir_mat)"
   ]
  },
  {
   "cell_type": "markdown",
   "metadata": {},
   "source": [
    "# Find roots"
   ]
  },
  {
   "cell_type": "code",
   "execution_count": 3,
   "metadata": {},
   "outputs": [],
   "source": [
    "# Initial conditions\n",
    "tau0 = dict_mat['tau0']\n",
    "phi0 = np.reshape(dict_mat['phi0'], -1)\n",
    "Omega0 = dict_mat['omega0'][0,0]\n",
    "\n",
    "param = {'g': dict_mat['g'][0,0],\n",
    "         'gain': dict_mat['gain'][0,0],\n",
    "         'w0': dict_mat['omega0'][0,0]\n",
    "        }\n",
    "\n",
    "root_fun = lambda phi: funlib.Omega_root(phi, tau0, param)\n",
    "\n",
    "phi1 = np.concatenate((np.array([Omega0]), phi0[1:] - phi0[0]))\n",
    "root = optimize.root(root_fun, phi1, method='lm')"
   ]
  },
  {
   "cell_type": "markdown",
   "metadata": {},
   "source": [
    "# Plot results"
   ]
  },
  {
   "cell_type": "code",
   "execution_count": 4,
   "metadata": {},
   "outputs": [
    {
     "data": {
      "text/plain": [
       "[<matplotlib.lines.Line2D at 0x26772c60550>]"
      ]
     },
     "execution_count": 4,
     "metadata": {},
     "output_type": "execute_result"
    },
    {
     "data": {
      "image/png": "[encoded data removed]",
      "text/plain": [
       "<Figure size 432x288 with 1 Axes>"
      ]
     },
     "metadata": {},
     "output_type": "display_data"
    }
   ],
   "source": [
    "fig, ax = plt.subplots(1,1)\n",
    "\n",
    "# Figure options\n",
    "pltopts = {'linestyle': '-',\n",
    "           'linewidth': 1.0,\n",
    "           'marker': '.',\n",
    "          }\n",
    "\n",
    "asy_inds = np.reshape(dict_mat['inds'], -1)\n",
    "asy_phases = np.reshape(dict_mat['phi'], -1)\n",
    "asy_roots = np.concatenate((np.array([phi0[0]]), root.x[1:]))\n",
    "\n",
    "ax.plot(asy_inds, phi0, color='red', **pltopts)\n",
    "ax.plot(asy_inds, asy_phases, color='blue', **pltopts)\n",
    "ax.plot(asy_inds, asy_roots, color='green', **pltopts)"
   ]
  },
  {
   "cell_type": "code",
   "execution_count": 5,
   "metadata": {},
   "outputs": [
    {
     "data": {
      "text/plain": [
       "False"
      ]
     },
     "execution_count": 5,
     "metadata": {},
     "output_type": "execute_result"
    }
   ],
   "source": [
    "root.success"
   ]
  },
  {
   "cell_type": "code",
   "execution_count": 7,
   "metadata": {},
   "outputs": [
    {
     "name": "stdout",
     "output_type": "stream",
     "text": [
      "0.01993583322499831\n"
     ]
    }
   ],
   "source": [
    "Omega = dict_mat['Omega'][0,0]\n",
    "phi2 = np.concatenate((np.array([Omega]), asy_phases[1:] - asy_phases[0]))\n",
    "\n",
    "err = np.sum(root_fun(phi2))\n",
    "print(err)"
   ]
  },
  {
   "cell_type": "code",
   "execution_count": null,
   "metadata": {},
   "outputs": [],
   "source": []
  }
 ],
 "metadata": {
  "kernelspec": {
   "display_name": "Python 3",
   "language": "python",
   "name": "python3"
  },
  "language_info": {
   "codemirror_mode": {
    "name": "ipython",
    "version": 3
   },
   "file_extension": ".py",
   "mimetype": "text/x-python",
   "name": "python",
   "nbconvert_exporter": "python",
   "pygments_lexer": "ipython3",
   "version": "3.6.5"
  }
 },
 "nbformat": 4,
 "nbformat_minor": 2
}
