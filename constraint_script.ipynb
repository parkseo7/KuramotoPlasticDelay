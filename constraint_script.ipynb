{
 "cells": [
  {
   "cell_type": "markdown",
   "metadata": {},
   "source": [
    "# Libraries"
   ]
  },
  {
   "cell_type": "code",
   "execution_count": 1,
   "metadata": {},
   "outputs": [],
   "source": [
    "from __future__ import division, print_function\n",
    "\n",
    "import os\n",
    "import numpy as np\n",
    "from numpy.polynomial.polynomial import polyval\n",
    "import scipy.io as sio\n",
    "import matplotlib.pyplot as plt\n",
    "import math\n",
    "from math import pi\n",
    "\n",
    "from lib import *\n",
    "\n",
    "from IPython.display import clear_output\n",
    "%matplotlib inline"
   ]
  },
  {
   "cell_type": "markdown",
   "metadata": {},
   "source": [
    "# Directories"
   ]
  },
  {
   "cell_type": "code",
   "execution_count": 2,
   "metadata": {},
   "outputs": [],
   "source": [
    "# Data files\n",
    "name_folder = 'export'\n",
    "name_file = 'sol30_gain35'\n",
    "\n",
    "# Directory\n",
    "dir_main = os.getcwd()\n",
    "dir_mat = os.path.join(dir_main, 'data', name_folder, name_file)\n",
    "\n",
    "# Import using Scipy\n",
    "dict_mat = sio.loadmat(dir_mat)"
   ]
  },
  {
   "cell_type": "markdown",
   "metadata": {},
   "source": [
    "# Import Processed Asy. Data"
   ]
  },
  {
   "cell_type": "code",
   "execution_count": 3,
   "metadata": {},
   "outputs": [],
   "source": [
    "# Import using Scipy (exported asy_script .mat file)\n",
    "dict_mat = sio.loadmat(dir_mat)\n",
    "\n",
    "nsol = {}\n",
    "nsol['phi'] = dict_mat['phi'] # Asymptotic phases\n",
    "nsol['Omega'] = dict_mat['Omega'] # Asymptotic frequency\n",
    "nsol['inds'] = dict_mat['inds'] # Asymptotic indices\n",
    "nsol['tau0'] = dict_mat['tau0'] # Initial delays\n",
    "\n",
    "# Parameters\n",
    "for key in ['g', 'omega0', 'a', 'T', 'gain', 'N']:\n",
    "    nsol[key] = dict_mat[key][0,0]"
   ]
  },
  {
   "cell_type": "markdown",
   "metadata": {},
   "source": [
    "# Define constraint problem"
   ]
  },
  {
   "cell_type": "code",
   "execution_count": 8,
   "metadata": {},
   "outputs": [],
   "source": [
    "# History function used\n",
    "N = nsol['N']\n",
    "w0 = nsol['omega0']\n",
    "T = nsol['T']\n",
    "gain = nsol['gain']\n",
    "\n",
    "pi_arr = pi*np.arange(N) / N\n",
    "hist_fun = lambda t: w0*t + pi_arr\n",
    "asy_fun = lambda freq, phases, t: freq*t + phases\n",
    "\n",
    "Omega = nsol['Omega']\n",
    "phi = nsol['phi']\n",
    "asy_fun_t = lambda t: asy_fun(Omega, phi, t)\n",
    "\n",
    "# Distance function\n",
    "h0 = -2*T # -2*T-gain*pi\n",
    "t_dist, ndist = funlib.dists(hist_fun, asy_fun_t, [h0, 0], steps=2*N)"
   ]
  },
  {
   "cell_type": "markdown",
   "metadata": {},
   "source": [
    "# Find distances over local perturbations"
   ]
  },
  {
   "cell_type": "code",
   "execution_count": 11,
   "metadata": {},
   "outputs": [],
   "source": [
    "# Establish root function (Omega, phi as inputs)\n",
    "\n",
    "# Optimize over the distance function, with the numeric Omega, phi as the starting point,\n",
    "# and the fixed-point equation as the constraint.\n",
    "\n",
    "# Compare difference\n"
   ]
  },
  {
   "cell_type": "code",
   "execution_count": 10,
   "metadata": {},
   "outputs": [
    {
     "data": {
      "text/plain": [
       "array([-0.2, -0.2, -0.2, -0.2, -0.2, -0.2, -0.2, -0.2, -0.2,  0. ,  0. ,\n",
       "        0. ,  0. ,  0. ,  0. ,  0. ,  0. ,  0. ,  0. ,  0. ,  0. ,  0. ,\n",
       "        0. ,  0. ,  0. ,  0. ,  0. ,  0. ,  0. ,  0. ])"
      ]
     },
     "execution_count": 10,
     "metadata": {},
     "output_type": "execute_result"
    }
   ],
   "source": [
    "t_dist"
   ]
  },
  {
   "cell_type": "code",
   "execution_count": null,
   "metadata": {},
   "outputs": [],
   "source": []
  }
 ],
 "metadata": {
  "kernelspec": {
   "display_name": "Python 3",
   "language": "python",
   "name": "python3"
  },
  "language_info": {
   "codemirror_mode": {
    "name": "ipython",
    "version": 3
   },
   "file_extension": ".py",
   "mimetype": "text/x-python",
   "name": "python",
   "nbconvert_exporter": "python",
   "pygments_lexer": "ipython3",
   "version": "3.6.5"
  }
 },
 "nbformat": 4,
 "nbformat_minor": 2
}
