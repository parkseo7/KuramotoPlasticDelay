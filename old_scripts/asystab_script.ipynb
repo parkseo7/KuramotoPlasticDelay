{
 "cells": [
  {
   "cell_type": "markdown",
   "metadata": {},
   "source": [
    "# Libraries"
   ]
  },
  {
   "cell_type": "code",
   "execution_count": 1,
   "metadata": {},
   "outputs": [],
   "source": [
    "from __future__ import division, print_function\n",
    "from importlib import import_module\n",
    "\n",
    "import os\n",
    "import sys\n",
    "import numpy as np\n",
    "from numpy.polynomial.polynomial import polyval\n",
    "import scipy.io as sio\n",
    "import matplotlib.pyplot as plt\n",
    "import math\n",
    "from math import pi\n",
    "\n",
    "# Import tqdm (progress bar)\n",
    "try:\n",
    "    library = import_module('tqdm')\n",
    "except:\n",
    "    print(sys.exc_info())\n",
    "else:\n",
    "    globals()['tqdm'] = library\n",
    "\n",
    "from lib import *\n",
    "\n",
    "from IPython.display import clear_output\n",
    "%matplotlib inline"
   ]
  },
  {
   "cell_type": "markdown",
   "metadata": {},
   "source": [
    "# Directories"
   ]
  },
  {
   "cell_type": "code",
   "execution_count": 2,
   "metadata": {},
   "outputs": [],
   "source": [
    "# Data files\n",
    "name_folder_im = 'matlab2'\n",
    "name_folder_ex = 'export'\n",
    "name_export = 'matlab1_stab'\n",
    "\n",
    "# Directory\n",
    "dir_main = os.getcwd()\n",
    "dir_folder_im = os.path.join(dir_main, 'data', name_folder_im)\n",
    "dir_file_ex = os.path.join(dir_main, 'data', name_folder_ex, name_export)\n",
    "\n",
    "# List files\n",
    "mat_list = os.listdir(dir_folder_im)"
   ]
  },
  {
   "cell_type": "markdown",
   "metadata": {},
   "source": [
    "# Set-up"
   ]
  },
  {
   "cell_type": "code",
   "execution_count": 3,
   "metadata": {},
   "outputs": [],
   "source": [
    "asy = 0.1"
   ]
  },
  {
   "cell_type": "markdown",
   "metadata": {},
   "source": [
    "# Import Data"
   ]
  },
  {
   "cell_type": "code",
   "execution_count": 4,
   "metadata": {},
   "outputs": [
    {
     "name": "stderr",
     "output_type": "stream",
     "text": [
      " 94%|███████████████████████████████████████▎  | 72/77 [00:01<00:00, 55.70it/s]"
     ]
    }
   ],
   "source": [
    "# Progress bar\n",
    "try:\n",
    "    total = len(mat_list)\n",
    "    pbar = tqdm.tqdm(total=total)\n",
    "    up_num = 1            \n",
    "except:\n",
    "    print('tqmb package missing! No progress bar defined.')\n",
    "    is_bar = False\n",
    "else:\n",
    "    is_bar = True\n",
    "\n",
    "# Tuple list (later meshes)\n",
    "stab_list = []\n",
    "\n",
    "for k in range(len(mat_list)):\n",
    "    dir_mat = os.path.join(dir_folder_im, mat_list[k])\n",
    "    dict_mat = sio.loadmat(dir_mat)\n",
    "    \n",
    "    # Solution\n",
    "    sol = {}\n",
    "    sol['t'] = np.reshape(dict_mat['t'], -1)\n",
    "    sol['y'] = dict_mat['y']\n",
    "    sol['yp'] = dict_mat['yp']\n",
    "    \n",
    "    sol['gain'] = dict_mat['gain'][0,0]\n",
    "    sol['T'] = dict_mat['T'][0,0]\n",
    "    \n",
    "    # Compute the global frequency:\n",
    "    arr_omega = asylib.weight_avg(sol['t'], sol['yp'], asy)\n",
    "    Omega = np.sum(arr_omega) / arr_omega.size\n",
    "    \n",
    "    Omega_vars = asylib.weight_avg(sol['t'], (sol['yp'] - Omega)**2, asy)\n",
    "    Omega_var = np.sum(Omega_vars)\n",
    "    \n",
    "    # Get array of asymptotic phases:\n",
    "    arr_lin = Omega*sol['t']\n",
    "    arr_lin = arr_lin[:,None]\n",
    "\n",
    "    arr_diff = sol['y'] - arr_lin\n",
    "    asy_phases = asylib.weight_avg(sol['t'], arr_diff, asy)\n",
    "    phase_var = asylib.weight_avg(sol['t'], (arr_diff - asy_phases)**2, asy)\n",
    "    phase_var = np.sum(phase_var)\n",
    "    \n",
    "    # Store\n",
    "    stab_list.append((sol['T'], sol['gain'], Omega_var, phase_var))\n",
    "    \n",
    "    # Update progress bar (pbar):\n",
    "    if is_bar:\n",
    "        pbar.update(up_num)    "
   ]
  },
  {
   "cell_type": "markdown",
   "metadata": {},
   "source": [
    "# Convert to mesh arrays (for dotted heatmap)"
   ]
  },
  {
   "cell_type": "code",
   "execution_count": 5,
   "metadata": {},
   "outputs": [],
   "source": [
    "T_list = []\n",
    "gain_list = []\n",
    "\n",
    "for k in range(len(stab_list)):\n",
    "    p = stab_list[k]\n",
    "    \n",
    "    if p[0] not in T_list:\n",
    "        T_list.append(p[0])\n",
    "    if p[1] not in gain_list:\n",
    "        gain_list.append(p[1])\n",
    "    \n",
    "# Sort in increasing order\n",
    "T_list.sort()\n",
    "gain_list.sort()\n",
    "\n",
    "# Create meshes\n",
    "gain_mesh, T_mesh = np.meshgrid(np.array(gain_list), np.array(T_list)) \n",
    "var_mesh = np.zeros(gain_mesh.shape)\n",
    "\n",
    "# Fill error (var) mesh:\n",
    "for j in range(len(stab_list)):\n",
    "    \n",
    "    # Find indices m, n:\n",
    "    T = stab_list[j][0]\n",
    "    gain = stab_list[j][1]\n",
    "    var = stab_list[j][2] + stab_list[j][3]\n",
    "    \n",
    "    m = np.where(np.array(T_list) == T)\n",
    "    n = np.where(np.array(gain_list) == gain)\n",
    "    \n",
    "    var_mesh[m,n] = var"
   ]
  },
  {
   "cell_type": "markdown",
   "metadata": {},
   "source": [
    "# Plot"
   ]
  },
  {
   "cell_type": "code",
   "execution_count": 21,
   "metadata": {},
   "outputs": [
    {
     "data": {
      "text/plain": [
       "<matplotlib.contour.QuadContourSet at 0xa9aaba8>"
      ]
     },
     "execution_count": 21,
     "metadata": {},
     "output_type": "execute_result"
    },
    {
     "data": {
      "image/png": "[encoded data removed]",
      "text/plain": [
       "<Figure size 432x288 with 1 Axes>"
      ]
     },
     "metadata": {},
     "output_type": "display_data"
    }
   ],
   "source": [
    "fig, ax = plt.subplots(1,1)\n",
    "\n",
    "ax.set_xlim(T_list[0], T_list[-1])\n",
    "ax.set_ylim(gain_list[0], gain_list[-1])\n",
    "\n",
    "L_var = 0\n",
    "U_var = 2.5\n",
    "alpha = 1.0\n",
    "\n",
    "levels = np.linspace(L_var, U_var, 40)\n",
    "\n",
    "ax.contourf(T_mesh, gain_mesh, var_mesh, levels, cmap='Greys', alpha=alpha)"
   ]
  },
  {
   "cell_type": "code",
   "execution_count": 7,
   "metadata": {},
   "outputs": [
    {
     "data": {
      "text/plain": [
       "array([[3.26726696e-05, 3.26726696e-05, 3.26726696e-05, 3.26726696e-05,\n",
       "        3.26726696e-05, 3.26726696e-05, 3.26726696e-05],\n",
       "       [6.17649230e-04, 9.76899565e-01, 1.99649046e-02, 9.32607882e-04,\n",
       "        1.39619087e-04, 8.11220327e-05, 2.84271685e-05],\n",
       "       [6.30480465e-05, 2.12927915e+00, 1.49456560e-02, 6.79673154e-04,\n",
       "        1.44272506e-04, 5.63677646e-05, 1.80753162e-04],\n",
       "       [1.96344488e-06, 1.76025900e+00, 2.46690283e-02, 8.71638863e-04,\n",
       "        1.81339876e-04, 3.58776323e-04, 8.70611846e-05],\n",
       "       [1.58344481e-06, 1.90001758e+00, 2.15019491e-02, 8.78106059e-04,\n",
       "        4.68443485e-04, 1.73879432e-04, 1.22003648e-04],\n",
       "       [1.08584982e-03, 1.79619170e+00, 2.69729052e-02, 1.26104025e-03,\n",
       "        8.04965585e-05, 1.02509983e-04, 5.77895071e-05],\n",
       "       [1.11592450e-04, 8.10491026e-01, 2.80986488e-02, 1.36653448e-03,\n",
       "        6.97747329e-04, 1.50712562e-04, 1.96462304e-04],\n",
       "       [4.69170304e-04, 1.84932589e+00, 2.45375550e-02, 2.63064793e-03,\n",
       "        6.97049049e-04, 2.03982287e-04, 4.42984230e-04],\n",
       "       [2.13713529e-04, 1.40547157e+00, 2.51316773e-02, 2.55424125e-03,\n",
       "        8.72676143e-04, 3.42406111e-04, 2.81640159e-04],\n",
       "       [1.95102004e-05, 1.26265791e+00, 2.68200917e-02, 2.29993699e-03,\n",
       "        9.71768246e-04, 3.95287237e-04, 6.26178270e-04],\n",
       "       [1.03745143e-05, 1.84337927e+00, 2.25552960e-02, 4.70391329e-03,\n",
       "        4.55922968e-04, 4.90807261e-04, 3.28361679e-04]])"
      ]
     },
     "execution_count": 7,
     "metadata": {},
     "output_type": "execute_result"
    }
   ],
   "source": [
    "gain_list[1]"
   ]
  },
  {
   "cell_type": "code",
   "execution_count": 16,
   "metadata": {},
   "outputs": [
    {
     "data": {
      "text/plain": [
       "[(0.1, 0, 0.00013076495566096365, 0.0004868842746626768),\n",
       " (0.1, 10, 0.009095850105779688, 0.010869054463351211),\n",
       " (0.1, 15, 0.000325579004744504, 0.000607028877672812),\n",
       " (0.1, 20, 3.5039250002110527e-05, 0.00010457983679352227),\n",
       " (0.1, 25, 1.9063668830005113e-05, 6.205836387687748e-05),\n",
       " (0.1, 30, 6.112868753433592e-06, 2.231429975877551e-05),\n",
       " (0.1, 5, 0.39671254801316214, 0.5801870166073885),\n",
       " (0.2, 0, 1.6740999863193528e-05, 4.630704666966866e-05),\n",
       " (0.2, 10, 0.007272393913050635, 0.007673262078313019),\n",
       " (0.2, 15, 0.00030090692566672744, 0.0003787662278488671),\n",
       " (0.2, 20, 4.208339239381415e-05, 0.00010218911339312739),\n",
       " (0.2, 25, 1.3073637173495112e-05, 4.329412738511628e-05),\n",
       " (0.2, 30, 4.05057277405082e-05, 0.00014024743431518728),\n",
       " (0.2, 5, 1.3902448328091734, 0.739034319078442),\n",
       " (0.30000000000000004, 0, 2.929660415764983e-07, 1.6704788378261122e-06),\n",
       " (0.30000000000000004, 10, 0.012205403501856974, 0.01246362481814307),\n",
       " (0.30000000000000004, 15, 0.00039671197435422204, 0.0004749268885181117),\n",
       " (0.30000000000000004, 20, 5.302648111810519e-05, 0.00012831339451691224),\n",
       " (0.30000000000000004, 25, 9.108825986107755e-05, 0.0002676880634499358),\n",
       " (0.30000000000000004, 30, 2.5802960910045836e-05, 6.125822366464089e-05),\n",
       " (0.30000000000000004, 5, 1.21100085575222, 0.5492581475766722),\n",
       " (0.4, 0, 1.0184527395902228e-06, 5.649920731110066e-07),\n",
       " (0.4, 10, 0.01128002705540998, 0.010221922008717712),\n",
       " (0.4, 15, 0.0003500761671872325, 0.000528029892050562),\n",
       " (0.4, 20, 0.00013264163227216208, 0.0003358018530296852),\n",
       " (0.4, 25, 6.473039618821975e-05, 0.00010914903559121019),\n",
       " (0.4, 30, 2.703141741723424e-05, 9.497223087364713e-05),\n",
       " (0.4, 5, 1.3244968763635807, 0.5755207072257387),\n",
       " (0.5, 0, 0.001059081830295049, 2.6767994500874684e-05),\n",
       " (0.5, 10, 0.01407517296988984, 0.012897732260221138),\n",
       " (0.5, 15, 0.0005567189873546772, 0.0007043212595012499),\n",
       " (0.5, 20, 1.9304320395068573e-05, 6.119223814603191e-05),\n",
       " (0.5, 25, 3.758423597070806e-05, 6.492574690793886e-05),\n",
       " (0.5, 30, 1.389946207646884e-05, 4.3890044990736825e-05),\n",
       " (0.5, 5, 1.2377494795127988, 0.5584422224869338),\n",
       " (0.6, 0, 8.290330232812694e-06, 0.00010330211957807167),\n",
       " (0.6, 10, 0.015120181263486588, 0.012978467575391686),\n",
       " (0.6, 15, 0.0006219146305416094, 0.0007446198544429691),\n",
       " (0.6, 20, 0.0002320155868529515, 0.0004657317423698235),\n",
       " (0.6, 25, 5.3269993980045415e-05, 9.744256805138374e-05),\n",
       " (0.6, 30, 5.331434064930417e-05, 0.0001431479629838727),\n",
       " (0.6, 5, 0.5752144875323919, 0.23527653824598418),\n",
       " (0.7, 0, 2.293725858726755e-05, 0.00044623304559061677),\n",
       " (0.7, 10, 0.012665925072699534, 0.01187162990642784),\n",
       " (0.7, 15, 0.001207012365622597, 0.0014236355596647717),\n",
       " (0.7, 20, 0.0001757987045905002, 0.0005212503446928079),\n",
       " (0.7, 25, 5.374002735949614e-05, 0.00015024225954324985),\n",
       " (0.7, 30, 0.00012734905116338163, 0.00031563517923017685),\n",
       " (0.7, 5, 1.3366073456387189, 0.5127185447663872),\n",
       " (0.8, 0, 1.0380265482679445e-05, 0.00020333326305055252),\n",
       " (0.8, 10, 0.012175035616249236, 0.012956641727074348),\n",
       " (0.8, 15, 0.0010776125564823662, 0.0014766286936465163),\n",
       " (0.8, 20, 0.00021374907040071282, 0.0006589270727697483),\n",
       " (0.8, 25, 8.83182613588818e-05, 0.00025408784923663903),\n",
       " (0.8, 30, 0.00010549640509470266, 0.0001761437540286468),\n",
       " (0.8, 5, 0.8253068740217998, 0.5801646921046807),\n",
       " (0.9, 0, 3.7819956023548914e-06, 1.572820482984711e-05),\n",
       " (0.9, 10, 0.012702464528243883, 0.014117627196742338),\n",
       " (0.9, 15, 0.0011291117240600041, 0.0011708252651081229),\n",
       " (0.9, 20, 0.00034183810375836173, 0.0006299301421640261),\n",
       " (0.9, 25, 0.00019574656412773103, 0.0001995406725239241),\n",
       " (0.9, 30, 0.00021016742984225766, 0.000416010840038511),\n",
       " (0.9, 5, 0.7358408693924707, 0.5268170360775126),\n",
       " (0, 0, 3.2654442174116166e-05, 1.822742631477183e-08),\n",
       " (0, 10, 3.2654442174116166e-05, 1.822742631477183e-08),\n",
       " (0, 15, 3.2654442174116166e-05, 1.822742631477183e-08),\n",
       " (0, 20, 3.2654442174116166e-05, 1.822742631477183e-08),\n",
       " (0, 25, 3.2654442174116166e-05, 1.822742631477183e-08),\n",
       " (0, 30, 3.2654442174116166e-05, 1.822742631477183e-08),\n",
       " (0, 5, 3.2654442174116166e-05, 1.822742631477183e-08),\n",
       " (1, 0, 2.862473039319172e-06, 7.5120412177512625e-06),\n",
       " (1, 10, 0.012175742444514895, 0.010379553515063146),\n",
       " (1, 15, 0.0020947765825232783, 0.0026091367083635846),\n",
       " (1, 20, 0.0001582551840321476, 0.0002976677841023329),\n",
       " (1, 25, 0.00015540254429382641, 0.00033540471692123145),\n",
       " (1, 30, 0.00013460912153439927, 0.00019375255746467248),\n",
       " (1, 5, 1.1089991430973654, 0.7343801305538395)]"
      ]
     },
     "execution_count": 16,
     "metadata": {},
     "output_type": "execute_result"
    }
   ],
   "source": [
    "stab_list"
   ]
  },
  {
   "cell_type": "code",
   "execution_count": null,
   "metadata": {},
   "outputs": [],
   "source": []
  }
 ],
 "metadata": {
  "kernelspec": {
   "display_name": "Python 3",
   "language": "python",
   "name": "python3"
  },
  "language_info": {
   "codemirror_mode": {
    "name": "ipython",
    "version": 3
   },
   "file_extension": ".py",
   "mimetype": "text/x-python",
   "name": "python",
   "nbconvert_exporter": "python",
   "pygments_lexer": "ipython3",
   "version": "3.6.5"
  }
 },
 "nbformat": 4,
 "nbformat_minor": 2
}
