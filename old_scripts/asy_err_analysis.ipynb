{
 "cells": [
  {
   "cell_type": "markdown",
   "metadata": {},
   "source": [
    "# About\n",
    "\n",
    "Takes a .mat file exported from asy_script and finds the roots using the same initial conditions."
   ]
  },
  {
   "cell_type": "markdown",
   "metadata": {},
   "source": [
    "# Library"
   ]
  },
  {
   "cell_type": "code",
   "execution_count": 1,
   "metadata": {},
   "outputs": [],
   "source": [
    "from __future__ import division, print_function\n",
    "\n",
    "import os\n",
    "import numpy as np\n",
    "from numpy.polynomial.polynomial import polyval\n",
    "from scipy import optimize\n",
    "import scipy.io as sio\n",
    "import matplotlib.pyplot as plt\n",
    "import math\n",
    "from math import pi\n",
    "\n",
    "from lib import *\n",
    "\n",
    "from IPython.display import clear_output\n",
    "%matplotlib inline"
   ]
  },
  {
   "cell_type": "markdown",
   "metadata": {},
   "source": [
    "# Exponential Test"
   ]
  },
  {
   "cell_type": "code",
   "execution_count": 2,
   "metadata": {},
   "outputs": [
    {
     "name": "stdout",
     "output_type": "stream",
     "text": [
      "0.00028377070012819416\n"
     ]
    }
   ],
   "source": [
    "# Power series of exponential\n",
    "z = 0.5\n",
    "N = 4\n",
    "exp_pow = lambda x: eigenlib.exp_power_series(x, N)\n",
    "err = np.abs(np.exp(z) - exp_pow(z))\n",
    "print(err)"
   ]
  },
  {
   "cell_type": "markdown",
   "metadata": {},
   "source": [
    "# Gaussian Test"
   ]
  },
  {
   "cell_type": "code",
   "execution_count": 3,
   "metadata": {},
   "outputs": [
    {
     "name": "stdout",
     "output_type": "stream",
     "text": [
      "0.0010565686176893796\n",
      "0.07767650351721155\n",
      "0.07873307213490092\n"
     ]
    }
   ],
   "source": [
    "delta2 = 0.1**2\n",
    "L = 2*pi\n",
    "steps=200\n",
    "deg = 3\n",
    "\n",
    "sine_gauss = lambda t: eigenlib.sine_fold(t, delta2, L=L, steps=steps)\n",
    "sine_asy = lambda t: eigenlib.sin_gauss_asy_series(t, delta2, deg)\n",
    "\n",
    "t = 2\n",
    "err = np.abs(sine_gauss(t) - sine_asy(t))\n",
    "print(err)\n",
    "print(sine_gauss(t))\n",
    "print(sine_asy(t))"
   ]
  },
  {
   "cell_type": "markdown",
   "metadata": {},
   "source": [
    "# Cosine and sine power terms"
   ]
  },
  {
   "cell_type": "code",
   "execution_count": 50,
   "metadata": {},
   "outputs": [
    {
     "name": "stdout",
     "output_type": "stream",
     "text": [
      "-6.251097056000331e-06\n",
      "-2.7482717144119512e-05\n",
      "-6.263624304609552e-06\n",
      "-2.7540068771179056e-05\n",
      "-1.6\n"
     ]
    }
   ],
   "source": [
    "delta2 = 0.04**2\n",
    "L = 2*pi\n",
    "steps = 500\n",
    "deg = 3\n",
    "\n",
    "sin_xN = lambda t: eigenlib.sin_xN_gauss(t, deg, delta2, L=L, steps=steps)\n",
    "cos_xN = lambda t: eigenlib.\n",
    "\n",
    "\n",
    "trig_analytic = lambda t: eigenlib.trig_power_gauss1(t, deg, delta2)\n",
    "trig_analytic2 = lambda t: eigenlib.trig_power_gauss2(t, deg, delta2, deg=30) # deg here needs to be large\n",
    "\n",
    "t = -40\n",
    "print(sin_xN(t))\n",
    "print(cos_xN(t))\n",
    "print(trig_analytic(t))\n",
    "print(trig_analytic2(t))\n",
    "print(t * np.sqrt(delta2))"
   ]
  },
  {
   "cell_type": "code",
   "execution_count": null,
   "metadata": {},
   "outputs": [],
   "source": []
  }
 ],
 "metadata": {
  "kernelspec": {
   "display_name": "Python 3",
   "language": "python",
   "name": "python3"
  },
  "language_info": {
   "codemirror_mode": {
    "name": "ipython",
    "version": 3
   },
   "file_extension": ".py",
   "mimetype": "text/x-python",
   "name": "python",
   "nbconvert_exporter": "python",
   "pygments_lexer": "ipython3",
   "version": "3.6.5"
  }
 },
 "nbformat": 4,
 "nbformat_minor": 2
}
