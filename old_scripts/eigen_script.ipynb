{
 "cells": [
  {
   "cell_type": "markdown",
   "metadata": {},
   "source": [
    "# Libraries"
   ]
  },
  {
   "cell_type": "code",
   "execution_count": 1,
   "metadata": {},
   "outputs": [],
   "source": [
    "from __future__ import division, print_function\n",
    "from importlib import import_module\n",
    "\n",
    "import os\n",
    "import sys\n",
    "import numpy as np\n",
    "from numpy import linalg\n",
    "from numpy.polynomial.polynomial import polyval\n",
    "import scipy.io as sio\n",
    "import matplotlib.pyplot as plt\n",
    "import math\n",
    "from math import pi\n",
    "\n",
    "# Import tqdm (progress bar)\n",
    "try:\n",
    "    library = import_module('tqdm')\n",
    "except:\n",
    "    print(sys.exc_info())\n",
    "else:\n",
    "    globals()['tqdm'] = library\n",
    "\n",
    "from lib import *\n",
    "\n",
    "from IPython.display import clear_output\n",
    "%matplotlib inline"
   ]
  },
  {
   "cell_type": "markdown",
   "metadata": {},
   "source": [
    "# Directories"
   ]
  },
  {
   "cell_type": "code",
   "execution_count": 2,
   "metadata": {},
   "outputs": [],
   "source": [
    "# Data files\n",
    "\n",
    "# Name of asymptotic phases (outputted from asy_script)\n",
    "name_data = 'export'\n",
    "name_phi = 'sol30_gain20'\n",
    "\n",
    "name_folder = 'export'\n",
    "name_export = 'eigen_heatmap'\n",
    "name_import = 'eigen_heatmap'\n",
    "\n",
    "# Directory\n",
    "dir_main = os.getcwd()\n",
    "dir_folder = os.path.join(dir_main, 'data', name_folder)\n",
    "dir_export = os.path.join(dir_folder, name_export)\n",
    "dir_import = os.path.join(dir_folder, name_import)\n",
    "dir_phi = os.path.join(dir_main, 'data', name_data, name_phi)"
   ]
  },
  {
   "cell_type": "markdown",
   "metadata": {},
   "source": [
    "# Set-up"
   ]
  },
  {
   "cell_type": "code",
   "execution_count": 3,
   "metadata": {},
   "outputs": [],
   "source": [
    "# Model parameters\n",
    "N = 30\n",
    "w0 = 1.0\n",
    "g = 1.5\n",
    "a = 1.0\n",
    "T = 0.1\n",
    "gain = 35\n",
    "\n",
    "# Import actual data\n",
    "dict_mat = sio.loadmat(dir_phi)\n",
    "\n",
    "phi_im = np.reshape(dict_mat['phi'], -1)\n",
    "Omega_im = dict_mat['Omega'][0,0]\n",
    "tau0_im = dict_mat['tau0']\n",
    "b = dict_mat['b']\n",
    "\n",
    "# Fixed-point values (obtain b from asy_script)\n",
    "phi_fun = lambda X: polyval(X, b)\n",
    "\n",
    "par = {'N': N,\n",
    "       'g': g,\n",
    "       'T': T,\n",
    "       'omega0': w0,\n",
    "       'a': a,\n",
    "       'gain': gain\n",
    "       }\n",
    "\n",
    "fun = lambda u: w0 + g*a*funlib.R_sum(u, N**2, N, par, phi_fun) - u\n",
    "\n",
    "Omega = rootlib.find_root(fun, w0, w0-g, w0+g, steps=20)\n",
    "phi = phi_fun(np.arange(N)/N)\n",
    "tau0 = T*np.ones((N,N))\n",
    "# tau0 = 2*T*np.random.random(size=(N,N))\n",
    "\n",
    "# tauE, Delta\n",
    "Delta = (phi_im[:, None] - phi_im).T\n",
    "zeros = np.zeros((N,N))\n",
    "tauE = np.maximum(tau0_im + gain*Delta, zeros)"
   ]
  },
  {
   "cell_type": "markdown",
   "metadata": {},
   "source": [
    "# Eigenvalues"
   ]
  },
  {
   "cell_type": "code",
   "execution_count": 4,
   "metadata": {},
   "outputs": [
    {
     "name": "stdout",
     "output_type": "stream",
     "text": [
      "Error mesh computed!\n"
     ]
    }
   ],
   "source": [
    "det_z = lambda z: linalg.slogdet(eigenlib.IM(z, g, gain, Omega_im, tauE, Delta))\n",
    "# det_z = lambda z: linalg.slogdet(eigenlib.IM(z, g, 0, w0, tau0_im, zeros))\n",
    "\n",
    "# Heatmap array\n",
    "u_min, u_max, N_u = -10, 10, 101\n",
    "v_min, v_max, N_v = -100, 100, 1001\n",
    "\n",
    "# Bounds\n",
    "L_z, U_z = -100, 100\n",
    "\n",
    "# Obtain mesh of region\n",
    "u_part = np.linspace(u_min, u_max, N_u)\n",
    "v_part = np.linspace(v_min, v_max, N_v)\n",
    "v_mesh, u_mesh = np.meshgrid(v_part, u_part)\n",
    "\n",
    "# Compute every value of |f|\n",
    "det_mesh = np.zeros((N_u, N_v))\n",
    "\n",
    "# Progress bar\n",
    "try:\n",
    "    total = N_u*N_v\n",
    "    pbar = tqdm.tqdm(total=total-1)\n",
    "    up_num = 1            \n",
    "except:\n",
    "    print('tqmb package missing! No progress bar defined.')\n",
    "    is_bar = False\n",
    "else:\n",
    "    is_bar = True\n",
    "    \n",
    "for k in range(N_u):\n",
    "    for l in range(N_v):\n",
    "        det_mesh[k,l] = det_z(u_mesh[k,l] + v_mesh[k,l]*1j)[1]\n",
    "        \n",
    "        # Update progress bar (pbar):\n",
    "        if is_bar:\n",
    "            pbar.update(up_num)\n",
    "        \n",
    "\n",
    "# Bound mesh\n",
    "det_mesh = np.maximum(det_mesh, L_z*np.ones(det_mesh.shape))\n",
    "det_mesh = np.minimum(det_mesh, U_z*np.ones(det_mesh.shape))\n",
    "\n",
    "clear_output()\n",
    "print('Error mesh computed!')"
   ]
  },
  {
   "cell_type": "markdown",
   "metadata": {},
   "source": [
    "# Export"
   ]
  },
  {
   "cell_type": "code",
   "execution_count": 5,
   "metadata": {},
   "outputs": [],
   "source": [
    "# Define dictionary\n",
    "mat_det = {'det_mesh': det_mesh.T,\n",
    "           'u_mesh': u_mesh.T,\n",
    "           'v_mesh': v_mesh.T,\n",
    "           'u': np.array([u_min, u_max, N_u])[:,None],\n",
    "           'v': np.array([v_min, v_max, N_v])[:,None],\n",
    "           'bounds': np.array([L_z, U_z])[:,None]\n",
    "          }\n",
    "\n",
    "# Export\n",
    "sio.savemat(dir_export, mat_det)"
   ]
  },
  {
   "cell_type": "markdown",
   "metadata": {},
   "source": [
    "# Plot heatmap"
   ]
  },
  {
   "cell_type": "markdown",
   "metadata": {},
   "source": [
    "## Import"
   ]
  },
  {
   "cell_type": "code",
   "execution_count": 6,
   "metadata": {},
   "outputs": [],
   "source": [
    "mat_im = sio.loadmat(dir_import)\n",
    "\n",
    "# Define all values\n",
    "det_mesh = mat_im['det_mesh']\n",
    "u_mesh = mat_im['u_mesh']\n",
    "v_mesh = mat_im['v_mesh']\n",
    "u_min, u_max, N_u = mat_im['u']\n",
    "v_min, v_max, N_v = mat_im['v']\n",
    "L_z, U_z = mat_im['bounds']"
   ]
  },
  {
   "cell_type": "markdown",
   "metadata": {},
   "source": [
    "## Plot"
   ]
  },
  {
   "cell_type": "code",
   "execution_count": 7,
   "metadata": {},
   "outputs": [
    {
     "data": {
      "text/plain": [
       "<matplotlib.lines.Line2D at 0x8d99128>"
      ]
     },
     "execution_count": 7,
     "metadata": {},
     "output_type": "execute_result"
    },
    {
     "data": {
      "image/png": "[encoded data removed]",
      "text/plain": [
       "<Figure size 432x288 with 1 Axes>"
      ]
     },
     "metadata": {},
     "output_type": "display_data"
    }
   ],
   "source": [
    "fig, ax = plt.subplots(1,1)\n",
    "\n",
    "ax.set_xlim(u_min, u_max)\n",
    "ax.set_ylim(v_min, v_max)\n",
    "\n",
    "\n",
    "alpha = 0.8\n",
    "levels = np.linspace(L_z, U_z, 10)\n",
    "\n",
    "ax.contourf(u_mesh, v_mesh, det_mesh, levels, cmap='Blues', alpha=alpha)\n",
    "ax.axvline(linewidth=1.0, color='red')"
   ]
  },
  {
   "cell_type": "markdown",
   "metadata": {},
   "source": [
    "# Root finder"
   ]
  },
  {
   "cell_type": "code",
   "execution_count": 8,
   "metadata": {},
   "outputs": [],
   "source": [
    "# Define determinant function\n",
    "im_fix = 0\n",
    "det_u = lambda u: det_z(u + 1j*im_fix)[1]\n",
    "\n",
    "# Implement root finder\n",
    "\n",
    "guess = 3.0\n",
    "guess_a = 2.0\n",
    "guess_b = 5.0\n",
    "root, stat = rootlib.find_root(det_u, guess, guess_a, guess_b, steps=1000)"
   ]
  },
  {
   "cell_type": "markdown",
   "metadata": {},
   "source": [
    "# Plot fixed-value functions"
   ]
  },
  {
   "cell_type": "code",
   "execution_count": 9,
   "metadata": {},
   "outputs": [
    {
     "data": {
      "text/plain": [
       "[<matplotlib.lines.Line2D at 0x94bd6a0>]"
      ]
     },
     "execution_count": 9,
     "metadata": {},
     "output_type": "execute_result"
    },
    {
     "data": {
      "image/png": "[encoded data removed]",
      "text/plain": [
       "<Figure size 432x288 with 1 Axes>"
      ]
     },
     "metadata": {},
     "output_type": "display_data"
    },
    {
     "name": "stderr",
     "output_type": "stream",
     "text": [
      "\r",
      "101101it [00:40, 4492.39it/s]                                                  "
     ]
    }
   ],
   "source": [
    "fig, ax = plt.subplots(1,1)\n",
    "det_u_min = 0\n",
    "det_u_max = 5.0\n",
    "ax.set_xlim(det_u_min, det_u_max)\n",
    "det_u_x_array = np.linspace(det_u_min, det_u_max, num=2000)\n",
    "det_u_y_array = np.zeros(det_u_x_array.size)\n",
    "for i in range(det_u_x_array.size):\n",
    "    det_u_y_array[i] = det_u(det_u_x_array[i])\n",
    "    \n",
    "ax.plot(det_u_x_array, det_u_y_array)"
   ]
  },
  {
   "cell_type": "code",
   "execution_count": 15,
   "metadata": {},
   "outputs": [
    {
     "data": {
      "text/plain": [
       "11.241777678175128"
      ]
     },
     "execution_count": 15,
     "metadata": {},
     "output_type": "execute_result"
    }
   ],
   "source": [
    "tauE[1,3]"
   ]
  },
  {
   "cell_type": "code",
   "execution_count": null,
   "metadata": {},
   "outputs": [],
   "source": [
    "\n"
   ]
  }
 ],
 "metadata": {
  "kernelspec": {
   "display_name": "Python 3",
   "language": "python",
   "name": "python3"
  },
  "language_info": {
   "codemirror_mode": {
    "name": "ipython",
    "version": 3
   },
   "file_extension": ".py",
   "mimetype": "text/x-python",
   "name": "python",
   "nbconvert_exporter": "python",
   "pygments_lexer": "ipython3",
   "version": "3.6.5"
  }
 },
 "nbformat": 4,
 "nbformat_minor": 2
}
