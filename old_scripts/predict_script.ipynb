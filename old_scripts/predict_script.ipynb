{
 "cells": [
  {
   "cell_type": "markdown",
   "metadata": {},
   "source": [
    "# Libraries"
   ]
  },
  {
   "cell_type": "code",
   "execution_count": 1,
   "metadata": {},
   "outputs": [],
   "source": [
    "from __future__ import division, print_function\n",
    "from importlib import import_module\n",
    "\n",
    "import os\n",
    "import sys\n",
    "import numpy as np\n",
    "from numpy.polynomial.polynomial import polyval\n",
    "import scipy.io as sio\n",
    "import matplotlib.pyplot as plt\n",
    "import math\n",
    "from math import pi\n",
    "\n",
    "# Import tqdm (progress bar)\n",
    "try:\n",
    "    library = import_module('tqdm')\n",
    "except:\n",
    "    print(sys.exc_info())\n",
    "else:\n",
    "    globals()['tqdm'] = library\n",
    "\n",
    "from lib import *\n",
    "\n",
    "from IPython.display import clear_output\n",
    "%matplotlib inline"
   ]
  },
  {
   "cell_type": "markdown",
   "metadata": {},
   "source": [
    "# Directories"
   ]
  },
  {
   "cell_type": "code",
   "execution_count": 2,
   "metadata": {},
   "outputs": [],
   "source": [
    "# Data files\n",
    "name_folder = 'matlab5'\n",
    "name_export = 'matlab5_export'\n",
    "\n",
    "# Directory\n",
    "dir_main = os.getcwd()\n",
    "dir_folder = os.path.join(dir_main, 'data', name_folder)\n",
    "\n",
    "# List files\n",
    "mat_list = os.listdir(dir_folder)"
   ]
  },
  {
   "cell_type": "markdown",
   "metadata": {},
   "source": [
    "# Set-up"
   ]
  },
  {
   "cell_type": "markdown",
   "metadata": {},
   "source": [
    "## Data processing values"
   ]
  },
  {
   "cell_type": "code",
   "execution_count": 3,
   "metadata": {},
   "outputs": [],
   "source": [
    "# Parameters (setup)\n",
    "asy = 0.1\n",
    "steps = 20"
   ]
  },
  {
   "cell_type": "markdown",
   "metadata": {},
   "source": [
    "## Data storage"
   ]
  },
  {
   "cell_type": "code",
   "execution_count": 4,
   "metadata": {},
   "outputs": [],
   "source": [
    "# Data dictionary (Omega = numerical frequency, others are predictions)\n",
    "data = {'gain': [],\n",
    "        'Omega': [],\n",
    "        'Gauss': [],\n",
    "        '1': [],\n",
    "        '2': [],\n",
    "        '3': [],\n",
    "        '4': [],\n",
    "        '5': []\n",
    "       }\n",
    "\n",
    "coeffs = {} # key is the gain value\n",
    "\n",
    "# Parameters (fixed)\n",
    "dir_data0 = os.path.join(dir_folder, mat_list[0])\n",
    "dict_mat0 = sio.loadmat(dir_data0, appendmat=False)\n",
    "\n",
    "par = {'N': dict_mat0['N'][0,0],\n",
    "       'g': dict_mat0['g'][0,0],\n",
    "       'T': dict_mat0['T'][0,0],\n",
    "       'omega0': dict_mat0['omega0'][0,0],\n",
    "       'a': 1.0\n",
    "       }\n",
    "\n",
    "# Model parameters\n",
    "N_x = par['N']\n",
    "N_tau = N_x**2\n",
    "w0 = par['omega0']\n",
    "g = par['g']\n",
    "a = 1.0\n",
    "T = par['T']"
   ]
  },
  {
   "cell_type": "markdown",
   "metadata": {},
   "source": [
    "# Import data"
   ]
  },
  {
   "cell_type": "code",
   "execution_count": 5,
   "metadata": {},
   "outputs": [
    {
     "name": "stderr",
     "output_type": "stream",
     "text": [
      "100%|██████████████████████████████████████████| 42/42 [01:49<00:00,  2.61s/it]"
     ]
    }
   ],
   "source": [
    "# Progress bar\n",
    "try:\n",
    "    total = (1+1+5)*len(mat_list)\n",
    "    pbar = tqdm.tqdm(total=total)\n",
    "    up_num = 1            \n",
    "except:\n",
    "    print('tqmb package missing! No progress bar defined.')\n",
    "    is_bar = False\n",
    "else:\n",
    "    is_bar = True\n",
    "    \n",
    "for k in range(len(mat_list)):\n",
    "    dir_mat = os.path.join(dir_folder, mat_list[k])\n",
    "    dict_mat = sio.loadmat(dir_mat)\n",
    "    \n",
    "    coeff0 = {}\n",
    "    \n",
    "    # Solution\n",
    "    sol = {}\n",
    "    sol['t'] = np.reshape(dict_mat['t'], -1)\n",
    "    sol['y'] = dict_mat['y']\n",
    "    sol['yp'] = dict_mat['yp']\n",
    "    sol['gain'] = dict_mat['gain'][0,0]\n",
    "    \n",
    "    \n",
    "    # PROCESS DATA\n",
    "    par['gain'] = sol['gain']\n",
    "    \n",
    "    # Compute global frequency\n",
    "    arr_omega = asylib.weight_avg(sol['t'], sol['yp'], asy)\n",
    "    Omega = np.sum(arr_omega) / arr_omega.size\n",
    "    \n",
    "    # Store\n",
    "    data['gain'].append(sol['gain'])\n",
    "    data['Omega'].append(Omega)\n",
    "    \n",
    "    # Update progress bar (pbar):\n",
    "    if is_bar:\n",
    "        pbar.update(up_num)\n",
    "    \n",
    "    # Get array of asymptotic phases:\n",
    "    arr_lin = Omega*sol['t']\n",
    "    arr_lin = arr_lin[:,None]\n",
    "\n",
    "    arr_diff = sol['y'] - arr_lin\n",
    "    \n",
    "    # Asymptotic phases and indices (used to compute prediction values)\n",
    "    asy_phases = asylib.weight_avg(sol['t'], arr_diff, asy)\n",
    "    asy_inds = np.arange(asy_phases.size)/asy_phases.size\n",
    "    \n",
    "    # GAUSSIAN PREDICTION\n",
    "    \n",
    "    # Compute asymptotic phase variance\n",
    "    asy_diffs = asy_phases[:,None] - asy_phases\n",
    "    sigma2 = np.var(asy_diffs)\n",
    "    sigma = np.sqrt(sigma2)\n",
    "    \n",
    "    # Gaussian prediction\n",
    "    fun_gauss = lambda u: w0 + g*a*funlib.R_sum_gauss(u, N_tau, N_x, par, sigma) - u\n",
    "    Omega_gauss = rootlib.find_root(fun_gauss, w0, w0-g, w0+g, steps=steps)\n",
    "    \n",
    "    # Update progress bar (pbar):\n",
    "    if is_bar:\n",
    "        pbar.update(up_num)\n",
    "        \n",
    "    # Store\n",
    "    data['Gauss'].append(Omega_gauss)\n",
    "    coeff0['sigma2'] = sigma2\n",
    "    \n",
    "    # POLYNOMIAL PREDICTIONS\n",
    "    \n",
    "    for n in range(1,6):\n",
    "        \n",
    "        # Obtain coefficients\n",
    "        b = np.polyfit(asy_inds, asy_phases, n)\n",
    "        b = np.flip(b, axis=-1)\n",
    "    \n",
    "        phi_fun = lambda X: polyval(X, b)\n",
    "        fun_poly = lambda u: w0 + g*a*funlib.R_sum(u, N_tau, N_x, par, phi_fun) - u\n",
    "        Omega_poly = rootlib.find_root(fun_poly, w0, w0-g, w0+g, steps=steps)\n",
    "    \n",
    "        # Store\n",
    "        data[str(n)].append(Omega_poly)\n",
    "        coeff0[str(n)] = b.copy()\n",
    "        \n",
    "        # Update progress bar (pbar):\n",
    "        if is_bar:\n",
    "            pbar.update(up_num)"
   ]
  },
  {
   "cell_type": "markdown",
   "metadata": {},
   "source": [
    "# Plot"
   ]
  },
  {
   "cell_type": "code",
   "execution_count": 6,
   "metadata": {},
   "outputs": [
    {
     "data": {
      "text/plain": [
       "[<matplotlib.lines.Line2D at 0x178e8d1d438>]"
      ]
     },
     "execution_count": 6,
     "metadata": {},
     "output_type": "execute_result"
    },
    {
     "data": {
      "image/png": "[encoded data removed]",
      "text/plain": [
       "<Figure size 432x288 with 1 Axes>"
      ]
     },
     "metadata": {},
     "output_type": "display_data"
    }
   ],
   "source": [
    "fig, ax = plt.subplots(1,1)\n",
    "\n",
    "# Figure options\n",
    "pltopts = {'linestyle': '-',\n",
    "           'linewidth': 1.0,\n",
    "           'marker': '.',\n",
    "          }\n",
    "\n",
    "pltopts2 = {'linestyle': '-',\n",
    "            'linewidth': 3.0,\n",
    "            'marker': '.',\n",
    "           }\n",
    "ax.plot(data['gain'], data['Omega'], color='black', **pltopts2)\n",
    "ax.plot(data['gain'], data['Gauss'], color='red', **pltopts)\n",
    "ax.plot(data['gain'], data['1'], color='orange', **pltopts)\n",
    "ax.plot(data['gain'], data['2'], color='green', **pltopts)\n",
    "ax.plot(data['gain'], data['3'], color='blue', **pltopts)\n",
    "ax.plot(data['gain'], data['4'], color='purple', **pltopts)\n",
    "ax.plot(data['gain'], data['5'], color='cyan', **pltopts)"
   ]
  },
  {
   "cell_type": "markdown",
   "metadata": {},
   "source": [
    "# Export arrays"
   ]
  },
  {
   "cell_type": "code",
   "execution_count": 7,
   "metadata": {},
   "outputs": [],
   "source": [
    "# .mat file\n",
    "ex_mat = {}\n",
    "ex_mat['gain'] = np.array(data['gain'])\n",
    "ex_mat['Omega'] = np.array(data['Omega'])\n",
    "ex_mat['Gauss'] = np.array(data['Gauss'])\n",
    "ex_mat['1'] = np.array(data['1'])\n",
    "ex_mat['2'] = np.array(data['2'])\n",
    "ex_mat['3'] = np.array(data['3'])\n",
    "ex_mat['4'] = np.array(data['4'])\n",
    "ex_mat['5'] = np.array(data['5'])\n",
    "\n",
    "# Parameters\n",
    "ex_mat['N'] = par['N']\n",
    "ex_mat['w0'] = par['omega0']\n",
    "ex_mat['g'] = par['g']\n",
    "ex_mat['a'] = 1.0\n",
    "ex_mat['T'] = par['T']\n",
    "\n",
    "# Export\n",
    "dir_export = os.path.join(dir_main, 'data', 'export', name_export)\n",
    "sio.savemat(dir_export, ex_mat)"
   ]
  }
 ],
 "metadata": {
  "kernelspec": {
   "display_name": "Python 3",
   "language": "python",
   "name": "python3"
  },
  "language_info": {
   "codemirror_mode": {
    "name": "ipython",
    "version": 3
   },
   "file_extension": ".py",
   "mimetype": "text/x-python",
   "name": "python",
   "nbconvert_exporter": "python",
   "pygments_lexer": "ipython3",
   "version": "3.7.3"
  }
 },
 "nbformat": 4,
 "nbformat_minor": 2
}
