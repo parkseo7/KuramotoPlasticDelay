{
 "cells": [
  {
   "cell_type": "markdown",
   "metadata": {},
   "source": [
    "# Libraries"
   ]
  },
  {
   "cell_type": "code",
   "execution_count": 1,
   "metadata": {},
   "outputs": [],
   "source": [
    "from __future__ import division, print_function\n",
    "from importlib import import_module\n",
    "\n",
    "import os\n",
    "import sys\n",
    "import numpy as np\n",
    "from numpy.polynomial.polynomial import polyval\n",
    "import scipy.io as sio\n",
    "import matplotlib.pyplot as plt\n",
    "import math\n",
    "from math import pi\n",
    "\n",
    "# Import tqdm (progress bar)\n",
    "try:\n",
    "    library = import_module('tqdm')\n",
    "except:\n",
    "    print(sys.exc_info())\n",
    "else:\n",
    "    globals()['tqdm'] = library\n",
    "\n",
    "from lib import *\n",
    "\n",
    "from IPython.display import clear_output\n",
    "%matplotlib inline"
   ]
  },
  {
   "cell_type": "markdown",
   "metadata": {},
   "source": [
    "# Directories"
   ]
  },
  {
   "cell_type": "code",
   "execution_count": 2,
   "metadata": {},
   "outputs": [],
   "source": [
    "# Data files\n",
    "name_folder_im = 'matlab2'\n",
    "name_folder_ex = 'export'\n",
    "name_export = 'matlab1_stab'\n",
    "\n",
    "# Directory\n",
    "dir_main = os.getcwd()\n",
    "dir_folder_im = os.path.join(dir_main, 'data', name_folder_im)\n",
    "dir_file_ex = os.path.join(dir_main, 'data', name_folder_ex, name_export)\n",
    "\n",
    "# List files\n",
    "mat_list = os.listdir(dir_folder_im)"
   ]
  },
  {
   "cell_type": "markdown",
   "metadata": {},
   "source": [
    "# Set-up"
   ]
  },
  {
   "cell_type": "code",
   "execution_count": 3,
   "metadata": {},
   "outputs": [],
   "source": [
    "asy = 0.1"
   ]
  },
  {
   "cell_type": "markdown",
   "metadata": {},
   "source": [
    "# Import Data"
   ]
  },
  {
   "cell_type": "code",
   "execution_count": 4,
   "metadata": {},
   "outputs": [
    {
     "name": "stderr",
     "output_type": "stream",
     "text": [
      " 50%|██████████████████████                      | 3/6 [00:00<00:00, 26.32it/s]"
     ]
    }
   ],
   "source": [
    "# Progress bar\n",
    "try:\n",
    "    total = len(mat_list)\n",
    "    pbar = tqdm.tqdm(total=total)\n",
    "    up_num = 1            \n",
    "except:\n",
    "    print('tqmb package missing! No progress bar defined.')\n",
    "    is_bar = False\n",
    "else:\n",
    "    is_bar = True\n",
    "\n",
    "# Tuple list (later meshes)\n",
    "stab_list = []\n",
    "\n",
    "for k in range(len(mat_list)):\n",
    "    dir_mat = os.path.join(dir_folder_im, mat_list[k])\n",
    "    dict_mat = sio.loadmat(dir_mat)\n",
    "    \n",
    "    # Solution\n",
    "    sol = {}\n",
    "    sol['t'] = np.reshape(dict_mat['t'], -1)\n",
    "    sol['y'] = dict_mat['y']\n",
    "    sol['yp'] = dict_mat['yp']\n",
    "    \n",
    "    sol['gain'] = dict_mat['gain'][0,0]\n",
    "    sol['T'] = dict_mat['T'][0,0]\n",
    "    \n",
    "    # Compute the global frequency:\n",
    "    arr_omega = asylib.weight_avg(sol['t'], sol['yp'], asy)\n",
    "    Omega = np.sum(arr_omega) / arr_omega.size\n",
    "    \n",
    "    Omega_vars = asylib.weight_avg(sol['t'], (sol['yp'] - Omega)**2, asy)\n",
    "    Omega_var = np.sum(Omega_vars) / Omega_vars.size\n",
    "    \n",
    "    # Get array of asymptotic phases:\n",
    "    arr_lin = Omega*sol['t']\n",
    "    arr_lin = arr_lin[:,None]\n",
    "\n",
    "    arr_diff = sol['y'] - arr_lin\n",
    "    asy_phases = asylib.weight_avg(sol['t'], arr_diff, asy)\n",
    "    phase_var = asylib.weight_avg(sol['t'], (arr_diff - asy_phases)**2, asy)\n",
    "    phase_var = np.sum(phase_var) / phase_var.size\n",
    "    \n",
    "    # Store\n",
    "    stab_list.append((sol['T'], sol['gain'], Omega_var, phase_var))\n",
    "    \n",
    "    # Update progress bar (pbar):\n",
    "    if is_bar:\n",
    "        pbar.update(up_num)    "
   ]
  },
  {
   "cell_type": "markdown",
   "metadata": {},
   "source": [
    "# Convert to mesh arrays (for dotted heatmap)"
   ]
  },
  {
   "cell_type": "code",
   "execution_count": 9,
   "metadata": {},
   "outputs": [],
   "source": [
    "T_list = []\n",
    "gain_list = []\n",
    "\n",
    "for k in range(len(stab_list)):\n",
    "    p = stab_list[k]\n",
    "    \n",
    "    if p[0] not in T_list:\n",
    "        T_list.append(p[0])\n",
    "    if p[1] not in gain_list:\n",
    "        gain_list.append(p[1])\n",
    "    \n",
    "# Sort in increasing order\n",
    "T_list.sort()\n",
    "gain_list.sort()\n",
    "\n",
    "# Create meshes\n",
    "gain_mesh, T_mesh = np.meshgrid(np.array(gain_list), np.array(T_list)) \n",
    "var_mesh = np.zeros(gain_mesh.shape)\n",
    "\n",
    "# Fill error (var) mesh:\n",
    "for j in range(len(stab_list)):\n",
    "    \n",
    "    # Find indices m, n:\n",
    "    T = stab_list[j][0]\n",
    "    gain = stab_list[j][1]\n",
    "    var = stab_list[j][2] + stab_list[j][3]\n",
    "    \n",
    "    m = np.where(np.array(T_list) == T)\n",
    "    n = np.where(np.array(gain_list) == gain)\n",
    "    \n",
    "    var_mesh[m,n] = var"
   ]
  },
  {
   "cell_type": "markdown",
   "metadata": {},
   "source": [
    "# Plot"
   ]
  },
  {
   "cell_type": "code",
   "execution_count": null,
   "metadata": {},
   "outputs": [],
   "source": [
    "fig, ax = plt.subplots(1,1)\n",
    "\n",
    "ax.set_xlim(T_list[0], T_list[1])\n",
    "ax.set_ylim(gain_list[0], gain_list[1])\n",
    "\n",
    "L_var = 0\n",
    "U_var = 1\n",
    "alpha = 0.8\n",
    "\n",
    "levels = np.linspace(0, 1, 10)\n",
    "\n",
    "ax.contourf(u_mesh, v_mesh, det_mesh, levels, cmap='Blues', alpha=alpha)"
   ]
  }
 ],
 "metadata": {
  "kernelspec": {
   "display_name": "Python 3",
   "language": "python",
   "name": "python3"
  },
  "language_info": {
   "codemirror_mode": {
    "name": "ipython",
    "version": 3
   },
   "file_extension": ".py",
   "mimetype": "text/x-python",
   "name": "python",
   "nbconvert_exporter": "python",
   "pygments_lexer": "ipython3",
   "version": "3.6.5"
  }
 },
 "nbformat": 4,
 "nbformat_minor": 2
}
