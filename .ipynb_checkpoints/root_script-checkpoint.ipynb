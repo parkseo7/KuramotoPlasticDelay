{
 "cells": [
  {
   "cell_type": "markdown",
   "metadata": {},
   "source": [
    "# Libraries"
   ]
  },
  {
   "cell_type": "code",
   "execution_count": 1,
   "metadata": {},
   "outputs": [],
   "source": [
    "from __future__ import division, print_function\n",
    "\n",
    "import os\n",
    "import numpy as np\n",
    "from numpy.polynomial.polynomial import polyval\n",
    "import scipy.io as sio\n",
    "import matplotlib.pyplot as plt\n",
    "import math\n",
    "from math import pi\n",
    "\n",
    "from lib import *\n",
    "\n",
    "from IPython.display import clear_output\n",
    "%matplotlib inline"
   ]
  },
  {
   "cell_type": "markdown",
   "metadata": {},
   "source": [
    "# Find roots"
   ]
  },
  {
   "cell_type": "code",
   "execution_count": 2,
   "metadata": {},
   "outputs": [],
   "source": [
    "# Parameters\n",
    "param = {'g': 1.5,\n",
    "        'omega0': 1.0,\n",
    "        'a' : 1.0,\n",
    "        'T' : 0.05,\n",
    "        'gain': 30\n",
    "        }\n",
    "\n",
    "N_x = 40\n",
    "N_tau = N_x**2\n",
    "b = [ 1.00110535,  0.26368644, -0.21937361,  1.08347221, -1.83933786,\n",
    "         1.12023147]\n",
    "phi_fun = lambda X: polyval(X, b)\n",
    "\n",
    "w0 = param['omega0']\n",
    "g = param['g']\n",
    "a = param['a']\n",
    "T = param['T']\n",
    "\n",
    "fun = lambda u: w0 + g*a*funlib.R_sum(u, N_tau, N_x, param, phi_fun) - u\n",
    "Omega = rootlib.find_root(fun, w0, w0-g, w0+g, steps=20)\n",
    "\n",
    "# Analytic solution without gain\n",
    "fun2 = lambda u: w0 + g*a*(np.cos(2*T*u)-1)/(2*T*u) - u\n",
    "Omega2 = rootlib.find_root(fun2, w0, w0-g, w0+g, steps=20)\n",
    "\n",
    "# Approximate solution using Gaussian distribution\n",
    "fun3 = lambda u: w0 + g*a*funlib.R_sum_gauss(u, N_tau, N_x, param, sigma) - u\n",
    "Omega = rootlib.find_root(fun, w0, w0-g, w0+g, steps=20)"
   ]
  },
  {
   "cell_type": "code",
   "execution_count": 3,
   "metadata": {},
   "outputs": [
    {
     "data": {
      "text/plain": [
       "0.6612554121028025"
      ]
     },
     "execution_count": 3,
     "metadata": {},
     "output_type": "execute_result"
    }
   ],
   "source": [
    "Omega"
   ]
  },
  {
   "cell_type": "code",
   "execution_count": 4,
   "metadata": {},
   "outputs": [
    {
     "data": {
      "text/plain": [
       "[<matplotlib.lines.Line2D at 0x17d794aa208>]"
      ]
     },
     "execution_count": 4,
     "metadata": {},
     "output_type": "execute_result"
    },
    {
     "data": {
      "image/png": "[encoded data removed]",
      "text/plain": [
       "<Figure size 432x288 with 1 Axes>"
      ]
     },
     "metadata": {},
     "output_type": "display_data"
    }
   ],
   "source": [
    "fig, ax = plt.subplots(1,1)\n",
    "\n",
    "x_arr = np.linspace(w0-g, w0+g, num=20)\n",
    "y_arr = np.array([fun(x) for x in x_arr])\n",
    "\n",
    "ax.plot(x_arr, y_arr)"
   ]
  },
  {
   "cell_type": "code",
   "execution_count": null,
   "metadata": {},
   "outputs": [],
   "source": []
  }
 ],
 "metadata": {
  "kernelspec": {
   "display_name": "Python 3",
   "language": "python",
   "name": "python3"
  },
  "language_info": {
   "codemirror_mode": {
    "name": "ipython",
    "version": 3
   },
   "file_extension": ".py",
   "mimetype": "text/x-python",
   "name": "python",
   "nbconvert_exporter": "python",
   "pygments_lexer": "ipython3",
   "version": "3.6.5"
  }
 },
 "nbformat": 4,
 "nbformat_minor": 2
}
