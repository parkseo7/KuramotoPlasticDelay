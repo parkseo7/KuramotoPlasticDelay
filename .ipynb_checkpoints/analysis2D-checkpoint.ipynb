{
 "cells": [
  {
   "cell_type": "markdown",
   "metadata": {},
   "source": [
    "# About\n",
    "\n",
    "Comparing theoretical analysis with numeric results in a simplified 2-dimensional Kuramoto system with adaptive delays and no\n",
    "self-feedback interactions."
   ]
  },
  {
   "cell_type": "markdown",
   "metadata": {},
   "source": [
    "# Library"
   ]
  },
  {
   "cell_type": "code",
   "execution_count": null,
   "metadata": {},
   "outputs": [],
   "source": [
    "from __future__ import division, print_function\n",
    "\n",
    "import os\n",
    "import numpy as np\n",
    "import scipy.io as sio\n",
    "import matplotlib.pyplot as plt\n",
    "import math\n",
    "from math import pi\n",
    "\n",
    "from lib import *\n",
    "\n",
    "from IPython.display import clear_output\n",
    "%matplotlib inline"
   ]
  },
  {
   "cell_type": "markdown",
   "metadata": {},
   "source": [
    "# Directories"
   ]
  },
  {
   "cell_type": "code",
   "execution_count": null,
   "metadata": {},
   "outputs": [],
   "source": [
    "# Data files\n",
    "name_folder = 'matlab2D_1'\n",
    "name_file = 'gain_30_num_1'\n",
    "\n",
    "# Directory\n",
    "dir_main = os.getcwd()\n",
    "dir_folder = os.path.join(dir_main, 'data', name_folder)\n",
    "dir_mat = os.path.join(dir_folder, name_file)\n",
    "\n",
    "# Import using Scipy\n",
    "dict_mat = sio.loadmat(dir_mat)"
   ]
  }
 ],
 "metadata": {
  "kernelspec": {
   "display_name": "Python 3",
   "language": "python",
   "name": "python3"
  },
  "language_info": {
   "codemirror_mode": {
    "name": "ipython",
    "version": 3
   },
   "file_extension": ".py",
   "mimetype": "text/x-python",
   "name": "python",
   "nbconvert_exporter": "python",
   "pygments_lexer": "ipython3",
   "version": "3.6.5"
  }
 },
 "nbformat": 4,
 "nbformat_minor": 2
}
