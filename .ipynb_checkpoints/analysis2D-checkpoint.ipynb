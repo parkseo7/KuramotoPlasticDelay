{
 "cells": [
  {
   "cell_type": "markdown",
   "metadata": {},
   "source": [
    "# About\n",
    "\n",
    "Comparing theoretical analysis with numeric results in a simplified 2-dimensional Kuramoto system with adaptive delays and no\n",
    "self-feedback interactions."
   ]
  },
  {
   "cell_type": "markdown",
   "metadata": {},
   "source": [
    "# Library"
   ]
  },
  {
   "cell_type": "code",
   "execution_count": 1,
   "metadata": {},
   "outputs": [],
   "source": [
    "from __future__ import division, print_function\n",
    "\n",
    "%matplotlib inline\n",
    "# Toggle on/off\n",
    "# %matplotlib notebook\n",
    "\n",
    "import os\n",
    "import numpy as np\n",
    "import scipy.io as sio\n",
    "from scipy import optimize\n",
    "import matplotlib.pyplot as plt\n",
    "from mpl_toolkits.mplot3d import Axes3D\n",
    "import matplotlib.transforms as tsfm\n",
    "import math\n",
    "from math import pi\n",
    "\n",
    "from lib import *\n",
    "\n",
    "from IPython.display import clear_output"
   ]
  },
  {
   "cell_type": "markdown",
   "metadata": {},
   "source": [
    "# Directories"
   ]
  },
  {
   "cell_type": "code",
   "execution_count": 2,
   "metadata": {},
   "outputs": [],
   "source": [
    "# Data files\n",
    "name_folder = 'matlab2D_1'\n",
    "name_file = 'gain_30_num_3'\n",
    "\n",
    "# Directory\n",
    "dir_main = os.getcwd()\n",
    "dir_folder = os.path.join(dir_main, 'data', name_folder)\n",
    "dir_mat = os.path.join(dir_folder, name_file)\n",
    "\n",
    "# Import using Scipy\n",
    "dict_mat = sio.loadmat(dir_mat)"
   ]
  },
  {
   "cell_type": "markdown",
   "metadata": {},
   "source": [
    "# Import Data"
   ]
  },
  {
   "cell_type": "code",
   "execution_count": 3,
   "metadata": {},
   "outputs": [],
   "source": [
    "# Solution\n",
    "sol = {}\n",
    "sol['t'] = np.reshape(dict_mat['t'], -1)\n",
    "sol['y'] = dict_mat['y']\n",
    "sol['yp'] = dict_mat['yp']\n",
    "\n",
    "sol['tau'] = dict_mat['tau']\n",
    "sol['taup'] = dict_mat['taup']\n",
    "\n",
    "# Parameters\n",
    "sol['g'] = dict_mat['g'][0,0]\n",
    "sol['omega0'] = dict_mat['omega0'][0,0]\n",
    "sol['Delta0'] = dict_mat['Delta0'][0,0]\n",
    "\n",
    "sol['gain'] = dict_mat['gain'][0,0]\n",
    "sol['tau0'] = np.reshape(dict_mat['tau0'], -1)\n",
    "\n",
    "sol['tf'] = dict_mat['tf'][0,0]"
   ]
  },
  {
   "cell_type": "markdown",
   "metadata": {},
   "source": [
    "# Processing\n"
   ]
  },
  {
   "cell_type": "markdown",
   "metadata": {},
   "source": [
    "## Numerical Results"
   ]
  },
  {
   "cell_type": "code",
   "execution_count": 4,
   "metadata": {},
   "outputs": [],
   "source": [
    "# Asymptotic percentage\n",
    "asy = 0.1\n",
    "\n",
    "# Compute the global frequency:\n",
    "arr_omega = asylib.weight_avg(sol['t'], sol['yp'], asy)\n",
    "Omega = np.sum(arr_omega) / arr_omega.size\n",
    "\n",
    "Omega_vars = asylib.weight_avg(sol['t'], (sol['yp'] - Omega)**2, asy)\n",
    "Omega_var = np.sum(Omega_vars)\n",
    "\n",
    "# Get array of asymptotic phases:\n",
    "arr_lin = Omega*sol['t']\n",
    "arr_lin = arr_lin[:,None]\n",
    "\n",
    "arr_phases = sol['y'] - arr_lin\n",
    "asy_phases = asylib.weight_avg(sol['t'], arr_phases, asy)\n",
    "\n",
    "# Variance\n",
    "phase_vars = asylib.weight_avg(sol['t'], (arr_phases - asy_phases)**2, asy)\n",
    "phase_var = np.sum(phase_vars)"
   ]
  },
  {
   "cell_type": "markdown",
   "metadata": {},
   "source": [
    "## Numerical Results (graph)"
   ]
  },
  {
   "cell_type": "code",
   "execution_count": 5,
   "metadata": {},
   "outputs": [
    {
     "data": {
      "image/png": "[encoded data removed]",
      "text/plain": [
       "<Figure size 720x720 with 4 Axes>"
      ]
     },
     "metadata": {},
     "output_type": "display_data"
    }
   ],
   "source": [
    "# Configure plots\n",
    "fig, ax = plt.subplots(4, figsize=(10,10))\n",
    "\n",
    "# [left, bottom, width, height] \n",
    "bbox0 = [0.1, 0.1, 0.35, 0.35]\n",
    "bbox1 = [0.55, 0.1, 0.35, 0.35]\n",
    "bbox2 = [0.1, 0.55, 0.35, 0.35]\n",
    "bbox3 = [0.55, 0.55, 0.35, 0.35]\n",
    "\n",
    "# Set ax positions\n",
    "ax[0].set_position(bbox0)\n",
    "ax[1].set_position(bbox1)\n",
    "ax[2].set_position(bbox2)\n",
    "ax[3].set_position(bbox3)\n",
    "\n",
    "# Titles\n",
    "ax[0].set_title('Delays')\n",
    "ax[1].set_title('Delay plasticities')\n",
    "ax[2].set_title('Frequencies')\n",
    "ax[3].set_title('sin Phases')\n",
    "\n",
    "# Figure options\n",
    "pltopts = {'linewidth': 2.0,\n",
    "           'alpha': 1.0,\n",
    "          }\n",
    "\n",
    "ax[0].plot(sol['t'], sol['tau'], **pltopts)\n",
    "ax[1].plot(sol['t'], sol['taup'], **pltopts)\n",
    "ax[2].plot(sol['t'], sol['yp'], **pltopts)\n",
    "ax[3].plot(sol['t'], np.sin(arr_phases), **pltopts)\n",
    "\n",
    "# Set colours\n",
    "for i in range(len(ax)):\n",
    "    ax[i].lines[0].set_color('red')\n",
    "    ax[i].lines[1].set_color('blue')"
   ]
  },
  {
   "cell_type": "markdown",
   "metadata": {},
   "source": [
    "## Theoretical Roots"
   ]
  },
  {
   "cell_type": "code",
   "execution_count": 6,
   "metadata": {},
   "outputs": [
    {
     "name": "stdout",
     "output_type": "stream",
     "text": [
      "Numerical freq = 0.9145637040957356\n",
      "Numerical phase diff = 0.11417104138231271\n",
      "Theoretical freq = 0.9145586085417131\n",
      "Theoretical phase diff = 0.11416972217614171\n",
      "Starting phase diff = 0.01\n",
      "Closest theoretical phase diff = -0.0003571360278084734\n",
      "Closest phase diff agrees with result: False\n"
     ]
    }
   ],
   "source": [
    "# Fixed-point functions\n",
    "Omega_fun = lambda Omega: funlib.Omega2D(Omega, sol['tau0'], sol)[0]\n",
    "Delta_fun = lambda Omega: funlib.Omega2D(Omega, sol['tau0'], sol)[1]\n",
    "\n",
    "# Parameters\n",
    "w0 = sol['omega0']\n",
    "g = sol['g']\n",
    "tau0 = sol['tau0']\n",
    "\n",
    "# Get all roots of Omega_fun in region\n",
    "Omega_roots = rootlib.root_on_interval(Omega_fun, w0-g/2, w0+g/2, steps=500)\n",
    "Delta_roots = np.zeros(Omega_roots.size)\n",
    "\n",
    "for i in range(Omega_roots.size):\n",
    "    Delta_roots[i] = Delta_fun(Omega_roots[i])\n",
    "    \n",
    "# Find where numerical solution is closest\n",
    "ind_sol = np.argmin(np.abs(Omega_roots - Omega))\n",
    "ind_Delta = np.argmin(np.abs(Delta_roots - sol['Delta0']))\n",
    "\n",
    "# Print stats\n",
    "print(\"Numerical freq = \" + str(Omega))\n",
    "print(\"Numerical phase diff = \" + str(asy_phases[1] - asy_phases[0]))\n",
    "print(\"Theoretical freq = \" + str(Omega_roots[ind_sol]))\n",
    "print(\"Theoretical phase diff = \" + str(Delta_roots[ind_sol]))\n",
    "print(\"Starting phase diff = \" + str(sol['Delta0']))\n",
    "print(\"Closest theoretical phase diff = \" + str(Delta_roots[ind_Delta]))\n",
    "print(\"Closest phase diff agrees with result: \" + str(ind_sol == ind_Delta))"
   ]
  },
  {
   "cell_type": "markdown",
   "metadata": {},
   "source": [
    "## Theoretical Roots (Plot)"
   ]
  },
  {
   "cell_type": "code",
   "execution_count": 7,
   "metadata": {},
   "outputs": [
    {
     "data": {
      "text/plain": [
       "<matplotlib.lines.Line2D at 0x1ca4c6cc668>"
      ]
     },
     "execution_count": 7,
     "metadata": {},
     "output_type": "execute_result"
    },
    {
     "data": {
      "image/png": "[encoded data removed]",
      "text/plain": [
       "<Figure size 432x288 with 1 Axes>"
      ]
     },
     "metadata": {},
     "output_type": "display_data"
    }
   ],
   "source": [
    "# Plot Omega_fun (using inverse of Delta)\n",
    "Omega_arr = np.linspace(w0 - g/2, w0 + g/2, num=500)\n",
    "err_fun = np.zeros(Omega_arr.size)\n",
    "\n",
    "for j in range(err_fun.size):\n",
    "    err_fun[j] = Omega_fun(Omega_arr[j])\n",
    "\n",
    "# PLOT\n",
    "fig, ax = plt.subplots(1,1)\n",
    "ax.plot(Omega_arr, err_fun, **pltopts)\n",
    "ax.axhline(y=0, color='black', linewidth=0.5)\n",
    "ax.axvline(x=Omega, color='black', linewidth=0.5)"
   ]
  },
  {
   "cell_type": "markdown",
   "metadata": {},
   "source": [
    "## Eigenvalues (plot)"
   ]
  },
  {
   "cell_type": "code",
   "execution_count": 8,
   "metadata": {},
   "outputs": [
    {
     "name": "stdout",
     "output_type": "stream",
     "text": [
      "Minimum of F(y) = 1.7208456881689926e-15\n"
     ]
    },
    {
     "data": {
      "text/plain": [
       "[<matplotlib.lines.Line2D at 0x1ca4b9227b8>]"
      ]
     },
     "execution_count": 8,
     "metadata": {},
     "output_type": "execute_result"
    },
    {
     "data": {
      "image/png": "[encoded data removed]",
      "text/plain": [
       "<Figure size 432x288 with 1 Axes>"
      ]
     },
     "metadata": {},
     "output_type": "display_data"
    }
   ],
   "source": [
    "# Define F(y) = |P(iy)| - |Q(iy)| (not likely to work out, better to just draw heat map)\n",
    "Omega0 = Omega\n",
    "Delta0 = asy_phases[1] - asy_phases[0]\n",
    "\n",
    "# Other harmonics\n",
    "Omega_sol = Omega_roots[2]\n",
    "Delta_sol = Delta_roots[2]\n",
    "\n",
    "eigen_poly = lambda z: funlib.eig2D_det(z, Omega_sol, Delta_sol, tau0, sol)\n",
    "F_y = lambda y: funlib.abs_diff(eigen_poly(1j*y))\n",
    "\n",
    "# Define arrays\n",
    "yf = 500\n",
    "y_arr = np.linspace(0, yf, num=10000)\n",
    "F_arr = np.zeros(y_arr.size)\n",
    "\n",
    "for j in range(y_arr.size):\n",
    "    F_arr[j] = F_y(y_arr[j])\n",
    "\n",
    "# Find global minimum\n",
    "F_min = np.min(F_arr)\n",
    "print(\"Minimum of F(y) = \" + str(F_min))\n",
    "\n",
    "# Plot\n",
    "fig, ax = plt.subplots(1,1)\n",
    "\n",
    "ax.set_xlim(left=0, right=yf)\n",
    "ax.plot(y_arr, F_arr, **pltopts)"
   ]
  },
  {
   "cell_type": "markdown",
   "metadata": {},
   "source": [
    "# Eigenvalue roots of exponential polynomial (heatmap)"
   ]
  },
  {
   "cell_type": "code",
   "execution_count": 9,
   "metadata": {},
   "outputs": [
    {
     "name": "stdout",
     "output_type": "stream",
     "text": [
      "Theoretical freq = 0.9145586085417131\n",
      "Theoretical phase diff = 0.11416972217614171\n"
     ]
    },
    {
     "data": {
      "text/plain": [
       "<matplotlib.colorbar.Colorbar at 0x1ca4c7d1978>"
      ]
     },
     "execution_count": 9,
     "metadata": {},
     "output_type": "execute_result"
    },
    {
     "data": {
      "image/png": "[encoded data removed]",
      "text/plain": [
       "<Figure size 360x504 with 2 Axes>"
      ]
     },
     "metadata": {},
     "output_type": "display_data"
    }
   ],
   "source": [
    "# Print chosen roots\n",
    "print(\"Theoretical freq = \" + str(Omega_sol))\n",
    "print(\"Theoretical phase diff = \" + str(Delta_sol))\n",
    "\n",
    "# Polynomial roots (without delay)\n",
    "quart_coeffs = funlib.eig2D_cubic(Omega_sol, Delta_sol, tau0, sol)\n",
    "\n",
    "# Plot root branch functions with respect to gain, tau0.\n",
    "# quart_roots = funlib.quartic_roots(quart_coeffs)\n",
    "cubic_roots_np = np.roots(quart_coeffs)\n",
    "\n",
    "# Root points\n",
    "quart_roots_re = np.real(cubic_roots_np)\n",
    "quart_roots_im = np.imag(cubic_roots_np)\n",
    "\n",
    "# Generate error mesh\n",
    "u_R, v_R = 3, 10\n",
    "part_u, part_v = 300, 300\n",
    "\n",
    "u_lin = np.linspace(-u_R, u_R, num=part_u)\n",
    "v_lin = np.linspace(-v_R, v_R, num=part_v)\n",
    "\n",
    "v_mesh, u_mesh = np.meshgrid(v_lin, u_lin)\n",
    "\n",
    "err_mesh = np.zeros(u_mesh.shape)\n",
    "for k in range(u_lin.size):\n",
    "    for l in range(v_lin.size):\n",
    "        err_mesh[k,l] = np.min((np.abs(eigen_poly(u_mesh[k,l] + 1j*v_mesh[k,l])[3]), 100))\n",
    "\n",
    "# Transform err_mesh\n",
    "z_mesh = err_mesh**2\n",
    "\n",
    "# The bounds for z_array:\n",
    "abs_max = np.abs(err_mesh).max() #int(abs_max + 1)\n",
    "z_min, z_max = 0, abs_max\n",
    "\n",
    "# Set the limits of the plot to the limits of the data\n",
    "u_min = u_mesh.min()\n",
    "u_max = u_mesh.max()\n",
    "v_min = v_mesh.min()\n",
    "v_max = v_mesh.max()\n",
    "    \n",
    "# Plot\n",
    "fig, ax = plt.subplots(2, figsize=(5,7))\n",
    "\n",
    "# [left, bottom, width, height] \n",
    "bbox0 = [0.1, 0.1, 0.5, 0.8]\n",
    "bbox1 = [0.7, 0.1, 0.1, 0.8]\n",
    "\n",
    "# Set ax positions\n",
    "ax[0].set_position(bbox0)\n",
    "ax[1].set_position(bbox1)\n",
    "\n",
    "ax[0].set_xlabel(\"Re\")\n",
    "ax[0].set_ylabel(\"Im\")\n",
    "\n",
    "c = ax[0].pcolormesh(u_mesh, v_mesh, z_mesh, cmap='binary', vmin=z_min, vmax=z_max) # cmap='RdBu'\n",
    "ax[0].axis([u_min, u_max, v_min, v_max])\n",
    "    \n",
    "# x,y-axis\n",
    "line_opt = {'linestyle': 'dashed',\n",
    "            'linewidth': 0.8,\n",
    "            'color': 'white'\n",
    "            }\n",
    "\n",
    "ax[0].axhline(y=0, **line_opt)\n",
    "ax[0].axvline(x=0, **line_opt)\n",
    "\n",
    "# Plot polynomial roots\n",
    "ax[0].plot(quart_roots_re, \n",
    "           quart_roots_im,\n",
    "           linestyle='None',\n",
    "           marker='o',\n",
    "           markersize=6,\n",
    "           \n",
    "           color='orange')\n",
    "\n",
    "# Colourbar\n",
    "fig.colorbar(c, cax=ax[1]) "
   ]
  },
  {
   "cell_type": "markdown",
   "metadata": {},
   "source": [
    "## Eigenvalue roots of quartic polynomial"
   ]
  },
  {
   "cell_type": "code",
   "execution_count": 10,
   "metadata": {},
   "outputs": [
    {
     "ename": "NameError",
     "evalue": "name 'quart_roots' is not defined",
     "output_type": "error",
     "traceback": [
      "\u001b[1;31m---------------------------------------------------------------------------\u001b[0m",
      "\u001b[1;31mNameError\u001b[0m                                 Traceback (most recent call last)",
      "\u001b[1;32m<ipython-input-10-de5beb0e5935>\u001b[0m in \u001b[0;36m<module>\u001b[1;34m()\u001b[0m\n\u001b[0;32m      6\u001b[0m \u001b[0mcubic_roots_np\u001b[0m \u001b[1;33m=\u001b[0m \u001b[0mnp\u001b[0m\u001b[1;33m.\u001b[0m\u001b[0mroots\u001b[0m\u001b[1;33m(\u001b[0m\u001b[0mcubic_coeffs\u001b[0m\u001b[1;33m)\u001b[0m\u001b[1;33m\u001b[0m\u001b[0m\n\u001b[0;32m      7\u001b[0m \u001b[1;33m\u001b[0m\u001b[0m\n\u001b[1;32m----> 8\u001b[1;33m \u001b[0mquart_roots\u001b[0m \u001b[1;31m# Messed up somewhere\u001b[0m\u001b[1;33m\u001b[0m\u001b[0m\n\u001b[0m\u001b[0;32m      9\u001b[0m \u001b[0mzero\u001b[0m \u001b[1;33m=\u001b[0m \u001b[0meigen_poly\u001b[0m\u001b[1;33m(\u001b[0m\u001b[0mcubic_roots_np\u001b[0m\u001b[1;33m[\u001b[0m\u001b[1;36m0\u001b[0m\u001b[1;33m]\u001b[0m\u001b[1;33m)\u001b[0m\u001b[1;33m[\u001b[0m\u001b[1;36m4\u001b[0m\u001b[1;33m]\u001b[0m\u001b[1;33m\u001b[0m\u001b[0m\n\u001b[0;32m     10\u001b[0m \u001b[0mzero2\u001b[0m \u001b[1;33m=\u001b[0m \u001b[0meigen_poly\u001b[0m\u001b[1;33m(\u001b[0m\u001b[0mcubic_roots_np\u001b[0m\u001b[1;33m[\u001b[0m\u001b[1;36m2\u001b[0m\u001b[1;33m]\u001b[0m\u001b[1;33m)\u001b[0m\u001b[1;33m[\u001b[0m\u001b[1;36m4\u001b[0m\u001b[1;33m]\u001b[0m\u001b[1;33m\u001b[0m\u001b[0m\n",
      "\u001b[1;31mNameError\u001b[0m: name 'quart_roots' is not defined"
     ]
    }
   ],
   "source": [
    "# Obtain roots of quartic polynomial.\n",
    "cubic_coeffs = funlib.eig2D_cubic(Omega_sol, Delta_sol, tau0, sol)\n",
    "\n",
    "# Plot root branch functions with respect to gain, tau0.\n",
    "# quart_roots = funlib.quartic_roots(quart_coeffs)\n",
    "cubic_roots_np = np.roots(cubic_coeffs)\n",
    "\n",
    "zero = eigen_poly(cubic_roots_np[0])[4]\n",
    "zero2 = eigen_poly(cubic_roots_np[2])[4]\n",
    "print(cubic_roots_np)\n",
    "print(\"Root formula correct: \" + str(np.abs(zero)))\n",
    "print(\"Root formula correct: \" + str(np.abs(zero2)))"
   ]
  },
  {
   "cell_type": "code",
   "execution_count": null,
   "metadata": {},
   "outputs": [],
   "source": [
    "u_R, v_R = 1, 1\n",
    "\n",
    "u_lin = np.linspace(-u_R, u_R, num=10)\n",
    "v_lin = np.linspace(-v_R, v_R, num=10)\n",
    "\n",
    "v_mesh, u_mesh = np.meshgrid(v_lin, u_lin)\n",
    "\n",
    "c_mesh = np.zeros(u_mesh.shape)\n",
    "for k in range(u_lin.size):\n",
    "    for l in range(v_lin.size):\n",
    "        c_mesh[k,l] = np.min((np.abs(eigen_poly(u_mesh[k,l] + 1j*v_mesh[k,l])[3]), 100))\n",
    "\n",
    "# Plot\n",
    "fig = plt.figure(figsize=(8,7))\n",
    "ax = fig.add_subplot(111, projection='3d')\n",
    "\n",
    "ax.set_xlabel(\"Re\")\n",
    "ax.set_ylabel(\"Im\")\n",
    "\n",
    "ax.plot_wireframe(u_mesh, v_mesh, c_mesh)\n",
    "ax.plot_surface(u_mesh, v_mesh, np.zeros(u_mesh.shape))"
   ]
  },
  {
   "cell_type": "code",
   "execution_count": null,
   "metadata": {},
   "outputs": [],
   "source": []
  },
  {
   "cell_type": "code",
   "execution_count": null,
   "metadata": {},
   "outputs": [],
   "source": []
  }
 ],
 "metadata": {
  "kernelspec": {
   "display_name": "Python 3",
   "language": "python",
   "name": "python3"
  },
  "language_info": {
   "codemirror_mode": {
    "name": "ipython",
    "version": 3
   },
   "file_extension": ".py",
   "mimetype": "text/x-python",
   "name": "python",
   "nbconvert_exporter": "python",
   "pygments_lexer": "ipython3",
   "version": "3.6.5"
  }
 },
 "nbformat": 4,
 "nbformat_minor": 2
}
