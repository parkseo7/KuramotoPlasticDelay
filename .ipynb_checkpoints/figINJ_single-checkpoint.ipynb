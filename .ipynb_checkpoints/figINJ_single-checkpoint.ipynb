{
 "cells": [
  {
   "cell_type": "markdown",
   "metadata": {},
   "source": [
    "# About\n",
    "\n",
    "Numerical plots pertaining to trials of an N-dim Kuramoto system with adaptive delays and introduced injury to the connection topology at midtime. Requires a folder of .mat files from the the following scripts:\n",
    " - script_inj.m\n",
    "\n",
    "Uses the following packages and functions:"
   ]
  },
  {
   "cell_type": "markdown",
   "metadata": {},
   "source": [
    "# Library"
   ]
  },
  {
   "cell_type": "code",
   "execution_count": 1,
   "metadata": {},
   "outputs": [],
   "source": [
    "from __future__ import division, print_function\n",
    "\n",
    "%matplotlib inline\n",
    "# Toggle on/off\n",
    "# %matplotlib notebook\n",
    "\n",
    "import os\n",
    "import numpy as np\n",
    "import scipy.io as sio\n",
    "from scipy import optimize\n",
    "from scipy import stats\n",
    "import matplotlib.cm as cm\n",
    "import matplotlib.pyplot as plt\n",
    "import matplotlib.transforms as tsfm\n",
    "import math\n",
    "from math import pi\n",
    "\n",
    "from lib import *\n",
    "\n",
    "from IPython.display import clear_output"
   ]
  },
  {
   "cell_type": "markdown",
   "metadata": {},
   "source": [
    "# Directories"
   ]
  },
  {
   "cell_type": "code",
   "execution_count": 2,
   "metadata": {},
   "outputs": [],
   "source": [
    "# Data files (for fig.4d)\n",
    "import_folder = 'matlab_fig6_test'\n",
    "\n",
    "# Directory\n",
    "dir_main = os.getcwd()\n",
    "dir_im = os.path.join(dir_main, 'data', import_folder)\n",
    "\n",
    "# Filenames\n",
    "file_plas = 'sol_9'\n",
    "file_noplas = 'sol_1'"
   ]
  },
  {
   "cell_type": "markdown",
   "metadata": {},
   "source": [
    "# Import and compile data"
   ]
  },
  {
   "cell_type": "markdown",
   "metadata": {},
   "source": [
    "## Constant parameters"
   ]
  },
  {
   "cell_type": "code",
   "execution_count": 3,
   "metadata": {},
   "outputs": [],
   "source": [
    "dir_sam = os.path.join(dir_im, file_plas)\n",
    "dict_mat = sio.loadmat(dir_sam)\n",
    "\n",
    "# Constant parameters\n",
    "param = {'g': dict_mat['g'][0,0],\n",
    "         'omega0': dict_mat['omega0'][0,0],\n",
    "         # 'gain': dict_mat['gain'][0,0],\n",
    "         'tf': dict_mat['tf'][0,0],\n",
    "         'tau0': dict_mat['tau0'][0,0],\n",
    "         'inj': dict_mat['inj'][0,0],\n",
    "         # 'A': dict_mat['A'],\n",
    "         't_inj': dict_mat['t_inj'][0,0]\n",
    "         }\n",
    "\n",
    "# Asymptotic percentage\n",
    "asy = 0.1"
   ]
  },
  {
   "cell_type": "markdown",
   "metadata": {},
   "source": [
    "## Import plastic array"
   ]
  },
  {
   "cell_type": "code",
   "execution_count": 4,
   "metadata": {},
   "outputs": [],
   "source": [
    "dir_p = os.path.join(dir_im, file_plas)\n",
    "dict_p = sio.loadmat(dir_p)\n",
    "\n",
    "# Compile solution dictionary\n",
    "sol_p = {'t': np.reshape(dict_p['t'], -1),\n",
    "         'y': dict_p['y'],\n",
    "         'yp': dict_p['yp'],\n",
    "         'tau': dict_p['tau'],\n",
    "         'taup': dict_p['taup'],\n",
    "         'tau_top': dict_p['tau_top']\n",
    "        }\n",
    "\n",
    "Ap = dict_p['A']\n",
    "\n",
    "# Trial parameters\n",
    "gain_p = dict_p['gain'][0,0]\n",
    "init_freq_p = dict_p['init_freq'][0,0]\n",
    "init_std_p = dict_p['std'][0,0]\n",
    "\n",
    "# Get time index ind that is closest to t_inj:\n",
    "ind_p = np.max(np.where(sol_p['t'] < param['t_inj']))"
   ]
  },
  {
   "cell_type": "markdown",
   "metadata": {},
   "source": [
    "### Asymptotic results pre-injury (p1)"
   ]
  },
  {
   "cell_type": "code",
   "execution_count": 5,
   "metadata": {},
   "outputs": [],
   "source": [
    "sol_p1 = {'t': sol_p['t'][:ind_p+1],\n",
    "          'y': sol_p['y'][:ind_p+1],\n",
    "          'yp': sol_p['yp'][:ind_p+1],\n",
    "          'tau': sol_p['tau'][:ind_p+1]\n",
    "         }\n",
    "\n",
    "# Estimate the global frequency:\n",
    "arr_omega_p1 = asylib.weight_avg(sol_p1['t'], sol_p1['yp'], asy)\n",
    "asy_Omega_p1 = np.sum(arr_omega_p1) / arr_omega_p1.size\n",
    "\n",
    "# Frequency variance over time\n",
    "Omega_vars_p1 = asylib.weight_avg(sol_p1['t'], (sol_p1['yp'] - asy_Omega_p1)**2, asy)\n",
    "Omega_var_p1 = np.mean(Omega_vars_p1)\n",
    "\n",
    "# Get array of asymptotic phases:\n",
    "arr_lin_p1 = asy_Omega_p1 * sol_p1['t']\n",
    "arr_lin_p1 = arr_lin_p1[:,None]\n",
    "\n",
    "arr_phases_p1 = sol_p1['y'] - arr_lin_p1\n",
    "asy_phases_p1 = asylib.weight_avg(sol_p1['t'], arr_phases_p1, asy)\n",
    "\n",
    "# Mod asy_phases:\n",
    "asy_phases_p1_mod = asylib.mod_pi(asy_phases_p1)\n",
    "\n",
    "# Phase variance at end times (delta**2 estimate)\n",
    "delta2_p1 = np.var(asy_phases_p1_mod)\n",
    "\n",
    "# Phase variance over time\n",
    "phase_vars_p1 = asylib.weight_avg(sol_p1['t'], (arr_phases_p1 - asy_phases_p1)**2, asy)\n",
    "phase_var_p1 = np.mean(phase_vars_p1)\n",
    "\n",
    "# Distribution of delays (at the end)\n",
    "tau_p1 = sol_p1['tau'][-1]"
   ]
  },
  {
   "cell_type": "markdown",
   "metadata": {},
   "source": [
    "### Asymptotic results post-injury (p2)"
   ]
  },
  {
   "cell_type": "code",
   "execution_count": 6,
   "metadata": {},
   "outputs": [],
   "source": [
    "sol_p2 = {'t': sol_p['t'][ind_p+1:],\n",
    "          'y': sol_p['y'][ind_p+1:],\n",
    "          'yp': sol_p['yp'][ind_p+1:],\n",
    "          'tau': sol_p['tau'][ind_p+1:]\n",
    "         }\n",
    "\n",
    "# Estimate the global frequency:\n",
    "arr_omega_p2 = asylib.weight_avg(sol_p2['t'], sol_p2['yp'], asy)\n",
    "asy_Omega_p2 = np.sum(arr_omega_p2) / arr_omega_p2.size\n",
    "\n",
    "# Frequency variance over time\n",
    "Omega_vars_p2 = asylib.weight_avg(sol_p2['t'], (sol_p2['yp'] - asy_Omega_p2)**2, asy)\n",
    "Omega_var_p2 = np.mean(Omega_vars_p2)\n",
    "\n",
    "# Get array of asymptotic phases:\n",
    "arr_lin_p2 = asy_Omega_p2 * sol_p2['t']\n",
    "arr_lin_p2 = arr_lin_p2[:,None]\n",
    "\n",
    "arr_phases_p2 = sol_p2['y'] - arr_lin_p2\n",
    "asy_phases_p2 = asylib.weight_avg(sol_p2['t'], arr_phases_p2, asy)\n",
    "\n",
    "# Mod asy_phases:\n",
    "asy_phases_p2_mod = asylib.mod_pi(asy_phases_p2)\n",
    "\n",
    "# Phase variance at end times (delta**2 estimate)\n",
    "delta2_p2 = np.var(asy_phases_p2_mod)\n",
    "\n",
    "# Phase variance over time\n",
    "phase_vars_p2 = asylib.weight_avg(sol_p2['t'], (arr_phases_p2 - asy_phases_p2)**2, asy)\n",
    "phase_var_p2 = np.mean(phase_vars_p2)\n",
    "\n",
    "count_inds = np.where(Ap > 0.5)\n",
    "tau_p2 =  sol_p['tau_top'][Ap > 0.5]"
   ]
  },
  {
   "cell_type": "code",
   "execution_count": 7,
   "metadata": {},
   "outputs": [
    {
     "data": {
      "text/plain": [
       "473"
      ]
     },
     "execution_count": 7,
     "metadata": {},
     "output_type": "execute_result"
    }
   ],
   "source": [
    "# tau_p2.shape\n",
    "# np.where(tau_p2 < 0.01)\n",
    "# tau_p2[tau_p2 < 0.01]\n",
    "tau_p2.size\n",
    "np.where(Ap > 0.5)[0].size"
   ]
  },
  {
   "cell_type": "markdown",
   "metadata": {},
   "source": [
    "## Import non-plastic array"
   ]
  },
  {
   "cell_type": "code",
   "execution_count": 8,
   "metadata": {},
   "outputs": [],
   "source": [
    "dir_np = os.path.join(dir_im, file_noplas)\n",
    "dict_np = sio.loadmat(dir_np)\n",
    "\n",
    "# Compile solution dictionary\n",
    "sol_np = {'t': np.reshape(dict_np['t'], -1),\n",
    "          'y': dict_np['y'],\n",
    "          'yp': dict_np['yp'],\n",
    "          'tau': dict_np['tau'],\n",
    "          'taup': dict_np['taup']\n",
    "         }\n",
    "\n",
    "Anp = dict_np['A']\n",
    "\n",
    "# Trial parameters\n",
    "gain_np = dict_np['gain'][0,0]\n",
    "init_freq_np = dict_np['init_freq'][0,0]\n",
    "init_std_np = dict_np['std'][0,0]\n",
    "\n",
    "# Get time index ind that is closest to t_inj:\n",
    "ind_np = np.max(np.where(sol_np['t'] < param['t_inj']))"
   ]
  },
  {
   "cell_type": "markdown",
   "metadata": {},
   "source": [
    "### Asymptotic results pre-injury (np1)"
   ]
  },
  {
   "cell_type": "code",
   "execution_count": 9,
   "metadata": {},
   "outputs": [],
   "source": [
    "sol_np1 = {'t': sol_np['t'][:ind_np+1],\n",
    "          'y': sol_np['y'][:ind_np+1],\n",
    "          'yp': sol_np['yp'][:ind_np+1],\n",
    "          'tau': sol_np['tau'][:ind_np+1]\n",
    "         }\n",
    "\n",
    "# Estimate the global frequency:\n",
    "arr_omega_np1 = asylib.weight_avg(sol_np1['t'], sol_np1['yp'], asy)\n",
    "asy_Omega_np1 = np.sum(arr_omega_np1) / arr_omega_np1.size\n",
    "\n",
    "# Frequency variance over time\n",
    "Omega_vars_np1 = asylib.weight_avg(sol_np1['t'], (sol_np1['yp'] - asy_Omega_np1)**2, asy)\n",
    "Omega_var_np1 = np.mean(Omega_vars_np1)\n",
    "\n",
    "# Get array of asymptotic phases:\n",
    "arr_lin_np1 = asy_Omega_np1 * sol_np1['t']\n",
    "arr_lin_np1 = arr_lin_np1[:,None]\n",
    "\n",
    "arr_phases_np1 = sol_np1['y'] - arr_lin_np1\n",
    "asy_phases_np1 = asylib.weight_avg(sol_np1['t'], arr_phases_np1, asy)\n",
    "\n",
    "# Mod asy_phases:\n",
    "asy_phases_np1_mod = asylib.mod_pi(asy_phases_np1)\n",
    "\n",
    "# Phase variance at end times (delta**2 estimate)\n",
    "delta2_np1 = np.var(asy_phases_np1_mod)\n",
    "\n",
    "# Phase variance over time\n",
    "phase_vars_np1 = asylib.weight_avg(sol_np1['t'], (arr_phases_np1 - asy_phases_np1)**2, asy)\n",
    "phase_var_np1 = np.mean(phase_vars_np1)"
   ]
  },
  {
   "cell_type": "markdown",
   "metadata": {},
   "source": [
    "### Asymptotic results post-injury (np2)"
   ]
  },
  {
   "cell_type": "code",
   "execution_count": 10,
   "metadata": {},
   "outputs": [],
   "source": [
    "sol_np2 = {'t': sol_np['t'][ind_np+1:],\n",
    "          'y': sol_np['y'][ind_np+1:],\n",
    "          'yp': sol_np['yp'][ind_np+1:],\n",
    "          'tau': sol_np['tau'][ind_np+1:]\n",
    "         }\n",
    "\n",
    "# Estimate the global frequency:\n",
    "arr_omega_np2 = asylib.weight_avg(sol_np2['t'], sol_np2['yp'], asy)\n",
    "asy_Omega_np2 = np.sum(arr_omega_np2) / arr_omega_np2.size\n",
    "\n",
    "# Frequency variance over time\n",
    "Omega_vars_np2 = asylib.weight_avg(sol_np2['t'], (sol_np2['yp'] - asy_Omega_np2)**2, asy)\n",
    "Omega_var_np2 = np.mean(Omega_vars_np2)\n",
    "\n",
    "# Get array of asymptotic phases:\n",
    "arr_lin_np2 = asy_Omega_np2 * sol_np2['t']\n",
    "arr_lin_np2 = arr_lin_np2[:,None]\n",
    "\n",
    "arr_phases_np2 = sol_np2['y'] - arr_lin_np2\n",
    "asy_phases_np2 = asylib.weight_avg(sol_np2['t'], arr_phases_np2, asy)\n",
    "\n",
    "# Mod asy_phases:\n",
    "asy_phases_np2_mod = asylib.mod_pi(asy_phases_np2)\n",
    "\n",
    "# Phase variance at end times (delta**2 estimate)\n",
    "delta2_np2 = np.var(asy_phases_np2_mod)\n",
    "\n",
    "# Phase variance over time\n",
    "phase_vars_np2 = asylib.weight_avg(sol_np2['t'], (arr_phases_np2 - asy_phases_np2)**2, asy)\n",
    "phase_var_np2 = np.mean(phase_vars_np2)"
   ]
  },
  {
   "cell_type": "markdown",
   "metadata": {},
   "source": [
    "## Histogram + topology"
   ]
  },
  {
   "cell_type": "code",
   "execution_count": 11,
   "metadata": {},
   "outputs": [],
   "source": [
    "# Histogram\n",
    "tau0 = param['tau0']\n",
    "scale = lambda x: np.log(1 + x) # delay scale\n",
    "\n",
    "L_dist = np.max(np.array([tau0, np.max(scale(tau_p1)), np.max(scale(tau_p2))]))\n",
    "num_bins = 50\n",
    "bins_dist = np.linspace(-0.01, L_dist, num=num_bins)\n",
    "bins_diff = bins_dist[1] - bins_dist[0]\n",
    "\n",
    "hist_p0 = np.histogram(scale(tau0)*np.ones(tau_p1.shape), bins=bins_dist, density=False)\n",
    "hist_p1 = np.histogram(scale(tau_p1), bins=bins_dist, density=False)\n",
    "hist_p2 = np.histogram(scale(tau_p2), bins=bins_dist, density=False)\n",
    "\n",
    "# Count scale\n",
    "c_scale = lambda x: np.log10(1 + x)\n",
    "\n",
    "tau_hist_p0 = hist_p0[1]\n",
    "tau_hist_p1 = hist_p1[1]\n",
    "tau_hist_p2 = hist_p2[1]\n",
    "\n",
    "c_hist_p0 = c_scale(hist_p0[0])\n",
    "c_hist_p1 = c_scale(hist_p1[0])\n",
    "c_hist_p2 = c_scale(hist_p2[0])\n",
    "\n",
    "# Concatenate first array\n",
    "c_hist_p0 = np.concatenate((np.array([c_hist_p0[0]]), c_hist_p0))\n",
    "c_hist_p1 = np.concatenate((np.array([c_hist_p1[0]]), c_hist_p1))\n",
    "c_hist_p2 = np.concatenate((np.array([c_hist_p2[0]]), c_hist_p2))"
   ]
  },
  {
   "cell_type": "code",
   "execution_count": 12,
   "metadata": {},
   "outputs": [],
   "source": [
    "A0 = np.ones(Ap.shape) # All-to-all topology\n",
    "AA0 = np.concatenate((A0, Ap), axis=1)"
   ]
  },
  {
   "cell_type": "markdown",
   "metadata": {},
   "source": [
    "# Plot"
   ]
  },
  {
   "cell_type": "markdown",
   "metadata": {},
   "source": [
    "## Options"
   ]
  },
  {
   "cell_type": "code",
   "execution_count": 13,
   "metadata": {},
   "outputs": [],
   "source": [
    "# Plot positions [left, bottom, width, height] \n",
    "bbox0 = [0.1, 0.70, 0.40, 0.20] # Fig 6a: Topology comparison\n",
    "bbox1 = [0.6, 0.70, 0.40, 0.20] # Fig 6b: Histogram of delays\n",
    "bbox2 = [0.1, 0.40, 0.40, 0.20] # Fig 6c: Frequency over time (non-plastic)\n",
    "bbox3 = [0.6, 0.40, 0.40, 0.20] # Fig 6d: Frequency over time (plastic)\n",
    "bbox4 = [0.1, 0.1, 0.40, 0.20] # Fig 6e: sin phase over time (non-plastic)\n",
    "bbox5 = [0.6, 0.1, 0.40, 0.20] # Fig 6f: sin phase over time (plastic)\n",
    "\n",
    "\n",
    "# Figure c,d,e,f:\n",
    "line_opts = {'linewidth': 1.0,\n",
    "             'alpha': 0.4\n",
    "            }\n",
    "\n",
    "line_opts2 = {'linewidth': 2.0,\n",
    "              'alpha': 0.9,\n",
    "              'color': 'red'\n",
    "              }\n",
    "\n",
    "hist_alpha = 0.2\n",
    "hist_opts = {'linewidth': 2.0,\n",
    "             'alpha': 0.8\n",
    "             }\n",
    "\n",
    "colours = ['purple', 'green', 'red']\n",
    "\n",
    "# Colourmap\n",
    "N = asy_phases_np1.size\n",
    "colormap = plt.cm.get_cmap('cool')\n",
    "colormap2 = plt.cm.get_cmap('copper')\n",
    "colorlist = [colormap(i) for i in np.linspace(0, 0.99, N)]\n",
    "colorlist2 = [colormap2(i) for i in np.linspace(0, 0.99, N)]"
   ]
  },
  {
   "cell_type": "markdown",
   "metadata": {},
   "source": [
    "## Generate figure"
   ]
  },
  {
   "cell_type": "code",
   "execution_count": 14,
   "metadata": {
    "scrolled": false
   },
   "outputs": [
    {
     "name": "stdout",
     "output_type": "stream",
     "text": [
      "{'g': 1.5, 'omega0': 1, 'tf': 320, 'tau0': 2, 'inj': 0.8, 't_inj': 160}\n",
      "80\n"
     ]
    },
    {
     "data": {
      "image/png": "[encoded data removed]",
      "text/plain": [
       "<Figure size 960x800 with 6 Axes>"
      ]
     },
     "metadata": {},
     "output_type": "display_data"
    }
   ],
   "source": [
    "fig, ax = plt.subplots(6, figsize=(12,10), dpi=80)\n",
    "\n",
    "# Set positions\n",
    "ax[0].set_position(bbox0)\n",
    "ax[1].set_position(bbox1)\n",
    "ax[2].set_position(bbox2)\n",
    "ax[3].set_position(bbox3)\n",
    "ax[4].set_position(bbox4)\n",
    "ax[5].set_position(bbox5)\n",
    "\n",
    "# Figure A\n",
    "ax[0].imshow(1-AA0, cmap='Greys')\n",
    "ax[0].axvline(x=N-1/2, **line_opts2)\n",
    "ax[0].set_xticks([])\n",
    "ax[0].set_yticks([])\n",
    "\n",
    "# Figure B\n",
    "ax[1].fill_between(tau_hist_p0, c_hist_p0, y2=0, alpha=hist_alpha, color=colours[0], zorder=0)\n",
    "ax[1].plot(tau_hist_p0, c_hist_p0, zorder=0, color=colours[0], **hist_opts)\n",
    "ax[1].fill_between(tau_hist_p1, c_hist_p1, y2=0, alpha=hist_alpha, color=colours[1], zorder=1)\n",
    "ax[1].plot(tau_hist_p1, c_hist_p1, zorder=1, color=colours[1], **hist_opts)\n",
    "ax[1].fill_between(tau_hist_p2, c_hist_p2, y2=0, alpha=hist_alpha, color=colours[2], zorder=2)\n",
    "ax[1].plot(tau_hist_p2, c_hist_p2, zorder=2, color=colours[2], **hist_opts)\n",
    "\n",
    "ax[1].axvline(x=scale(param['tau0']) + bins_diff, color=colours[0], linestyle='dashed', alpha=0.5)\n",
    "ax[1].set_xlim(left=0, right=L_dist)\n",
    "ax[1].set_ylim(bottom=0, top=np.max(c_hist_p0)+0.5)\n",
    "\n",
    "# Figure C\n",
    "ax[2].set_prop_cycle(color=colorlist)\n",
    "ax[2].plot(sol_np['t'], sol_np['yp'], **line_opts)\n",
    "ax[2].axhline(y=param['omega0'], color='green', alpha=0.8)\n",
    "\n",
    "# Figure D\n",
    "ax[3].set_prop_cycle(color=colorlist2)\n",
    "ax[3].plot(sol_p['t'], sol_p['yp'], **line_opts)\n",
    "ax[3].axhline(y=param['omega0'], color='green', alpha=0.8)\n",
    "\n",
    "# Figure E\n",
    "ax[4].set_prop_cycle(color=colorlist)\n",
    "phi_np = np.concatenate((arr_phases_np1, arr_phases_np2))\n",
    "ax[4].plot(sol_np['t'], np.sin(phi_np), **line_opts)\n",
    "\n",
    "# Figure F\n",
    "ax[5].set_prop_cycle(color=colorlist2)\n",
    "phi_p = np.concatenate((arr_phases_p1, arr_phases_p2))\n",
    "ax[5].plot(sol_p['t'], np.sin(phi_p), **line_opts)\n",
    "\n",
    "# Add injury line\n",
    "ax[2].axvline(x=param['t_inj'], zorder=-1, **line_opts2)\n",
    "ax[3].axvline(x=param['t_inj'], zorder=-1, **line_opts2)\n",
    "ax[4].axvline(x=param['t_inj'], zorder=-1, **line_opts2)\n",
    "ax[5].axvline(x=param['t_inj'], zorder=-1, **line_opts2)\n",
    "\n",
    "# Adjustments to axes\n",
    "t0 = 0\n",
    "tf = param['tf']\n",
    "ax[2].set_xlim(left=t0, right=tf)\n",
    "ax[3].set_xlim(left=t0, right=tf)\n",
    "ax[4].set_xlim(left=t0, right=tf)\n",
    "ax[5].set_xlim(left=t0, right=tf)\n",
    "\n",
    "print(param)\n",
    "print(gain_p)"
   ]
  },
  {
   "cell_type": "markdown",
   "metadata": {},
   "source": [
    "## Status"
   ]
  },
  {
   "cell_type": "code",
   "execution_count": 15,
   "metadata": {},
   "outputs": [
    {
     "name": "stdout",
     "output_type": "stream",
     "text": [
      "Est. frequency no plasticity pre-injury: 0.2578291425023409\n",
      "Est. frequency no plasticity post-injury: 0.2588127467691712\n",
      "Est. frequency with plasticity pre-injury: 0.6144135758109339\n",
      "Est. frequency with plasticity post-injury: 0.9681967839887143\n",
      "\n",
      "Est. phase var no plasticity pre-injury: 4.930380657631324e-32\n",
      "Est. phase var no plasticity post-injury: 1.232595164407831e-32\n",
      "Est. phase var with plasticity pre-injury: 0.0247990093557988\n",
      "Est. phase var with plasticity post-injury: 0.010011795232030081\n",
      "\n",
      "Err. frequency no plasticity pre-injury: 7.156522897485889e-07\n",
      "Err. frequency no plasticity post-injury: 4.752761541019846e-06\n",
      "Err. frequency with plasticity pre-injury: 7.621886486510361e-10\n",
      "Err. frequency with plasticity post-injury: 8.537757787499768e-09\n",
      "\n",
      "Err. phases no plasticity pre-injury: 0.000133744129083637\n",
      "Err. phases no plasticity post-injury: 1.093830473345433e-05\n",
      "Err. phases with plasticity pre-injury: 1.3002081502567505e-08\n",
      "Err. phases with plasticity post-injury: 1.6916372059059863e-07\n",
      "\n"
     ]
    }
   ],
   "source": [
    "# Frequencies\n",
    "print('Est. frequency no plasticity pre-injury: ' + str(asy_Omega_np1))\n",
    "print('Est. frequency no plasticity post-injury: ' + str(asy_Omega_np2))\n",
    "print('Est. frequency with plasticity pre-injury: ' + str(asy_Omega_p1))\n",
    "print('Est. frequency with plasticity post-injury: ' + str(asy_Omega_p2) + '\\n')\n",
    "\n",
    "# Phases\n",
    "print('Est. phase var no plasticity pre-injury: ' + str(delta2_np1))\n",
    "print('Est. phase var no plasticity post-injury: ' + str(delta2_np2))\n",
    "print('Est. phase var with plasticity pre-injury: ' + str(delta2_p1))\n",
    "print('Est. phase var with plasticity post-injury: ' + str(delta2_p2) + '\\n')\n",
    "\n",
    "# Frequency asymptotic errors\n",
    "print('Err. frequency no plasticity pre-injury: ' + str(Omega_var_np1))\n",
    "print('Err. frequency no plasticity post-injury: ' + str(Omega_var_np2))\n",
    "print('Err. frequency with plasticity pre-injury: ' + str(Omega_var_p1))\n",
    "print('Err. frequency with plasticity post-injury: ' + str(Omega_var_p2) + '\\n')\n",
    "\n",
    "print('Err. phases no plasticity pre-injury: ' + str(phase_var_np1))\n",
    "print('Err. phases no plasticity post-injury: ' + str(phase_var_np2))\n",
    "print('Err. phases with plasticity pre-injury: ' + str(phase_var_p1))\n",
    "print('Err. phases with plasticity post-injury: ' + str(phase_var_p2) + '\\n')"
   ]
  },
  {
   "cell_type": "code",
   "execution_count": 16,
   "metadata": {},
   "outputs": [
    {
     "data": {
      "text/plain": [
       "0.0"
      ]
     },
     "execution_count": 16,
     "metadata": {},
     "output_type": "execute_result"
    }
   ],
   "source": [
    "np.var(np.mod(phi_np[-1], 2*pi))"
   ]
  },
  {
   "cell_type": "code",
   "execution_count": 17,
   "metadata": {},
   "outputs": [
    {
     "data": {
      "text/plain": [
       "(0.2578291425023409, 0.2588127467691712)"
      ]
     },
     "execution_count": 17,
     "metadata": {},
     "output_type": "execute_result"
    }
   ],
   "source": [
    "asy_Omega_np1, asy_Omega_np2"
   ]
  },
  {
   "cell_type": "code",
   "execution_count": 18,
   "metadata": {},
   "outputs": [
    {
     "data": {
      "text/plain": [
       "292"
      ]
     },
     "execution_count": 18,
     "metadata": {},
     "output_type": "execute_result"
    }
   ],
   "source": [
    "sol_np1['t'].size + sol_np2['t'].size"
   ]
  },
  {
   "cell_type": "code",
   "execution_count": 19,
   "metadata": {},
   "outputs": [
    {
     "data": {
      "text/plain": [
       "292"
      ]
     },
     "execution_count": 19,
     "metadata": {},
     "output_type": "execute_result"
    }
   ],
   "source": [
    "sol_np['t'].size"
   ]
  },
  {
   "cell_type": "code",
   "execution_count": null,
   "metadata": {},
   "outputs": [],
   "source": []
  }
 ],
 "metadata": {
  "kernelspec": {
   "display_name": "Python 3",
   "language": "python",
   "name": "python3"
  },
  "language_info": {
   "codemirror_mode": {
    "name": "ipython",
    "version": 3
   },
   "file_extension": ".py",
   "mimetype": "text/x-python",
   "name": "python",
   "nbconvert_exporter": "python",
   "pygments_lexer": "ipython3",
   "version": "3.6.5"
  }
 },
 "nbformat": 4,
 "nbformat_minor": 2
}
