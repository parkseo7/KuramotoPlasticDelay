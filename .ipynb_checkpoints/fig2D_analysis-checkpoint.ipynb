{
 "cells": [
  {
   "cell_type": "markdown",
   "metadata": {},
   "source": [
    "# About\n",
    "\n",
    "Theoretical plots of the analysis pertaining to simplified 2-dim Kuramoto system with adaptive delays and no self-feedback links. Does not require any exported numerical simulations from MATLAB scripts.\n",
    "\n",
    "Uses the following packages and functions:\n",
    "\n",
    "funlib:\n",
    " - Omega2D\n",
    " - eig2D_cubic\n",
    " - eig2D_det"
   ]
  },
  {
   "cell_type": "markdown",
   "metadata": {},
   "source": [
    "# Library"
   ]
  },
  {
   "cell_type": "code",
   "execution_count": 1,
   "metadata": {},
   "outputs": [],
   "source": [
    "from __future__ import division, print_function\n",
    "\n",
    "%matplotlib inline\n",
    "# Toggle on/off\n",
    "# %matplotlib notebook\n",
    "\n",
    "import os\n",
    "import numpy as np\n",
    "import scipy.io as sio\n",
    "from scipy import optimize\n",
    "import matplotlib.pyplot as plt\n",
    "from mpl_toolkits.mplot3d import Axes3D\n",
    "import matplotlib.transforms as tsfm\n",
    "import math\n",
    "from math import pi\n",
    "\n",
    "from lib import *\n",
    "\n",
    "from IPython.display import clear_output"
   ]
  },
  {
   "cell_type": "markdown",
   "metadata": {},
   "source": [
    "# Generate arrays to plot"
   ]
  },
  {
   "cell_type": "markdown",
   "metadata": {},
   "source": [
    "## Parameters"
   ]
  },
  {
   "cell_type": "code",
   "execution_count": 2,
   "metadata": {},
   "outputs": [],
   "source": [
    "g = 1.5\n",
    "omega0 = w0 = 1.0\n",
    "gain = 30\n",
    "tau0 = 0.1\n",
    "\n",
    "# Parameter dictionary\n",
    "param = {'g': g,\n",
    "         'omega0': omega0,\n",
    "         'gain': gain,\n",
    "         'tau0': tau0\n",
    "         }\n",
    "\n",
    "param2 = param.copy()\n",
    "param2['gain'] = 20\n",
    "\n",
    "# Settings\n",
    "steps = 500"
   ]
  },
  {
   "cell_type": "markdown",
   "metadata": {},
   "source": [
    "## Synchronization states"
   ]
  },
  {
   "cell_type": "code",
   "execution_count": 3,
   "metadata": {},
   "outputs": [],
   "source": [
    "# Fixed-point functions\n",
    "Omega_fun = lambda Omega: funlib.Omega2D(Omega, param)[0]\n",
    "Omega_fun2 = lambda Omega: funlib.Omega2D(Omega, param2)[0]\n",
    "\n",
    "Omega_fun_noplas = lambda Omega: Omega - w0 + g*np.sin(Omega*tau0)\n",
    "Delta_fun = lambda Omega: funlib.Omega2D(Omega, param)[1]\n",
    "\n",
    "# Get all roots of the fixed-point equation in interval\n",
    "Omega_roots = rootlib.root_on_interval(Omega_fun, w0-g/2, w0+g/2, steps=steps)\n",
    "Delta_roots = np.zeros(Omega_roots.size)\n",
    "\n",
    "for i in range(Omega_roots.size):\n",
    "    Delta_roots[i] = Delta_fun(Omega_roots[i])\n",
    "\n",
    "# Generate arrays of R_gain to plot\n",
    "Omega_arr = np.linspace(w0 - g/2, w0 + g/2, num=steps)\n",
    "R_arr = np.zeros(Omega_arr.size)\n",
    "R_arr2 = np.zeros(Omega_arr.size)\n",
    "R_arr_noplas = np.zeros(Omega_arr.size)\n",
    "\n",
    "for j in range(Omega_arr.size):\n",
    "    R_arr[j] = Omega_fun(Omega_arr[j])\n",
    "    R_arr2[j] = Omega_fun2(Omega_arr[j])\n",
    "    R_arr_noplas[j] = Omega_fun_noplas(Omega_arr[j])"
   ]
  },
  {
   "cell_type": "markdown",
   "metadata": {},
   "source": [
    "## Roots of cubic polynomial"
   ]
  },
  {
   "cell_type": "code",
   "execution_count": 4,
   "metadata": {},
   "outputs": [],
   "source": [
    "# Obtain roots of cubic polynomial\n",
    "cubic_coeffs = lambda Omega: funlib.eig2D_cubic(Omega, Delta_fun(Omega), param)\n",
    "comp_root = lambda Omega: funlib.quadratic_roots(cubic_coeffs(Omega))\n",
    "\n",
    "re_roots1 = np.zeros(Omega_arr.size)\n",
    "re_roots2 = np.zeros(Omega_arr.size)\n",
    "\n",
    "for k in range(Omega_arr.size):\n",
    "    new_root = comp_root(Omega_arr[k])\n",
    "    re_roots1[k] = new_root[0].real\n",
    "    re_roots2[k] = new_root[1].real\n",
    "\n",
    "zero_arr = np.zeros(Omega_roots.size)"
   ]
  },
  {
   "cell_type": "markdown",
   "metadata": {},
   "source": [
    "## Eigenvalues"
   ]
  },
  {
   "cell_type": "markdown",
   "metadata": {},
   "source": [
    "### Choose two synchronization states for plotting respective eigenvalues."
   ]
  },
  {
   "cell_type": "code",
   "execution_count": 5,
   "metadata": {},
   "outputs": [],
   "source": [
    "Omega1 = Omega_roots[0]\n",
    "Omega2 = Omega_roots[1]\n",
    "\n",
    "Delta1 = Delta_roots[0]\n",
    "Delta2 = Delta_roots[1]\n",
    "\n",
    "# Respective cubic roots\n",
    "cubic_roots1 = np.roots(cubic_coeffs(Omega1))\n",
    "cubic_roots2 = np.roots(cubic_coeffs(Omega2))"
   ]
  },
  {
   "cell_type": "markdown",
   "metadata": {},
   "source": [
    "### Eigenvalue plot for 1st synchronization state"
   ]
  },
  {
   "cell_type": "code",
   "execution_count": 6,
   "metadata": {},
   "outputs": [],
   "source": [
    "# Ranges\n",
    "range_u1 = 2\n",
    "range_v1 = 5\n",
    "\n",
    "part_u1 = 300\n",
    "part_v1 = 300\n",
    "\n",
    "cap1 = 5\n",
    "\n",
    "# Processing function\n",
    "z_fun1 = lambda x: x\n",
    "\n",
    "# Generate error meshes\n",
    "\n",
    "u_arr1 = np.linspace(-range_u1, range_u1, num=part_u1)\n",
    "v_arr1 = np.linspace(-range_v1, range_v1, num=part_v1)\n",
    "v_mesh1, u_mesh1 = np.meshgrid(v_arr1, u_arr1)\n",
    "\n",
    "err_mesh1 = np.zeros(u_mesh1.shape)\n",
    "eig_poly1 = lambda z: funlib.eig2D_det(z, Omega1, Delta1, param)\n",
    "\n",
    "for k in range(u_arr1.size):\n",
    "    for l in range(v_arr1.size):\n",
    "        err_mesh1[k,l] = np.min((np.abs(eig_poly1(u_mesh1[k,l] + 1j*v_mesh1[k,l])), cap1))\n",
    "\n",
    "# Transform err_mesh\n",
    "z_mesh1 = z_fun1(err_mesh1)\n",
    "z_mesh1 = z_mesh1 / np.abs(z_mesh1).max()\n",
    "\n",
    "# Set the limits of the plot to the limits of the data\n",
    "u_min1 = u_mesh1.min()\n",
    "u_max1 = u_mesh1.max()\n",
    "v_min1 = v_mesh1.min()\n",
    "v_max1 = v_mesh1.max()"
   ]
  },
  {
   "cell_type": "markdown",
   "metadata": {},
   "source": [
    "### Eigenvalue plot for 2st synchronization state"
   ]
  },
  {
   "cell_type": "code",
   "execution_count": 7,
   "metadata": {},
   "outputs": [],
   "source": [
    "# Ranges\n",
    "range_u2 = 6\n",
    "range_v2 = 5\n",
    "\n",
    "part_u2 = 300\n",
    "part_v2 = 300\n",
    "\n",
    "cap2 = 10\n",
    "\n",
    "# Processing function\n",
    "z_fun2 = lambda x: x\n",
    "\n",
    "# Generate error meshes\n",
    "\n",
    "u_arr2 = np.linspace(-range_u2, range_u2, num=part_u2)\n",
    "v_arr2 = np.linspace(-range_v2, range_v2, num=part_v2)\n",
    "v_mesh2, u_mesh2 = np.meshgrid(v_arr2, u_arr2)\n",
    "\n",
    "err_mesh2 = np.zeros(u_mesh2.shape)\n",
    "eig_poly2 = lambda z: funlib.eig2D_det(z, Omega2, Delta2, param)\n",
    "\n",
    "for k in range(u_arr2.size):\n",
    "    for l in range(v_arr2.size):\n",
    "        err_mesh2[k,l] = np.min((np.abs(eig_poly2(u_mesh2[k,l] + 1j*v_mesh2[k,l])), cap2))\n",
    "\n",
    "# Transform err_mesh\n",
    "z_mesh2 = z_fun2(err_mesh2)\n",
    "z_mesh2 = z_mesh2 / np.abs(z_mesh2).max()\n",
    "\n",
    "# Set the limits of the plot to the limits of the data\n",
    "u_min2 = u_mesh2.min()\n",
    "u_max2 = u_mesh2.max()\n",
    "v_min2 = v_mesh2.min()\n",
    "v_max2 = v_mesh2.max()"
   ]
  },
  {
   "cell_type": "markdown",
   "metadata": {},
   "source": [
    "# Generate figure"
   ]
  },
  {
   "cell_type": "markdown",
   "metadata": {},
   "source": [
    "## Plot options"
   ]
  },
  {
   "cell_type": "code",
   "execution_count": 8,
   "metadata": {},
   "outputs": [],
   "source": [
    "# Plot positions [left, bottom, width, height] \n",
    "bbox0 = [0.15, 0.55, 0.25, 0.3]  # Fig 2a: Synchronization states (roots of R_gain)\n",
    "bbox1 = [0.15, 0.1, 0.25, 0.3]  # Fig 2b: Non-zero cubic roots (real part)\n",
    "bbox2 = [0.5, 0.1, 0.15, 0.8] # Fig 2c: Eigenvalue plot of 1st Omega\n",
    "bbox3 = [0.75, 0.1, 0.15, 0.8] # Fig 2d: Eigenvalue plot of 2nd Omega\n",
    "bbox4 = [0.92, 0.1, 0.04, 0.8] # Colour legend for fig 2c, fig 2d heatmaps\n",
    "\n",
    "# Plot options\n",
    "lw_ab1 = 1.8\n",
    "lw_ab2 = 0.8\n",
    "lw_cd = 0.5\n",
    "ms_b = 30\n",
    "\n",
    "al_ab = 1.0\n",
    "al_cd = 0.8\n",
    "\n",
    "eig_options_line = {'linestyle': 'dashed',\n",
    "                    'linewidth': lw_cd,\n",
    "                    'color': 'white'\n",
    "                    }\n",
    "eig_options_mark = {'linestyle': 'None',\n",
    "                    'marker': 'o',\n",
    "                    'markersize': 7\n",
    "                    }\n",
    "\n",
    "omega_opts = {'linewidth': 1.2,\n",
    "              'linestyle': 'solid',\n",
    "              'alpha': 0.8,\n",
    "              'color': 'green'\n",
    "              }\n",
    "\n",
    "tick_fontsize = 8\n",
    "\n",
    "eig_colours = ['turquoise', 'orangered', 'blue']"
   ]
  },
  {
   "cell_type": "markdown",
   "metadata": {},
   "source": [
    "## Plot figure"
   ]
  },
  {
   "cell_type": "code",
   "execution_count": 9,
   "metadata": {},
   "outputs": [
    {
     "data": {
      "text/plain": [
       "<matplotlib.colorbar.Colorbar at 0x1b4c7eb0c50>"
      ]
     },
     "execution_count": 9,
     "metadata": {},
     "output_type": "execute_result"
    },
    {
     "data": {
      "image/png": "[encoded data removed]",
      "text/plain": [
       "<Figure size 960x640 with 5 Axes>"
      ]
     },
     "metadata": {},
     "output_type": "display_data"
    }
   ],
   "source": [
    "fig, ax = plt.subplots(5, figsize=(12, 8), dpi=80)\n",
    "\n",
    "# Set positions\n",
    "ax[0].set_position(bbox0)\n",
    "ax[1].set_position(bbox1)\n",
    "ax[2].set_position(bbox2)\n",
    "ax[3].set_position(bbox3)\n",
    "ax[4].set_position(bbox4)\n",
    "\n",
    "# Figure 2a\n",
    "ax[0].plot(Omega_arr, R_arr_noplas, color='magenta', linewidth=lw_ab1, alpha=al_ab)\n",
    "ax[0].plot(Omega_arr, R_arr2, color='orange', linewidth=lw_ab1, alpha=al_ab)\n",
    "ax[0].plot(Omega_arr, R_arr, color='blue', linewidth=lw_ab1, alpha=al_ab)\n",
    "\n",
    "ax[0].axhline(y=0, color='black', linewidth=lw_ab2)\n",
    "ax[0].axvline(x=w0, zorder=-1, **omega_opts)\n",
    "\n",
    "ax[0].set_xlim(left=w0-g/2, right=w0+g/8)\n",
    "\n",
    "# ax[0].tick_params(axis='both', which='major', labelsize=tick_fontsize)\n",
    "\n",
    "\n",
    "# Figure 2b\n",
    "ax[1].plot(Omega_arr, re_roots1, color=eig_colours[1], linewidth=lw_ab1, alpha=al_ab)\n",
    "ax[1].plot(Omega_arr, re_roots2, color=eig_colours[0], linewidth=lw_ab1, alpha=al_ab)\n",
    "\n",
    "ax[1].scatter(Omega_roots, np.zeros(Omega_roots.size), s=ms_b, marker='d', color='blue')\n",
    "# for Om_root in Omega_roots[:3]:\n",
    "    # ax[1].axvline(x=Om_root, color='blue', linewidth=lw_ab2)\n",
    "    \n",
    "ax[1].axhline(y=0, color='black', linewidth=lw_ab2)\n",
    "ax[1].axvline(x=w0, zorder=-1, **omega_opts)\n",
    "\n",
    "ax[1].set_xlim(left=w0-g/2, right=w0+g/8)\n",
    "\n",
    "\n",
    "# Figure 2c\n",
    "c = ax[2].pcolormesh(u_mesh1, v_mesh1, z_mesh1, cmap='binary', vmin=0, vmax=1) # cmap='RdBu'\n",
    "ax[2].axis([u_min1, u_max1, v_min1, v_max1])\n",
    "    \n",
    "ax[2].axhline(y=0, **eig_options_line) # x-axis\n",
    "ax[2].axvline(x=0, **eig_options_line) # y-axis\n",
    "\n",
    "re1 = np.real(cubic_roots1[[1,0,2]])\n",
    "im1 = np.imag(cubic_roots1[[1,0,2]])\n",
    "\n",
    "for i in range(re1.size):\n",
    "    ax[2].plot(np.array([re1[i]]), np.array([im1[i]]), color=eig_colours[i], **eig_options_mark)\n",
    "# ax[2].plot(np.real(cubic_roots1), np.imag(cubic_roots1), color='orange', **eig_options_mark) # Cubic roots\n",
    "\n",
    "\n",
    "# Figure 2d\n",
    "ax[3].pcolormesh(u_mesh2, v_mesh2, z_mesh2, cmap='binary', vmin=0, vmax=1) # cmap='RdBu'\n",
    "ax[3].axis([u_min2, u_max2, v_min2, v_max2])\n",
    "    \n",
    "ax[3].axhline(y=0, **eig_options_line) # x-axis\n",
    "ax[3].axvline(x=0, **eig_options_line) # y-axis\n",
    "\n",
    "re2 = np.real(cubic_roots2)\n",
    "im2 = np.imag(cubic_roots2)\n",
    "\n",
    "for i in range(re2.size):\n",
    "    ax[3].plot(np.array([re2[i]]), np.array([im2[i]]), color=eig_colours[i], **eig_options_mark)\n",
    "    \n",
    "# ax[3].plot(np.real(cubic_roots2), np.imag(cubic_roots2), color='orange', **eig_options_mark) # Cubic roots\n",
    "\n",
    "# Colourbar\n",
    "fig.colorbar(c, cax=ax[4]) "
   ]
  }
 ],
 "metadata": {
  "kernelspec": {
   "display_name": "Python 3",
   "language": "python",
   "name": "python3"
  },
  "language_info": {
   "codemirror_mode": {
    "name": "ipython",
    "version": 3
   },
   "file_extension": ".py",
   "mimetype": "text/x-python",
   "name": "python",
   "nbconvert_exporter": "python",
   "pygments_lexer": "ipython3",
   "version": "3.6.5"
  }
 },
 "nbformat": 4,
 "nbformat_minor": 2
}
