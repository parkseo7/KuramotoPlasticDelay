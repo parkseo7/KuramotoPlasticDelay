{
 "cells": [
  {
   "cell_type": "markdown",
   "metadata": {},
   "source": [
    "# About\n",
    "\n",
    "Numerical plots pertaining to trials of an N-dim Kuramoto system with adaptive delays. Requires a folder of .mat files from the the following scripts:\n",
    " - scriptND_iter.m\n",
    " - script.m\n",
    "\n",
    "Uses the following packages and functions:"
   ]
  },
  {
   "cell_type": "markdown",
   "metadata": {},
   "source": [
    "# Library"
   ]
  },
  {
   "cell_type": "code",
   "execution_count": 1,
   "metadata": {},
   "outputs": [],
   "source": [
    "from __future__ import division, print_function\n",
    "\n",
    "%matplotlib inline\n",
    "# Toggle on/off\n",
    "# %matplotlib notebook\n",
    "\n",
    "import os\n",
    "import numpy as np\n",
    "import scipy.io as sio\n",
    "from scipy import optimize\n",
    "from scipy import stats\n",
    "import matplotlib.cm as cm\n",
    "import matplotlib.pyplot as plt\n",
    "import matplotlib.transforms as tsfm\n",
    "import math\n",
    "from math import pi\n",
    "\n",
    "from lib import *\n",
    "\n",
    "from IPython.display import clear_output"
   ]
  },
  {
   "cell_type": "markdown",
   "metadata": {},
   "source": [
    "# Directories"
   ]
  },
  {
   "cell_type": "code",
   "execution_count": 2,
   "metadata": {},
   "outputs": [],
   "source": [
    "# Data files (for fig.4d)\n",
    "import_folder = 'matlabND_multi_N30_2' # 'matlabND_multi_N30_2'\n",
    "export_folder = 'export'\n",
    "ex_name = 'ND_process30_2'\n",
    "\n",
    "# Directory\n",
    "dir_main = os.getcwd()\n",
    "dir_im = os.path.join(dir_main, 'data', import_folder)\n",
    "dir_ex = os.path.join(dir_main, 'data', export_folder)\n",
    "\n",
    "filenames = os.listdir(dir_im)"
   ]
  },
  {
   "cell_type": "markdown",
   "metadata": {},
   "source": [
    "# Import and compile data"
   ]
  },
  {
   "cell_type": "markdown",
   "metadata": {},
   "source": [
    "## Constant parameters"
   ]
  },
  {
   "cell_type": "code",
   "execution_count": 3,
   "metadata": {},
   "outputs": [],
   "source": [
    "dir_sam = os.path.join(dir_im, filenames[0])\n",
    "dict_mat = sio.loadmat(dir_sam)\n",
    "\n",
    "param = {'g': dict_mat['g'][0,0],\n",
    "         'omega0': dict_mat['omega0'][0,0],\n",
    "         'gain': dict_mat['gain'][0,0],\n",
    "         'tf': dict_mat['tf'][0,0],\n",
    "         'tau0': dict_mat['tau0'][0,0],\n",
    "         }\n",
    "\n",
    "# Asymptotic percentage\n",
    "asy = 0.1"
   ]
  },
  {
   "cell_type": "markdown",
   "metadata": {},
   "source": [
    "## Asymptotic values"
   ]
  },
  {
   "cell_type": "code",
   "execution_count": 4,
   "metadata": {},
   "outputs": [
    {
     "name": "stdout",
     "output_type": "stream",
     "text": [
      "Trial: sol_num0.mat, asy. freq = 0.754880938727865\n",
      "Trial: sol_num1.mat, asy. freq = 0.7548675374459954\n",
      "Trial: sol_num10.mat, asy. freq = 0.7549019558731349\n",
      "Trial: sol_num11.mat, asy. freq = 0.7549313121889238\n",
      "Trial: sol_num12.mat, asy. freq = 0.7549108462211352\n",
      "Trial: sol_num13.mat, asy. freq = 0.7548745322721259\n",
      "Trial: sol_num14.mat, asy. freq = 0.7548508546986682\n",
      "Trial: sol_num15.mat, asy. freq = 0.7549125588449556\n",
      "Trial: sol_num2.mat, asy. freq = 0.7548659779749354\n",
      "Trial: sol_num3.mat, asy. freq = 0.7549332722323684\n",
      "Trial: sol_num4.mat, asy. freq = 0.7548812799875471\n",
      "Trial: sol_num5.mat, asy. freq = 0.7548660369790703\n",
      "Trial: sol_num6.mat, asy. freq = 0.7549633767785838\n",
      "Trial: sol_num7.mat, asy. freq = 0.7549019380697783\n",
      "Trial: sol_num8.mat, asy. freq = 0.754875008250967\n",
      "Trial: sol_num9.mat, asy. freq = 0.7548565448406915\n"
     ]
    }
   ],
   "source": [
    "# Compiled arrays\n",
    "init_freqs = np.zeros(len(filenames))\n",
    "init_stds = np.zeros(len(filenames))\n",
    "asy_freqs = np.zeros(len(filenames))\n",
    "asy_stds = np.zeros(len(filenames))\n",
    "var_freqs = np.zeros(len(filenames))\n",
    "\n",
    "for i in range(len(filenames)):\n",
    "    \n",
    "    # Import .mat file\n",
    "    dir_mat = os.path.join(dir_im, filenames[i])\n",
    "    dict_mat = sio.loadmat(dir_mat)\n",
    "    \n",
    "    # Compile solution dictionary\n",
    "    sol = {'t': np.reshape(dict_mat['t'], -1),\n",
    "           'y': dict_mat['y'],\n",
    "           'yp': dict_mat['yp'],\n",
    "           'tau': dict_mat['tau'],\n",
    "           'taup': dict_mat['taup']\n",
    "          }\n",
    "    \n",
    "    init_freq = dict_mat['init_freq'][0,0]\n",
    "    init_std = dict_mat['std'][0,0]\n",
    "    \n",
    "    # Compute the global frequency:\n",
    "    arr_omega = asylib.weight_avg(sol['t'], sol['yp'], asy)\n",
    "    asy_Omega = np.sum(arr_omega) / arr_omega.size\n",
    "\n",
    "    Omega_vars = asylib.weight_avg(sol['t'], (sol['yp'] - asy_Omega)**2, asy)\n",
    "    Omega_var = np.sum(Omega_vars)\n",
    "\n",
    "    # Get array of asymptotic phases:\n",
    "    arr_lin = asy_Omega*sol['t']\n",
    "    arr_lin = arr_lin[:,None]\n",
    "\n",
    "    arr_phases = sol['y'] - arr_lin\n",
    "    asy_phases = asylib.weight_avg(sol['t'], arr_phases, asy)\n",
    "\n",
    "    # Variance\n",
    "    phase_vars = asylib.weight_avg(sol['t'], (arr_phases - asy_phases)**2, asy)\n",
    "    phase_var = np.mean(phase_vars)\n",
    "    \n",
    "    N = asy_phases.size\n",
    "    \n",
    "    # SAVE TO ARRAYS\n",
    "    init_freqs[i] = init_freq\n",
    "    init_stds[i] = init_std\n",
    "    asy_freqs[i] = asy_Omega\n",
    "    asy_stds[i] = np.sqrt((N/(N-1))*np.var(asy_phases))\n",
    "    var_freqs[i] = Omega_var\n",
    "    \n",
    "    # Print statements:\n",
    "    print(\"Trial: \" + filenames[i] + ', asy. freq = ' + str(asy_Omega))"
   ]
  },
  {
   "cell_type": "markdown",
   "metadata": {},
   "source": [
    "## Export"
   ]
  },
  {
   "cell_type": "code",
   "execution_count": 5,
   "metadata": {},
   "outputs": [],
   "source": [
    "# Define export dictionary\n",
    "ex_mat = {'init_freqs': init_freqs,\n",
    "          'init_stds': init_stds,\n",
    "          'asy_freqs': asy_freqs,\n",
    "          'asy_stds': asy_stds,\n",
    "          'var_freqs': var_freqs,\n",
    "          'g': param['g'],\n",
    "          'w0': param['omega0'],\n",
    "          'tau0': param['tau0'],\n",
    "          'gain': param['gain']\n",
    "          }\n",
    "\n",
    "# Copy parameters\n",
    "for par in param.keys():\n",
    "    ex_mat[par] = param[par]\n",
    "\n",
    "# Export to .mat (export folder)\n",
    "dir_exfile = os.path.join(dir_ex, ex_name)\n",
    "sio.savemat(dir_exfile, ex_mat)"
   ]
  },
  {
   "cell_type": "markdown",
   "metadata": {},
   "source": [
    "# Arrays over time\n",
    "\n",
    "Skip to this cell if asymptotic arrays have already been processed."
   ]
  },
  {
   "cell_type": "code",
   "execution_count": 6,
   "metadata": {},
   "outputs": [],
   "source": [
    "# Import from folder2 with at least two trials (converging to different frequencies\n",
    "trial1 = {'color': 'blue', 'name': 'sol_num1'}"
   ]
  },
  {
   "cell_type": "markdown",
   "metadata": {},
   "source": [
    "### Trial"
   ]
  },
  {
   "cell_type": "code",
   "execution_count": 7,
   "metadata": {},
   "outputs": [],
   "source": [
    "dir_mat1 = os.path.join(dir_im, trial1['name'])\n",
    "dict_mat1 = sio.loadmat(dir_mat1)\n",
    "\n",
    "trial1['t'] = np.reshape(dict_mat1['t'], -1)\n",
    "trial1['y'] = dict_mat1['y']\n",
    "trial1['yp'] = dict_mat1['yp']\n",
    "trial1['tau'] = dict_mat1['tau']\n",
    "trial1['init_freq'] = dict_mat1['init_freq'][0,0]\n",
    "trial1['std'] = dict_mat1['std'][0,0]\n",
    "\n",
    "# Compute the asymptotic arrays\n",
    "arr_omega1 = asylib.weight_avg(trial1['t'], trial1['yp'], asy)\n",
    "asy_Omega1 = np.sum(arr_omega1) / arr_omega1.size\n",
    "\n",
    "\n",
    "sol1 = {'t': np.reshape(dict_mat1['t'], -1),\n",
    "       'y': dict_mat1['y'],\n",
    "       'yp': dict_mat1['yp'],\n",
    "       'tau': dict_mat1['tau'],\n",
    "       'taup': dict_mat1['taup']\n",
    "      }\n",
    "\n",
    "# Get array of asymptotic phases:\n",
    "arr_lin1 = asy_Omega1*sol1['t']\n",
    "arr_lin1 = arr_lin1[:,None]\n",
    "\n",
    "arr_phases1 = trial1['y'] - arr_lin1\n",
    "asy_phases1 = asylib.weight_avg(trial1['t'], arr_phases1, asy)\n",
    "\n",
    "# Mean zero asy phases:\n",
    "cen_phases = asy_phases1 - np.mean(asy_phases1)\n",
    "\n",
    "# Store\n",
    "trial1['phases'] = arr_phases1\n",
    "trial1['asy_phases'] = asy_phases1\n",
    "trial1['asy_Omega'] = asy_Omega1"
   ]
  },
  {
   "cell_type": "markdown",
   "metadata": {},
   "source": [
    "# Asymptotic arrays"
   ]
  },
  {
   "cell_type": "code",
   "execution_count": 8,
   "metadata": {},
   "outputs": [],
   "source": [
    "# Import arrays and values\n",
    "dir_exfile = os.path.join(dir_ex, ex_name)\n",
    "dict_ex = sio.loadmat(dir_exfile)\n",
    "\n",
    "init_freqs = np.reshape(dict_ex['init_freqs'], -1)\n",
    "init_stds = np.reshape(dict_ex['init_stds'], -1)\n",
    "asy_freqs = np.reshape(dict_ex['asy_freqs'], -1)\n",
    "asy_stds = np.reshape(dict_ex['asy_stds'], -1)"
   ]
  },
  {
   "cell_type": "markdown",
   "metadata": {},
   "source": [
    "# Theoretical arrays"
   ]
  },
  {
   "cell_type": "markdown",
   "metadata": {},
   "source": [
    "## Stability states curve"
   ]
  },
  {
   "cell_type": "code",
   "execution_count": 9,
   "metadata": {},
   "outputs": [],
   "source": [
    "# Parameters\n",
    "g = dict_ex['g'][0,0]\n",
    "w0 = dict_ex['w0'][0,0]\n",
    "tau0 = dict_ex['tau0'][0,0]\n",
    "gain = dict_ex['gain'][0,0]\n",
    "\n",
    "param = {'g': g,\n",
    "         'omega0': w0,\n",
    "         'tau0': tau0, \n",
    "         'gain': gain\n",
    "         }\n",
    "\n",
    "steps = 400\n",
    "\n",
    "# Fixed-point functions\n",
    "Omega_fun = lambda Omega, delta2: funlib.Omega_infty(Omega, delta2, param, L=2*pi, steps=steps) - Omega\n",
    "\n",
    "# Generate error meshes of Omega_fun\n",
    "part_Omega = 100\n",
    "part_delta = 100\n",
    "\n",
    "cap = 0.5\n",
    "\n",
    "# Processing function\n",
    "z_fun = lambda x: x\n",
    "\n",
    "# Generate error meshes\n",
    "Omega_arr = np.linspace(w0 - g, w0 + g, num=part_Omega)\n",
    "delta_arr = np.linspace(0,1, num=part_delta)\n",
    "delta_mesh, Omega_mesh = np.meshgrid(delta_arr, Omega_arr)\n",
    "\n",
    "err_mesh = np.zeros(Omega_mesh.shape)\n",
    "for j in range(Omega_arr.size):\n",
    "    for k in range(delta_arr.size):\n",
    "        new_err = Omega_fun(Omega_mesh[j,k], delta_mesh[j,k]**2)\n",
    "        err_mesh[j,k] = np.max((np.min((new_err, cap)), -cap))\n",
    "\n",
    "# Obtain solution curve Omega = Omega(delta)\n",
    "Omega_roots = np.zeros(delta_arr.size+1)\n",
    "Omega_roots[0] = w0\n",
    "\n",
    "for k in range(delta_arr.size):\n",
    "    deltak = delta_arr[k]\n",
    "    Omega_funk = lambda Omega: Omega_fun(Omega, deltak**2)\n",
    "    new_root = rootlib.find_root(Omega_funk, Omega_roots[k], w0-g, w0+g, steps=100)\n",
    "    if new_root[1]:\n",
    "        Omega_roots[k+1] = new_root[0]\n",
    "        \n",
    "Omega_roots = Omega_roots[1:]"
   ]
  },
  {
   "cell_type": "markdown",
   "metadata": {},
   "source": [
    "## Stable synchronization states through eigenvalue analysis"
   ]
  },
  {
   "cell_type": "code",
   "execution_count": 10,
   "metadata": {},
   "outputs": [],
   "source": [
    "# Numerical options\n",
    "steps = 1000\n",
    "L = 4*pi\n",
    "deg = 3\n",
    "R = 1\n",
    "\n",
    "# Error function\n",
    "err_fun = lambda z: eigenlib.eig_infty_scale(z, Omega, delta2, param, deg=deg, R=R, L=L, steps=steps) - z\n",
    "eig_terms = lambda u,v2: eigenlib.eig_infty_poly(deg, u, v2, param, R=R, L=pi, steps=steps)\n",
    "\n",
    "delta_arr0 = delta_arr[1:]\n",
    "Omega_roots0 = Omega_roots[1:]\n",
    "\n",
    "real_max = np.zeros(delta_arr0.size)\n",
    "inds_stable = []\n",
    "\n",
    "for k in range(delta_arr0.size):\n",
    "    delta2 = delta_arr0[k]**2\n",
    "    Omega = Omega_roots0[k]\n",
    "    \n",
    "    coeffs = eig_terms(Omega, delta2)\n",
    "    \n",
    "    # Filter out any roots close to 0\n",
    "    eig_roots = np.roots(coeffs)\n",
    "    eig_roots = eig_roots[np.abs(eig_roots) > 1e-14]\n",
    "    \n",
    "    max_real = np.max(np.real(eig_roots))\n",
    "    real_max[k] = np.min((max_real,1))\n",
    "    \n",
    "    if real_max[k] <= 0:\n",
    "        inds_stable.append(k)\n",
    "\n",
    "inds_stable = np.array(inds_stable)\n",
    "delta_stable = delta_arr0[inds_stable]\n",
    "Omega_stable = Omega_roots0[inds_stable]"
   ]
  },
  {
   "cell_type": "markdown",
   "metadata": {},
   "source": [
    "# Plot"
   ]
  },
  {
   "cell_type": "markdown",
   "metadata": {},
   "source": [
    "## Options"
   ]
  },
  {
   "cell_type": "code",
   "execution_count": 11,
   "metadata": {},
   "outputs": [],
   "source": [
    "# Plot positions [left, bottom, width, height] \n",
    "bbox0 = [0.15, 0.7, 0.35, 0.20]  # Fig 2a: Derivative plots\n",
    "bbox1 = [0.15, 0.4, 0.35, 0.20]  # Fig 2b: sin(phase) plots\n",
    "bbox2 = [0.15, 0.1, 0.35, 0.20] # Fig 2c: Delay plots\n",
    "bbox3 = [0.60, 0.1, 0.45, 0.5] # Fig 2d: Iterated trial plot\n",
    "bbox4 = [0.60, 0.7, 0.45, 0.2] # Fig 2d: Iterated trial plot\n",
    "\n",
    "# Figure a,b,c lines\n",
    "line_opts = {'linewidth': 1.2,\n",
    "             'alpha': 0.4\n",
    "            }\n",
    "\n",
    "tf = np.max(trial1['t'])\n",
    "\n",
    "# Dotted lines (linking initial to asy points in fig.d)\n",
    "dotopts = {'linestyle': '-',\n",
    "           'linewidth': 0.5,\n",
    "           'marker': None,\n",
    "           'color': 'black',\n",
    "           'alpha': 0.5\n",
    "          }\n",
    "\n",
    "# Sample which delay indices to plot:\n",
    "NN = trial1['tau'].shape[1]\n",
    "num_inds = 50\n",
    "inds = np.random.choice(np.arange(NN), size=num_inds, replace=False)\n",
    "\n",
    "# Histogram\n",
    "L_dist = 5*np.sqrt(np.var(cen_phases))\n",
    "bins_dist = np.linspace(-L_dist, L_dist, num=30)"
   ]
  },
  {
   "cell_type": "markdown",
   "metadata": {},
   "source": [
    "## Generate figure"
   ]
  },
  {
   "cell_type": "code",
   "execution_count": 12,
   "metadata": {
    "scrolled": false
   },
   "outputs": [
    {
     "name": "stdout",
     "output_type": "stream",
     "text": [
      "Shapiro-Wilk Test p-value: 0.26228031516075134\n",
      "{'g': 1.5, 'omega0': 1, 'tau0': 0.1, 'gain': 50}\n"
     ]
    },
    {
     "data": {
      "image/png": "[encoded data removed]",
      "text/plain": [
       "<Figure size 960x800 with 5 Axes>"
      ]
     },
     "metadata": {},
     "output_type": "display_data"
    }
   ],
   "source": [
    "fig, ax = plt.subplots(5, figsize=(12,10), dpi=80)\n",
    "\n",
    "# Set positions\n",
    "ax[0].set_position(bbox0)\n",
    "ax[1].set_position(bbox1)\n",
    "ax[2].set_position(bbox2)\n",
    "ax[3].set_position(bbox3)\n",
    "ax[4].set_position(bbox4)\n",
    "\n",
    "# Trial 1:\n",
    "ax[0].plot(trial1['t'], trial1['yp'], **line_opts)\n",
    "ax[1].plot(trial1['t'], np.sin(trial1['phases']), **line_opts)\n",
    "ax[2].plot(trial1['t'], trial1['tau'][:,inds], **line_opts)\n",
    "\n",
    "ax[0].axhline(y=dict_ex['w0'], color='green', alpha=0.8, linewidth=1.5)\n",
    "\n",
    "for k in range(init_freqs.size):\n",
    "    p1 = np.array([init_freqs[k], asy_freqs[k]])\n",
    "    p2 = np.array([init_stds[k], asy_stds[k]])\n",
    "    ax[3].plot(p1, p2, **dotopts, zorder=-2)\n",
    "\n",
    "ax[3].plot(Omega_roots, delta_arr, color='blue', alpha=0.4, zorder=-4)\n",
    "ax[3].plot(Omega_stable, delta_stable, color='green', linewidth=3.0, zorder=-3)\n",
    "ax[3].scatter(init_freqs, init_stds, color='orange', zorder=-1)\n",
    "ax[3].scatter(asy_freqs, asy_stds, color='magenta', zorder=1)\n",
    "\n",
    "ax[3].axvline(x=dict_ex['w0'], color='green', alpha=0.5, zorder=-2)\n",
    "ax[3].axhline(y=0, color='black', alpha=0.5, linewidth=0.5, zorder=-2)\n",
    "\n",
    "\n",
    "ax[4].hist(cen_phases, bins=bins_dist)\n",
    "\n",
    "# Adjustments to axes\n",
    "ax[0].set_xlim(left=np.min(trial1['t']), right=tf)\n",
    "ax[1].set_xlim(left=np.min(trial1['t']), right=tf)\n",
    "ax[2].set_xlim(left=np.min(trial1['t']), right=tf)\n",
    "\n",
    "print(\"Shapiro-Wilk Test p-value: \" + str(stats.shapiro(cen_phases)[1])) # High p-value implies normal distribution\n",
    "print(param)"
   ]
  },
  {
   "cell_type": "code",
   "execution_count": 13,
   "metadata": {},
   "outputs": [
    {
     "name": "stdout",
     "output_type": "stream",
     "text": [
      "blue freq: 0.7548675374459954, initial phase std: 0.8145674353940524\n"
     ]
    }
   ],
   "source": [
    "print(trial1['color'] + ' freq: ' + str(trial1['asy_Omega']) + ', initial phase std: ' + str(trial1['std']))"
   ]
  },
  {
   "cell_type": "code",
   "execution_count": 14,
   "metadata": {},
   "outputs": [
    {
     "data": {
      "text/plain": [
       "(-0.09194562295392783, 0.06907992824648583, 0.7548675374459954)"
      ]
     },
     "execution_count": 14,
     "metadata": {},
     "output_type": "execute_result"
    }
   ],
   "source": [
    "Omega_fun(asy_freqs[0], asy_stds[0]**2), asy_stds[1], asy_freqs[1]"
   ]
  },
  {
   "cell_type": "code",
   "execution_count": 15,
   "metadata": {},
   "outputs": [
    {
     "data": {
      "text/plain": [
       "30"
      ]
     },
     "execution_count": 15,
     "metadata": {},
     "output_type": "execute_result"
    }
   ],
   "source": [
    "N"
   ]
  },
  {
   "cell_type": "code",
   "execution_count": null,
   "metadata": {},
   "outputs": [],
   "source": []
  }
 ],
 "metadata": {
  "kernelspec": {
   "display_name": "Python 3",
   "language": "python",
   "name": "python3"
  },
  "language_info": {
   "codemirror_mode": {
    "name": "ipython",
    "version": 3
   },
   "file_extension": ".py",
   "mimetype": "text/x-python",
   "name": "python",
   "nbconvert_exporter": "python",
   "pygments_lexer": "ipython3",
   "version": "3.6.5"
  }
 },
 "nbformat": 4,
 "nbformat_minor": 2
}
