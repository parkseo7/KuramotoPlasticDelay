{
 "cells": [
  {
   "cell_type": "markdown",
   "metadata": {},
   "source": [
    "# Libraries"
   ]
  },
  {
   "cell_type": "code",
   "execution_count": null,
   "metadata": {},
   "outputs": [],
   "source": [
    "from __future__ import division, print_function\n",
    "from importlib import import_module\n",
    "\n",
    "import os\n",
    "import sys\n",
    "import numpy as np\n",
    "from numpy import linalg\n",
    "from numpy.polynomial.polynomial import polyval\n",
    "import scipy.io as sio\n",
    "import matplotlib.pyplot as plt\n",
    "import math\n",
    "from math import pi\n",
    "\n",
    "# Import tqdm (progress bar)\n",
    "try:\n",
    "    library = import_module('tqdm')\n",
    "except:\n",
    "    print(sys.exc_info())\n",
    "else:\n",
    "    globals()['tqdm'] = library\n",
    "\n",
    "from lib import *\n",
    "\n",
    "from IPython.display import clear_output\n",
    "%matplotlib inline"
   ]
  },
  {
   "cell_type": "markdown",
   "metadata": {},
   "source": [
    "# Directories"
   ]
  },
  {
   "cell_type": "code",
   "execution_count": null,
   "metadata": {},
   "outputs": [],
   "source": [
    "# Data files\n",
    "name_folder_im = 'matlab5'\n",
    "name_folder_ex = 'export'\n",
    "\n",
    "name_file_ex = 'stability_ex'\n",
    "\n",
    "# Directory\n",
    "dir_main = os.getcwd()\n",
    "dir_folder_im = os.path.join(dir_main, 'data', name_folder_im)\n",
    "dir_folder_ex = os.path.join(dir_main, 'data', name_folder_ex)\n",
    "\n",
    "dir_file_ex = os.path.join(dir_folder_ex, name_file_ex)\n",
    "\n",
    "# List files\n",
    "mat_list = os.listdir(dir_folder_im)"
   ]
  },
  {
   "cell_type": "markdown",
   "metadata": {},
   "source": [
    "# Process Data"
   ]
  },
  {
   "cell_type": "code",
   "execution_count": null,
   "metadata": {},
   "outputs": [],
   "source": [
    "# Change gain, T, get stability response\n"
   ]
  }
 ],
 "metadata": {
  "kernelspec": {
   "display_name": "Python 3",
   "language": "python",
   "name": "python3"
  },
  "language_info": {
   "codemirror_mode": {
    "name": "ipython",
    "version": 3
   },
   "file_extension": ".py",
   "mimetype": "text/x-python",
   "name": "python",
   "nbconvert_exporter": "python",
   "pygments_lexer": "ipython3",
   "version": "3.6.5"
  }
 },
 "nbformat": 4,
 "nbformat_minor": 2
}
