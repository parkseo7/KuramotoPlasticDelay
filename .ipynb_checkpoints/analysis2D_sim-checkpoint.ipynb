{
 "cells": [
  {
   "cell_type": "markdown",
   "metadata": {},
   "source": [
    "# About\n",
    "\n",
    "Comparing theoretical analysis with numeric results in a simplified 2-dimensional Kuramoto system with adaptive delays and no\n",
    "self-feedback interactions. Use exported trials from the MATLAB script 'script2D_iter.m'"
   ]
  },
  {
   "cell_type": "markdown",
   "metadata": {},
   "source": [
    "# Library"
   ]
  },
  {
   "cell_type": "code",
   "execution_count": 1,
   "metadata": {},
   "outputs": [],
   "source": [
    "from __future__ import division, print_function\n",
    "\n",
    "%matplotlib inline\n",
    "# Toggle on/off\n",
    "# %matplotlib notebook\n",
    "\n",
    "import os\n",
    "import numpy as np\n",
    "import scipy.io as sio\n",
    "from scipy import optimize\n",
    "import matplotlib.pyplot as plt\n",
    "from mpl_toolkits.mplot3d import Axes3D\n",
    "import matplotlib.transforms as tsfm\n",
    "import math\n",
    "from math import pi\n",
    "\n",
    "from lib import *\n",
    "\n",
    "from IPython.display import clear_output"
   ]
  },
  {
   "cell_type": "markdown",
   "metadata": {},
   "source": [
    "# Directories"
   ]
  },
  {
   "cell_type": "code",
   "execution_count": 2,
   "metadata": {},
   "outputs": [],
   "source": [
    "# Data files\n",
    "import_folder = 'matlab2D_multi'\n",
    "export_folder = 'export'\n",
    "ex_name = '2D_process'\n",
    "\n",
    "# Directory\n",
    "dir_main = os.getcwd()\n",
    "dir_im = os.path.join(dir_main, 'data', import_folder)\n",
    "dir_ex = os.path.join(dir_main, 'data', export_folder)\n",
    "\n",
    "filenames = os.listdir(dir_im)"
   ]
  },
  {
   "cell_type": "markdown",
   "metadata": {},
   "source": [
    "# Import and compile data"
   ]
  },
  {
   "cell_type": "markdown",
   "metadata": {},
   "source": [
    "## Constant parameters"
   ]
  },
  {
   "cell_type": "code",
   "execution_count": null,
   "metadata": {},
   "outputs": [],
   "source": [
    "dir_sam = os.path.join(dir_im, filesnames[0])\n",
    "dict_mat = sio.loadmat(dir_sam)\n",
    "\n",
    "param = {'g': dict_mat['g'][0,0],\n",
    "         'omega0': dict_mat['omega0'][0,0],\n",
    "         'gain': dict_mat['gain'][0,0],\n",
    "         't0': dict_mat['t0'][0,0],\n",
    "         'tf': dict_mat['tf'][0,0],\n",
    "         'tau0': np.reshape(dict_mat['tau0'], -1),\n",
    "         }\n",
    "\n",
    "# Asymptotic percentage\n",
    "asy = 0.1"
   ]
  },
  {
   "cell_type": "markdown",
   "metadata": {},
   "source": [
    "## Asymptotic values"
   ]
  },
  {
   "cell_type": "code",
   "execution_count": null,
   "metadata": {},
   "outputs": [],
   "source": [
    "# Compiled arrays\n",
    "init_freqs = np.zeros(len(filenames))\n",
    "init_Deltas = np.zeros(len(filenames))\n",
    "asy_freqs = np.zeros(len(filenames))\n",
    "asy_Deltas = np.zeros(len(filenames))\n",
    "var_freqs = np.zeros(len(filenames))\n",
    "\n",
    "for i in range(len(filenames)):\n",
    "    \n",
    "    # Import .mat file\n",
    "    dir_mat = os.path.join(dir_im, filesnames[i])\n",
    "    dict_mat = sio.loadmat(dir_mat)\n",
    "    \n",
    "    # Compile solution dictionary\n",
    "    sol = {'t': np.reshape(dict_mat['t'], -1),\n",
    "           'y': dict_mat['y'],\n",
    "           'yp': dict_mat['yp'],\n",
    "           'tau': dict_mat['tau'],\n",
    "           'taup': dict_mat['taup']\n",
    "          }\n",
    "    \n",
    "    init_freq = dict_mat['init_freq'][0,0]\n",
    "    init_Delta = dict_mat['Delta0'][0,0]\n",
    "    \n",
    "    # Compute the global frequency:\n",
    "    arr_omega = asylib.weight_avg(sol['t'], sol['yp'], asy)\n",
    "    asy_Omega = np.sum(arr_omega) / arr_omega.size\n",
    "\n",
    "    Omega_vars = asylib.weight_avg(sol['t'], (sol['yp'] - asy_Omega)**2, asy)\n",
    "    Omega_var = np.sum(Omega_vars)\n",
    "\n",
    "    # Get array of asymptotic phases:\n",
    "    arr_lin = Omega*sol['t']\n",
    "    arr_lin = arr_lin[:,None]\n",
    "\n",
    "    arr_phases = sol['y'] - arr_lin\n",
    "    asy_phases = asylib.weight_avg(sol['t'], arr_phases, asy)\n",
    "\n",
    "    # Variance\n",
    "    phase_vars = asylib.weight_avg(sol['t'], (arr_phases - asy_phases)**2, asy)\n",
    "    phase_var = np.sum(phase_vars)\n",
    "    \n",
    "    # SAVE TO ARRAYS\n",
    "    init_freqs[i] = init_freq\n",
    "    init_Deltas[i] = init_Delta\n",
    "    asy_freqs[i] = Omega\n",
    "    asy_Deltas[i] = np.abs(asy_phases[1] - asy_phases[0])\n",
    "    var_freqs[i] = Omega_var"
   ]
  },
  {
   "cell_type": "markdown",
   "metadata": {},
   "source": [
    "## Theoretical synchronization states"
   ]
  },
  {
   "cell_type": "code",
   "execution_count": null,
   "metadata": {},
   "outputs": [],
   "source": [
    "# Fixed-point functions\n",
    "Omega_fun = lambda Omega: funlib.Omega2D(Omega, param['tau0'], param)[0]\n",
    "Delta_fun = lambda Omega: funlib.Omega2D(Omega, param['tau0'], param)[1]\n",
    "\n",
    "# Parameters\n",
    "w0 = param['omega0']\n",
    "g = param['g']\n",
    "tau0 = param['tau0']\n",
    "\n",
    "# Get all roots of Omega_fun in region\n",
    "Omega_roots = rootlib.root_on_interval(Omega_fun, w0-g/2, w0+g/2, steps=500)\n",
    "Delta_roots = np.zeros(Omega_roots.size)\n",
    "\n",
    "for i in range(Omega_roots.size):\n",
    "    Delta_roots[i] = Delta_fun(Omega_roots[i])"
   ]
  },
  {
   "cell_type": "markdown",
   "metadata": {},
   "source": [
    "## Export"
   ]
  },
  {
   "cell_type": "code",
   "execution_count": null,
   "metadata": {},
   "outputs": [],
   "source": [
    "# Define export dictionary\n",
    "ex_mat = {'eq_freqs': Omega_roots,\n",
    "          'eq_Deltas': Delta_roots,\n",
    "          'init_freqs': init_freqs,\n",
    "          'init_Deltas': init_Deltas,\n",
    "          'asy_freqs': asy_freqs,\n",
    "          'asy_Deltas': asy_Deltas,\n",
    "          'var_freqs': var_freqs\n",
    "          }\n",
    "\n",
    "# Copy parameters\n",
    "for par in param.keys():\n",
    "    ex_mat[par] = param[par]\n",
    "\n",
    "# Export to .mat (export folder)\n",
    "dir_exfile = os.path.join(dir_ex, ex_name)\n",
    "sio.savemat(dir_exfile, ex_mat)"
   ]
  },
  {
   "cell_type": "markdown",
   "metadata": {},
   "source": [
    "# Plot\n",
    "\n",
    "Skip to here if the data has already been processed."
   ]
  },
  {
   "cell_type": "code",
   "execution_count": null,
   "metadata": {},
   "outputs": [],
   "source": [
    "# Import arrays and values\n",
    "dir_exfile = os.path.join(dir_ex, ex_name)\n",
    "dict_ex = sio.loadmat(dir_exfile)\n",
    "\n",
    "eq_freqs = np.reshape(dict_ex['eq_freqs'], -1)\n",
    "eq_Deltas = np.reshape(dict_ex['eq_Deltas'], -1)\n",
    "init_freqs = np.reshape(dict_ex['init_freqs'], -1)\n",
    "init_Deltas = np.reshape(dict_ex['init_Deltas'], -1)\n",
    "asy_freqs = np.reshape(dict_ex['asy_freqs'], -1)\n",
    "asy_Deltas = np.reshape(dict_ex['asy_Deltas'], -1)\n",
    "fig, ax = plt.subplots(1, figsize=(7,5))\n",
    "\n",
    "ax.scatter(init_freqs, init_Deltas, color='orange')\n",
    "ax.scatter(asy_freqs, asy_Deltas, color='green')\n",
    "ax.scatter(eq_freqs, eq_Deltas, color='blue')"
   ]
  }
 ],
 "metadata": {
  "kernelspec": {
   "display_name": "Python 3",
   "language": "python",
   "name": "python3"
  },
  "language_info": {
   "codemirror_mode": {
    "name": "ipython",
    "version": 3
   },
   "file_extension": ".py",
   "mimetype": "text/x-python",
   "name": "python",
   "nbconvert_exporter": "python",
   "pygments_lexer": "ipython3",
   "version": "3.6.5"
  }
 },
 "nbformat": 4,
 "nbformat_minor": 2
}
