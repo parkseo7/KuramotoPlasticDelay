{
 "cells": [
  {
   "cell_type": "markdown",
   "metadata": {},
   "source": [
    "# About\n",
    "\n",
    "Numerical plots pertaining to trials of a simplified 2-dim Kuramoto system with adaptive delays and no self-feedback links. Requires a folder of .mat files from the the following scripts:\n",
    " - script2D_iter.m\n",
    "\n",
    "Uses the following packages and functions:"
   ]
  },
  {
   "cell_type": "markdown",
   "metadata": {},
   "source": [
    "# Library"
   ]
  },
  {
   "cell_type": "code",
   "execution_count": 1,
   "metadata": {},
   "outputs": [],
   "source": [
    "from __future__ import division, print_function\n",
    "\n",
    "%matplotlib inline\n",
    "# Toggle on/off\n",
    "# %matplotlib notebook\n",
    "\n",
    "import os\n",
    "import numpy as np\n",
    "import scipy.io as sio\n",
    "from scipy import optimize\n",
    "import matplotlib.cm as cm\n",
    "import matplotlib.pyplot as plt\n",
    "import matplotlib.transforms as tsfm\n",
    "import math\n",
    "from math import pi\n",
    "\n",
    "from lib import *\n",
    "\n",
    "from IPython.display import clear_output"
   ]
  },
  {
   "cell_type": "markdown",
   "metadata": {},
   "source": [
    "# Directories"
   ]
  },
  {
   "cell_type": "code",
   "execution_count": 2,
   "metadata": {},
   "outputs": [],
   "source": [
    "# Data files (for fig.4d)\n",
    "import_folder = 'matlab_fig4_2'\n",
    "export_folder = 'export'\n",
    "ex_name = 'process_fig4'\n",
    "\n",
    "# Directory\n",
    "dir_main = os.getcwd()\n",
    "dir_im = os.path.join(dir_main, 'data2', import_folder)\n",
    "dir_ex = os.path.join(dir_main, 'data2', export_folder)\n",
    "\n",
    "filenames = os.listdir(dir_im)"
   ]
  },
  {
   "cell_type": "markdown",
   "metadata": {},
   "source": [
    "# Import and compile data"
   ]
  },
  {
   "cell_type": "markdown",
   "metadata": {},
   "source": [
    "## Constant parameters"
   ]
  },
  {
   "cell_type": "code",
   "execution_count": 3,
   "metadata": {},
   "outputs": [],
   "source": [
    "dir_sam = os.path.join(dir_im, filenames[0])\n",
    "dict_mat = sio.loadmat(dir_sam)\n",
    "\n",
    "param = {'g': dict_mat['g'][0,0],\n",
    "         'omega0': dict_mat['omega0'][0,0],\n",
    "         'gain': dict_mat['gain'][0,0],\n",
    "         'tf': dict_mat['tf'][0,0],\n",
    "         'tau0': dict_mat['tau0'][0,0],\n",
    "         }\n",
    "\n",
    "# Asymptotic percentage\n",
    "asy = 0.1"
   ]
  },
  {
   "cell_type": "markdown",
   "metadata": {},
   "source": [
    "## Asymptotic values"
   ]
  },
  {
   "cell_type": "code",
   "execution_count": 4,
   "metadata": {},
   "outputs": [],
   "source": [
    "# Compiled arrays\n",
    "init_freqs = np.zeros(len(filenames))\n",
    "init_Deltas = np.zeros(len(filenames))\n",
    "asy_freqs = np.zeros(len(filenames))\n",
    "asy_Deltas = np.zeros(len(filenames))\n",
    "var_freqs = np.zeros(len(filenames))\n",
    "BV_time = np.zeros(len(filenames)) # Time when Bounded Variation < tol\n",
    "\n",
    "BV_tol = 0.025\n",
    "\n",
    "# Choose two trials to use for figure D, in accordance to initial values\n",
    "trial1_freq = 0.8\n",
    "trial1_Delta0 = 0.4\n",
    "\n",
    "trial2_freq = 1.4\n",
    "trial2_Delta0 = 0.9\n",
    "\n",
    "trial1_file = '' # purple\n",
    "trial2_file = '' # orange\n",
    "\n",
    "DIST1_MIN = 100\n",
    "DIST2_MIN = 100\n",
    "\n",
    "for i in range(len(filenames)):\n",
    "    \n",
    "    # Import .mat file\n",
    "    dir_mat = os.path.join(dir_im, filenames[i])\n",
    "    dict_mat = sio.loadmat(dir_mat)\n",
    "    \n",
    "    # Compile solution dictionary\n",
    "    sol = {'t': np.reshape(dict_mat['t'], -1),\n",
    "           'y': dict_mat['y'],\n",
    "           'yp': dict_mat['yp'],\n",
    "           'tau': dict_mat['tau'],\n",
    "           'taup': dict_mat['taup']\n",
    "          }\n",
    "    \n",
    "    init_freq = dict_mat['init_freq'][0,0]\n",
    "    init_Delta = dict_mat['Delta0'][0,0]\n",
    "    \n",
    "    # Compute the global frequency:\n",
    "    arr_omega = asylib.weight_avg(sol['t'], sol['yp'], asy)\n",
    "    asy_Omega = np.sum(arr_omega) / arr_omega.size\n",
    "\n",
    "    Omega_vars = asylib.weight_avg(sol['t'], (sol['yp'] - asy_Omega)**2, asy)\n",
    "    Omega_var = np.sum(Omega_vars)\n",
    "\n",
    "    # Get array of asymptotic phases:\n",
    "    arr_lin = asy_Omega*sol['t']\n",
    "    arr_lin = arr_lin[:,None]\n",
    "\n",
    "    arr_phases = sol['y'] - arr_lin\n",
    "    asy_phases = asylib.weight_avg(sol['t'], arr_phases, asy)\n",
    "\n",
    "    # Variance\n",
    "    phase_vars = asylib.weight_avg(sol['t'], (arr_phases - asy_phases)**2, asy)\n",
    "    phase_var = np.sum(phase_vars)\n",
    "    \n",
    "    # Bounded variation\n",
    "    BV_frac = 0.05\n",
    "    t_int = BV_frac * param['tf']\n",
    "    ind_s = np.argmin(sol['t'][sol['t'] > t_int])\n",
    "    for j in range(ind_s, sol['t'].size-1):\n",
    "        t_s = sol['t'][j]\n",
    "        ind_i = np.argmin(np.abs(sol['t'] - t_s - t_int))\n",
    "        BV1 = np.sum(np.abs(sol['yp'][(i+1):ind_i, 0] - sol['yp'][i:(ind_i-1), 0]))\n",
    "        BV2 = np.sum(np.abs(sol['yp'][(i+1):ind_i, 1] - sol['yp'][i:(ind_i-1), 1]))\n",
    "        new_BV = (BV1 + BV2) / 2\n",
    "        # print(new_BV)\n",
    "        if new_BV < BV_tol:\n",
    "            BV_time[i] = sol['t'][j]\n",
    "            break\n",
    "        \n",
    "    # SAVE TO ARRAYS\n",
    "    init_freqs[i] = init_freq\n",
    "    init_Deltas[i] = init_Delta\n",
    "    asy_freqs[i] = asy_Omega\n",
    "    asy_Deltas[i] = np.abs(asy_phases[1] - asy_phases[0])\n",
    "    var_freqs[i] = Omega_var\n",
    "    \n",
    "    # Find .mat file name closest to either of the two selected trials\n",
    "    DIST1 = np.sqrt((init_freq - trial1_freq)**2 + (init_Delta - trial1_Delta0)**2)\n",
    "    DIST2 = np.sqrt((init_freq - trial2_freq)**2 + (init_Delta - trial2_Delta0)**2)\n",
    "    \n",
    "    if DIST1 < DIST1_MIN:\n",
    "        DIST1_MIN = DIST1\n",
    "        trial1_file = filenames[i]\n",
    "    \n",
    "    if DIST2 < DIST2_MIN:\n",
    "        DIST2_MIN = DIST2\n",
    "        trial2_file = filenames[i]\n",
    "        \n",
    "    # Print statements:\n",
    "    # print(\"Trial: \" + filenames[i] + ', asy.freq = ' + str(asy_Omega) + ', init.freq = ' + str(init_freq))"
   ]
  },
  {
   "cell_type": "markdown",
   "metadata": {},
   "source": [
    "## Theoretical asy values"
   ]
  },
  {
   "cell_type": "code",
   "execution_count": 5,
   "metadata": {},
   "outputs": [],
   "source": [
    "Omega_fun = lambda Omega: funlib.Omega2D(Omega, param)[0]\n",
    "Delta_fun = lambda Omega: funlib.Omega2D(Omega, param)[1]\n",
    "\n",
    "# Parameters\n",
    "w0 = param['omega0']\n",
    "g = param['g']\n",
    "tau0 = param['tau0']\n",
    "\n",
    "# Get all roots of Omega_fun in region\n",
    "Omega_roots = rootlib.root_on_interval(Omega_fun, w0-g/2, w0+g/2, steps=500)\n",
    "Delta_roots = np.zeros(Omega_roots.size)\n",
    "\n",
    "for i in range(Omega_roots.size):\n",
    "    Delta_roots[i] = Delta_fun(Omega_roots[i])"
   ]
  },
  {
   "cell_type": "markdown",
   "metadata": {},
   "source": [
    "## Export"
   ]
  },
  {
   "cell_type": "code",
   "execution_count": 6,
   "metadata": {},
   "outputs": [],
   "source": [
    "# Define export dictionary\n",
    "ex_mat = {'eq_freqs': Omega_roots,\n",
    "          'eq_Deltas': Delta_roots,\n",
    "          'init_freqs': init_freqs,\n",
    "          'init_Deltas': init_Deltas,\n",
    "          'asy_freqs': asy_freqs,\n",
    "          'asy_Deltas': asy_Deltas,\n",
    "          'var_freqs': var_freqs,\n",
    "          'g': param['g'],\n",
    "          'w0': param['omega0'],\n",
    "          'tau0': param['tau0']\n",
    "          }\n",
    "\n",
    "# Copy parameters\n",
    "for par in param.keys():\n",
    "    ex_mat[par] = param[par]\n",
    "\n",
    "# Export to .mat (export folder)\n",
    "dir_exfile = os.path.join(dir_ex, ex_name)\n",
    "sio.savemat(dir_exfile, ex_mat)"
   ]
  },
  {
   "cell_type": "markdown",
   "metadata": {},
   "source": [
    "# Arrays over time\n",
    "\n",
    "Skip to this cell if asymptotic arrays have already been processed."
   ]
  },
  {
   "cell_type": "code",
   "execution_count": 7,
   "metadata": {},
   "outputs": [],
   "source": [
    "# Import from folder2 with at least two trials (converging to different frequencies\n",
    "trial1 = {'color': 'purple', 'name': trial1_file}\n",
    "trial2 = {'color': 'orangered', 'name': trial2_file}"
   ]
  },
  {
   "cell_type": "markdown",
   "metadata": {},
   "source": [
    "### Trial 1"
   ]
  },
  {
   "cell_type": "code",
   "execution_count": 8,
   "metadata": {},
   "outputs": [],
   "source": [
    "dir_mat1 = os.path.join(dir_im, trial1['name'])\n",
    "dict_mat1 = sio.loadmat(dir_mat1, appendmat=False)\n",
    "\n",
    "trial1['t'] = np.reshape(dict_mat1['t'], -1)\n",
    "trial1['y'] = dict_mat1['y']\n",
    "trial1['yp'] = dict_mat1['yp']\n",
    "trial1['tau'] = dict_mat1['tau']\n",
    "trial1['init_freq'] = dict_mat1['init_freq'][0,0]\n",
    "trial1['Delta0'] = dict_mat1['Delta0'][0,0]\n",
    "\n",
    "# Compute the asymptotic arrays\n",
    "arr_omega1 = asylib.weight_avg(trial1['t'], trial1['yp'], asy)\n",
    "asy_Omega1 = np.sum(arr_omega1) / arr_omega1.size\n",
    "\n",
    "\n",
    "sol1 = {'t': np.reshape(dict_mat1['t'], -1),\n",
    "       'y': dict_mat1['y'],\n",
    "       'yp': dict_mat1['yp'],\n",
    "       'tau': dict_mat1['tau'],\n",
    "       'taup': dict_mat1['taup']\n",
    "      }\n",
    "\n",
    "# Get array of asymptotic phases:\n",
    "arr_lin1 = asy_Omega1*sol1['t']\n",
    "arr_lin1 = arr_lin1[:,None]\n",
    "\n",
    "arr_phases1 = trial1['y'] - arr_lin1\n",
    "asy_phases1 = asylib.weight_avg(trial1['t'], arr_phases1, asy)\n",
    "\n",
    "# Store\n",
    "trial1['phases'] = arr_phases1\n",
    "trial1['asy_phases'] = asy_phases1\n",
    "trial1['asy_Delta'] = np.abs(asy_phases1[1] - asy_phases1[0])\n",
    "trial1['asy_Omega'] = asy_Omega1"
   ]
  },
  {
   "cell_type": "markdown",
   "metadata": {},
   "source": [
    "### Trial 2"
   ]
  },
  {
   "cell_type": "code",
   "execution_count": 9,
   "metadata": {},
   "outputs": [],
   "source": [
    "dir_mat2 = os.path.join(dir_im, trial2['name'])\n",
    "dict_mat2 = sio.loadmat(dir_mat2)\n",
    "\n",
    "trial2['t'] = np.reshape(dict_mat2['t'], -1)\n",
    "trial2['y'] = dict_mat2['y']\n",
    "trial2['yp'] = dict_mat2['yp']\n",
    "trial2['tau'] = dict_mat2['tau']\n",
    "trial2['init_freq'] = dict_mat2['init_freq'][0,0]\n",
    "trial2['Delta0'] = dict_mat2['Delta0'][0,0]\n",
    "\n",
    "# Compute the asymptotic arrays\n",
    "arr_omega2 = asylib.weight_avg(trial2['t'], trial2['yp'], asy)\n",
    "asy_Omega2 = np.sum(arr_omega2) / arr_omega2.size\n",
    "\n",
    "\n",
    "sol2 = {'t': np.reshape(dict_mat2['t'], -1),\n",
    "       'y': dict_mat2['y'],\n",
    "       'yp': dict_mat2['yp'],\n",
    "       'tau': dict_mat2['tau'],\n",
    "       'taup': dict_mat2['taup']\n",
    "      }\n",
    "\n",
    "# Get array of asymptotic phases:\n",
    "arr_lin2 = asy_Omega2*sol2['t']\n",
    "arr_lin2 = arr_lin2[:,None]\n",
    "\n",
    "arr_phases2 = trial2['y'] - arr_lin2\n",
    "asy_phases2 = asylib.weight_avg(trial2['t'], arr_phases2, asy)\n",
    "\n",
    "# Store\n",
    "trial2['phases'] = arr_phases2\n",
    "trial2['asy_phases'] = asy_phases2\n",
    "trial2['asy_Delta'] = np.abs(asy_phases2[1] - asy_phases2[0])\n",
    "trial2['asy_Omega'] = asy_Omega2"
   ]
  },
  {
   "cell_type": "markdown",
   "metadata": {},
   "source": [
    "# Asymptotic arrays"
   ]
  },
  {
   "cell_type": "code",
   "execution_count": 10,
   "metadata": {},
   "outputs": [],
   "source": [
    "# Import arrays and values\n",
    "dir_exfile = os.path.join(dir_ex, ex_name)\n",
    "dict_ex = sio.loadmat(dir_exfile)\n",
    "\n",
    "eq_freqs = np.reshape(dict_ex['eq_freqs'], -1)\n",
    "eq_Deltas = np.reshape(dict_ex['eq_Deltas'], -1)\n",
    "init_freqs = np.reshape(dict_ex['init_freqs'], -1)\n",
    "init_Deltas = np.reshape(dict_ex['init_Deltas'], -1)\n",
    "asy_freqs = np.reshape(dict_ex['asy_freqs'], -1)\n",
    "asy_Deltas = np.reshape(dict_ex['asy_Deltas'], -1)\n",
    "\n",
    "# Create mesh for colour map\n",
    "\n",
    "tol = 0.1\n",
    "\n",
    "# Cluster asy_freqs\n",
    "conv_freqs = np.array([asy_freqs[0]])\n",
    "asy_convs = np.array([0])\n",
    "maxerr_convs = np.array([0.])\n",
    "\n",
    "for j in range(1,asy_freqs.size):\n",
    "    ind_conv = np.argmin(np.abs(asy_freqs[j] - conv_freqs))\n",
    "    err_conv = np.min(np.abs(asy_freqs[j] - conv_freqs))\n",
    "    \n",
    "    if err_conv < tol:\n",
    "        asy_convs = np.append(asy_convs, ind_conv)\n",
    "        maxerr_convs[ind_conv] = np.max((maxerr_convs[ind_conv], err_conv))\n",
    "        \n",
    "    else:\n",
    "        conv_freqs = np.append(conv_freqs, asy_freqs[j])\n",
    "        asy_convs = np.append(asy_convs, conv_freqs.size-1)\n",
    "        maxerr_convs = np.append(maxerr_convs, 0.)\n",
    "        \n",
    "freq_arr = np.unique(init_freqs)\n",
    "Delta_arr = np.unique(init_Deltas)\n",
    "\n",
    "freq_mesh, Delta_mesh = np.meshgrid(freq_arr, Delta_arr)\n",
    "c_mesh = np.zeros(freq_mesh.shape)\n",
    "\n",
    "for i in range(init_freqs.size):\n",
    "    # First index Delta, second index freq\n",
    "    ind1 = np.argmin(np.abs(Delta_arr - init_Deltas[i]))\n",
    "    ind2 = np.argmin(np.abs(freq_arr - init_freqs[i]))\n",
    "    \n",
    "    # Convergence frequency\n",
    "    c_mesh[ind1, ind2] = asy_convs[i]"
   ]
  },
  {
   "cell_type": "markdown",
   "metadata": {},
   "source": [
    "# Plot"
   ]
  },
  {
   "cell_type": "markdown",
   "metadata": {},
   "source": [
    "## Options"
   ]
  },
  {
   "cell_type": "code",
   "execution_count": 11,
   "metadata": {},
   "outputs": [],
   "source": [
    "# Plot positions [left, bottom, width, height] \n",
    "bbox0 = [0.15, 0.7, 0.35, 0.20]  # Fig 2a: Derivative plots\n",
    "bbox1 = [0.15, 0.4, 0.35, 0.20]  # Fig 2b: sin(phase) plots\n",
    "bbox2 = [0.15, 0.1, 0.35, 0.20] # Fig 2c: Delay plots\n",
    "bbox3 = [0.60, 0.1, 0.45, 0.8] # Fig 2d: Iterated trial plot\n",
    "\n",
    "# Figure a,b,c lines\n",
    "line_opts = {'linewidth': 1.8,\n",
    "             'alpha': 0.9\n",
    "            }\n",
    "\n",
    "ls1 = (0, (5,1))\n",
    "ls2_1 = (0, (1,3))\n",
    "ls2_2 = (2, (1,3))\n",
    "\n",
    "tf = np.max(trial1['t'])\n",
    "\n",
    "# Dotted lines (linking initial to asy points in fig.d)\n",
    "dotopts = {'linestyle': '-',\n",
    "           'linewidth': 0.9,\n",
    "           'marker': None,\n",
    "           'alpha': 1.0\n",
    "          }\n",
    "\n",
    "omega_opts = {'linewidth': 1.2,\n",
    "              'linestyle': 'solid',\n",
    "              'alpha': 0.8,\n",
    "              'color': 'green'\n",
    "              }\n",
    "\n",
    "\n",
    "num_plot = int(init_freqs.size)\n",
    "freq_absmax = np.max(np.abs(init_freqs - dict_ex['w0']))\n",
    "\n",
    "alpha = 0.4\n",
    "levels = np.linspace(0, 1, 4, endpoint=True)"
   ]
  },
  {
   "cell_type": "markdown",
   "metadata": {},
   "source": [
    "## Generate figure"
   ]
  },
  {
   "cell_type": "code",
   "execution_count": 12,
   "metadata": {
    "scrolled": false
   },
   "outputs": [
    {
     "data": {
      "text/plain": [
       "(0.0, 80.0)"
      ]
     },
     "execution_count": 12,
     "metadata": {},
     "output_type": "execute_result"
    },
    {
     "data": {
      "image/png": "[encoded data removed]",
      "text/plain": [
       "<Figure size 960x640 with 4 Axes>"
      ]
     },
     "metadata": {},
     "output_type": "display_data"
    }
   ],
   "source": [
    "fig, ax = plt.subplots(4, figsize=(12,8), dpi=80)\n",
    "\n",
    "# Set positions\n",
    "ax[0].set_position(bbox0)\n",
    "ax[1].set_position(bbox1)\n",
    "ax[2].set_position(bbox2)\n",
    "ax[3].set_position(bbox3)\n",
    "\n",
    "# Trial 1:\n",
    "ax[0].plot(trial1['t'], trial1['yp'][:,0], color=trial1['color'], linestyle=ls1, **line_opts)\n",
    "ax[1].plot(trial1['t'], np.sin(trial1['phases'])[:,0], color=trial1['color'], linestyle=ls1, **line_opts)\n",
    "ax[2].plot(trial1['t'], trial1['tau'][:,0], color=trial1['color'], linestyle=ls1, **line_opts)\n",
    "\n",
    "ax[0].plot(trial1['t'], trial1['yp'][:,1], color=trial1['color'], linestyle=ls2_1, **line_opts)\n",
    "ax[1].plot(trial1['t'], np.sin(trial1['phases'])[:,1], color=trial1['color'], linestyle=ls2_2, **line_opts)\n",
    "ax[2].plot(trial1['t'], trial1['tau'][:,1], color=trial1['color'], linestyle=ls2_1, **line_opts)\n",
    "\n",
    "# Trial 2:\n",
    "ax[0].plot(trial2['t'], trial2['yp'][:,0], color=trial2['color'], linestyle=ls1, **line_opts)\n",
    "ax[1].plot(trial2['t'], np.sin(trial2['phases'])[:,0], color=trial2['color'], linestyle=ls1, **line_opts)\n",
    "ax[2].plot(trial2['t'], trial2['tau'][:,0], color=trial2['color'], linestyle=ls1, **line_opts)\n",
    "\n",
    "ax[0].plot(trial2['t'], trial2['yp'][:,1], color=trial2['color'], linestyle=ls2_2, **line_opts)\n",
    "ax[1].plot(trial2['t'], np.sin(trial2['phases'])[:,1], color=trial2['color'], linestyle=ls2_2, **line_opts)\n",
    "ax[2].plot(trial2['t'], trial2['tau'][:,1], color=trial2['color'], linestyle=ls2_2, **line_opts)\n",
    "\n",
    "ax[0].axhline(y=dict_ex['w0'], zorder=-1, **omega_opts)\n",
    "\n",
    "# Figure D (colour map):\n",
    "c = ax[3].contourf(Delta_mesh, freq_mesh, 1-c_mesh, levels, cmap='PuOr', alpha=alpha)\n",
    "ax[3].set_yticks(freq_arr, minor=True)\n",
    "ax[3].set_xticks(Delta_arr, minor=True)\n",
    "ax[3].grid(b=True, which='minor', color='grey', zorder=-1)\n",
    "    \n",
    "# ax[3].scatter(init_Deltas[:num_plot], init_freqs[:num_plot], color='orange', zorder=-1)\n",
    "# ax[3].scatter(asy_Deltas[:num_plot], asy_freqs[:num_plot], color='magenta', zorder=1)\n",
    "# ax[3].scatter(eq_Deltas, eq_freqs, color='blue', zorder=2)\n",
    "\n",
    "# Trials, init\n",
    "ax[3].scatter(trial1['Delta0'], trial1['init_freq'], color=trial1['color'], s=50, zorder=2)\n",
    "ax[3].scatter(trial2['Delta0'], trial2['init_freq'], color=trial2['color'], s=50, zorder=2)\n",
    "\n",
    "# Trials, asy\n",
    "ax[3].scatter(trial1['asy_Delta'], trial1['asy_Omega'], color=trial1['color'], s=150, marker='*', zorder=2)\n",
    "ax[3].scatter(trial2['asy_Delta'], trial2['asy_Omega'], color=trial2['color'], s=150, marker='*', zorder=2)\n",
    "\n",
    "# Lines\n",
    "p1 = np.array([trial1['Delta0'], trial1['asy_Delta']])\n",
    "p2 = np.array([trial1['init_freq'], trial1['asy_Omega']])\n",
    "p3 = np.array([trial2['Delta0'], trial2['asy_Delta']])\n",
    "p4 = np.array([trial2['init_freq'], trial2['asy_Omega']])\n",
    "\n",
    "ax[3].plot(p1, p2, **dotopts, color=trial1['color'], zorder=2)\n",
    "ax[3].plot(p3, p4, **dotopts, color=trial2['color'], zorder=2)\n",
    "\n",
    "# Arrows\n",
    "POS1_x = lambda t: trial1['Delta0'] * t + trial1['asy_Delta'] * (1 - t)\n",
    "POS1_y = lambda t: trial1['init_freq'] * t + trial1['asy_Omega'] * (1 - t)\n",
    "\n",
    "POS2_x = lambda t: trial2['Delta0'] * t + trial2['asy_Delta'] * (1 - t)\n",
    "POS2_y = lambda t: trial2['init_freq'] * t + trial2['asy_Omega'] * (1 - t)\n",
    "\n",
    "P1x_1 = POS1_x(0.44)\n",
    "P1x_2 = POS1_x(0.40)\n",
    "P1y_1 = POS1_y(0.44)\n",
    "P1y_2 = POS1_y(0.40)\n",
    "\n",
    "P2x_1 = POS2_x(0.44)\n",
    "P2x_2 = POS2_x(0.40)\n",
    "P2y_1 = POS2_y(0.44)\n",
    "P2y_2 = POS2_y(0.40)\n",
    "\n",
    "ax[3].arrow(P1x_1, P1y_1, P1x_2 - P1x_1, P1y_2 - P1y_1, \n",
    "            shape='full', lw=0, length_includes_head=True, \n",
    "            head_width=.02, color=trial1['color'], zorder=3)\n",
    "\n",
    "ax[3].arrow(P2x_1, P2y_1, P2x_2 - P2x_1, P2y_2 - P2y_1, \n",
    "            shape='full', lw=0, length_includes_head=True, \n",
    "            head_width=.02, color=trial2['color'], zorder=3)\n",
    "\n",
    "# Extra lines\n",
    "ax[3].axhline(y=dict_ex['w0'], color='green', alpha=0.9, linewidth=2.0, zorder=3)\n",
    "ax[3].axvline(x=0, color='black', alpha=0.5, linewidth=0.5, zorder=3)\n",
    "\n",
    "# Graph bounds\n",
    "ax[3].set_ylim(bottom=np.min(init_freqs), top=np.max(init_freqs))\n",
    "ax[3].set_xlim(left=np.min(init_Deltas), right=np.max(init_Deltas))\n",
    "\n",
    "# ax[3].set_xlim(left= -0.2*np.max(init_Deltas), right=1.2*np.max(init_Deltas))\n",
    "# ax[3].set_ylim(bottom=dict_ex['w0'] - 1.1*freq_absmax, top=dict_ex['w0'] + 1.1*freq_absmax)\n",
    "\n",
    "# Adjustments to axes\n",
    "ax[0].set_xlim(left=np.min(trial1['t']), right=tf)\n",
    "ax[1].set_xlim(left=np.min(trial1['t']), right=tf)\n",
    "ax[2].set_xlim(left=np.min(trial1['t']), right=tf)\n",
    "\n",
    "# Additional lines\n",
    "# ax[3].axhline(y=eq_freqs[0], xmax=0.48, color = 'blue', ls='dashed', zorder=-2)\n",
    "# ax[3].axhline(y=eq_freqs[1], xmax=0.35, color = 'blue', ls='dashed', zorder=-2)\n",
    "# ax[3].axhline(y=eq_freqs[2], xmax=0.22, color = 'blue', ls='dashed', zorder=-2)"
   ]
  },
  {
   "cell_type": "code",
   "execution_count": 13,
   "metadata": {},
   "outputs": [
    {
     "name": "stdout",
     "output_type": "stream",
     "text": [
      "purple freq: 0.915792477669723, initial phase diff: 0.4\n",
      "orangered freq: 0.6253660784497217, initial phase diff: 0.9\n"
     ]
    }
   ],
   "source": [
    "print(trial1['color'] + ' freq: ' + str(trial1['asy_Omega']) + ', initial phase diff: ' + str(trial1['Delta0']))\n",
    "print(trial2['color'] + ' freq: ' + str(trial2['asy_Omega']) + ', initial phase diff: ' + str(trial2['Delta0']))"
   ]
  },
  {
   "cell_type": "code",
   "execution_count": 14,
   "metadata": {},
   "outputs": [
    {
     "data": {
      "text/plain": [
       "array([0., 0., 0., 0., 0., 0., 0., 0., 0., 0., 0., 0., 0., 0., 0., 0., 0.,\n",
       "       0., 0., 0., 0., 0., 0., 0., 0., 0., 0., 0., 0., 0., 0., 0., 0., 0.,\n",
       "       0., 0., 0., 0., 0., 0., 0., 0., 0., 0., 0., 0., 0., 0., 0., 0., 0.,\n",
       "       0., 0., 0., 0., 0., 0., 0., 0., 0., 0., 0., 0., 0., 0., 0., 0., 0.,\n",
       "       0., 0., 0., 0., 0., 0., 0., 0., 0., 0., 0., 0., 0., 0., 0., 0., 0.,\n",
       "       0., 0., 0., 0., 0., 0., 0., 0., 0., 0., 0., 0., 0., 0., 0., 0., 0.,\n",
       "       0., 0., 0., 0., 0., 0., 0., 0., 0., 0., 0., 0., 0., 0., 0., 0., 0.,\n",
       "       0., 0., 0., 0., 0., 0., 0., 0., 0., 0., 0.])"
      ]
     },
     "execution_count": 14,
     "metadata": {},
     "output_type": "execute_result"
    }
   ],
   "source": [
    "BV_time"
   ]
  },
  {
   "cell_type": "code",
   "execution_count": null,
   "metadata": {},
   "outputs": [],
   "source": []
  }
 ],
 "metadata": {
  "kernelspec": {
   "display_name": "Python 3",
   "language": "python",
   "name": "python3"
  },
  "language_info": {
   "codemirror_mode": {
    "name": "ipython",
    "version": 3
   },
   "file_extension": ".py",
   "mimetype": "text/x-python",
   "name": "python",
   "nbconvert_exporter": "python",
   "pygments_lexer": "ipython3",
   "version": "3.6.5"
  }
 },
 "nbformat": 4,
 "nbformat_minor": 2
}
